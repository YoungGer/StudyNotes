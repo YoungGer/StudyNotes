{
 "cells": [
  {
   "cell_type": "markdown",
   "metadata": {},
   "source": [
    "# Count and Say\n",
    "\n",
    "难度：简单  \n",
    "考点：字符串\n",
    "\n",
    "收获：\n",
    "\n",
    "- 首先先把一个字符串分解，然后找到下个字符串与这个字符串对应的关系。最后递归求解。\n",
    "\n",
    "\n",
    "问题描述：\n",
    "\n",
    "The count-and-say sequence is the sequence of integers beginning as follows:  \n",
    "1, 11, 21, 1211, 111221, ...\n",
    "\n",
    "1 is read off as \"one 1\" or 11.  \n",
    "11 is read off as \"two 1s\" or 21.  \n",
    "21 is read off as \"one 2, then one 1\" or 1211.    \n",
    "Given an integer n, generate the nth sequence.  \n",
    "\n",
    "Note: The sequence of integers will be represented as a string."
   ]
  },
  {
   "cell_type": "code",
   "execution_count": 46,
   "metadata": {
    "collapsed": true
   },
   "outputs": [],
   "source": [
    "def stringResolve(x):\n",
    "    \"\"\"\n",
    "    :type x: str\n",
    "    :rtype: list of tuples [(freq,value)]\n",
    "    \"\"\"\n",
    "    l = []\n",
    "    key = x[0]\n",
    "    count = 1\n",
    "    for i in x[1:]:\n",
    "        if i==key:\n",
    "            count+=1\n",
    "        else:\n",
    "            # 储存值\n",
    "            l.append((str(count),key))\n",
    "            # 为下次迭代准备\n",
    "            key = i\n",
    "            count = 1\n",
    "    # 储存值\n",
    "    l.append((str(count),key))\n",
    "    return l\n",
    "\n",
    "def getNextString(x):\n",
    "    l = stringResolve(x)\n",
    "    l = [i[0]+i[1] for i in l]\n",
    "    ret = ''\n",
    "    for i in l:\n",
    "        ret += i\n",
    "    return ret"
   ]
  },
  {
   "cell_type": "code",
   "execution_count": 39,
   "metadata": {
    "collapsed": false,
    "scrolled": true
   },
   "outputs": [],
   "source": [
    "def countAndSay(n):\n",
    "    \"\"\"\n",
    "    :type n: int\n",
    "    :rtype: str\n",
    "    \"\"\"\n",
    "    nxt = '1'\n",
    "    i = 1\n",
    "    while(i<n):\n",
    "        nxt = getNextString(nxt)\n",
    "        i += 1\n",
    "    return nxt"
   ]
  },
  {
   "cell_type": "code",
   "execution_count": 47,
   "metadata": {
    "collapsed": false
   },
   "outputs": [
    {
     "data": {
      "text/plain": [
       "0.2857142857142857"
      ]
     },
     "execution_count": 47,
     "metadata": {},
     "output_type": "execute_result"
    }
   ],
   "source": [
    "(0.1*0.09*0.5+0.1*0.01*0.9)/(0.1*0.09*0.5+0.1*0.01*0.9+0.1*0.09*0.9+0.6*0.01*0.9)"
   ]
  },
  {
   "cell_type": "code",
   "execution_count": 48,
   "metadata": {
    "collapsed": false
   },
   "outputs": [
    {
     "data": {
      "text/plain": [
       "0.14285714285714288"
      ]
     },
     "execution_count": 48,
     "metadata": {},
     "output_type": "execute_result"
    }
   ],
   "source": [
    "(0.01*0.1*0.9)/(0.01*0.1*0.9+0.01*0.9*0.6)"
   ]
  }
 ],
 "metadata": {
  "kernelspec": {
   "display_name": "Python 2",
   "language": "python",
   "name": "python2"
  },
  "language_info": {
   "codemirror_mode": {
    "name": "ipython",
    "version": 2
   },
   "file_extension": ".py",
   "mimetype": "text/x-python",
   "name": "python",
   "nbconvert_exporter": "python",
   "pygments_lexer": "ipython2",
   "version": "2.7.12"
  }
 },
 "nbformat": 4,
 "nbformat_minor": 0
}
