{
 "cells": [
  {
   "cell_type": "markdown",
   "metadata": {},
   "source": [
    "You are a professional robber planning to rob houses along a street. Each house has a certain amount of money stashed, the only constraint stopping you from robbing each of them is that adjacent houses have security system connected and it will automatically contact the police if two adjacent houses were broken into on the same night.\n",
    "\n",
    "Given a list of non-negative integers representing the amount of money of each house, determine the maximum amount of money you can rob tonight without alerting the police."
   ]
  },
  {
   "cell_type": "code",
   "execution_count": 24,
   "metadata": {
    "collapsed": true
   },
   "outputs": [],
   "source": [
    "class Solution(object):\n",
    "    def rob(self, nums):\n",
    "        i,e = 0,0\n",
    "        for n in nums:\n",
    "            i,e = e+n,max(i,e)\n",
    "        return max(i,e)"
   ]
  },
  {
   "cell_type": "markdown",
   "metadata": {},
   "source": [
    "# way1 "
   ]
  },
  {
   "cell_type": "code",
   "execution_count": 34,
   "metadata": {
    "collapsed": true
   },
   "outputs": [],
   "source": [
    "def rob(nums):\n",
    "    i,e = 0,0\n",
    "    for n in nums:\n",
    "        i,e = e+n,max(i,e)\n",
    "    return max(i,e)"
   ]
  },
  {
   "cell_type": "markdown",
   "metadata": {},
   "source": [
    "# way2 stupid"
   ]
  },
  {
   "cell_type": "code",
   "execution_count": 26,
   "metadata": {
    "collapsed": false
   },
   "outputs": [],
   "source": [
    "def get_key(x):\n",
    "    return reduce(lambda x,y:x+y,map(str,x))\n",
    "\n",
    "dict_nums = {}\n",
    "\n",
    "def rob(nums):\n",
    "    \"\"\"\n",
    "    :type nums: List[int]\n",
    "    :rtype: int\n",
    "    \"\"\"\n",
    "    if nums==[]:\n",
    "        return 0\n",
    "    \n",
    "    global dict_nums\n",
    "    key = get_key(nums)\n",
    "    try:\n",
    "        return dict_nums[key]\n",
    "    except KeyError:\n",
    "        N = len(nums)\n",
    "        if N==1:\n",
    "            dict_nums[key] =  nums[0]\n",
    "        elif N==2:\n",
    "            dict_nums[key] =  max(nums)\n",
    "        elif N==3:\n",
    "            dict_nums[key] =  max(nums[1],nums[0]+nums[2])\n",
    "        else:\n",
    "            dict_nums[key] =  max(nums[0] + rubs(nums[2:]), rubs(nums[1:]))\n",
    "        return dict_nums[key]"
   ]
  }
 ],
 "metadata": {
  "kernelspec": {
   "display_name": "Python 2",
   "language": "python",
   "name": "python2"
  },
  "language_info": {
   "codemirror_mode": {
    "name": "ipython",
    "version": 2
   },
   "file_extension": ".py",
   "mimetype": "text/x-python",
   "name": "python",
   "nbconvert_exporter": "python",
   "pygments_lexer": "ipython2",
   "version": "2.7.12"
  }
 },
 "nbformat": 4,
 "nbformat_minor": 0
}
