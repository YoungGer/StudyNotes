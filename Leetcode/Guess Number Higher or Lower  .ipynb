{
 "cells": [
  {
   "cell_type": "code",
   "execution_count": 4,
   "metadata": {
    "collapsed": false
   },
   "outputs": [],
   "source": [
    "# The guess API is already defined for you.\n",
    "# @param num, your guess\n",
    "# @return -1 if my number is lower, 1 if my number is higher, otherwise return 0\n",
    "# def guess(num):\n",
    "\n",
    "class Solution(object):\n",
    "    def guessNumber(self, n):\n",
    "        \"\"\"\n",
    "        :type n: int\n",
    "        :rtype: int\n",
    "        \"\"\"\n",
    "        def helper(l,h):\n",
    "            if l==h:\n",
    "                return l\n",
    "\n",
    "            num = l+(h-l)/2\n",
    "            if guess(num)==0:\n",
    "                pass\n",
    "            elif guess(num)<0:\n",
    "                # my number is lower\n",
    "                return helper(l,num-1)\n",
    "            else:\n",
    "                # my number is higher\n",
    "                return helper(num+1,h)\n",
    "            \n",
    "        return helper(1,n)"
   ]
  }
 ],
 "metadata": {
  "kernelspec": {
   "display_name": "Python 2",
   "language": "python",
   "name": "python2"
  },
  "language_info": {
   "codemirror_mode": {
    "name": "ipython",
    "version": 2
   },
   "file_extension": ".py",
   "mimetype": "text/x-python",
   "name": "python",
   "nbconvert_exporter": "python",
   "pygments_lexer": "ipython2",
   "version": "2.7.12"
  }
 },
 "nbformat": 4,
 "nbformat_minor": 0
}
