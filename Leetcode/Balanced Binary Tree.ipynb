{
 "cells": [
  {
   "cell_type": "markdown",
   "metadata": {},
   "source": [
    "# Balanced Binary Tree\n",
    "\n",
    "难度：简单  \n",
    "考点：Tree, DFS\n",
    "\n",
    "收获：\n",
    "\n",
    "- 首先先遍历到最底层，然后开始标号，每个节点的号代表该节点的由下至上的最大深度。\n",
    "- 开始第二轮遍历，比较同一个节点的左右深度，看看是不是超过了1。\n",
    "\n",
    "\n",
    "问题描述：\n",
    "\n",
    "Given a binary tree, determine if it is height-balanced.\n",
    "\n",
    "For this problem, a height-balanced binary tree is defined as a binary tree in which the depth of the two subtrees of every node never differ by more than 1."
   ]
  },
  {
   "cell_type": "code",
   "execution_count": 21,
   "metadata": {
    "collapsed": false
   },
   "outputs": [],
   "source": [
    "def count_num(root):\n",
    "    # 处理特殊情况，包含了叶节点，单支，空点情况\n",
    "    if root==None:\n",
    "        return 0\n",
    "    root.num = 1+ max(count_num(root.left),count_num(root.right))\n",
    "    return root.num\n",
    "    \n",
    "def judge_diff(root):\n",
    "    # 特殊情况处理\n",
    "    if root.left==None and root.right!=None:\n",
    "        return judge_diff(root.right) and root.right.num<=1\n",
    "    if root.left!=None and root.right==None:\n",
    "        return judge_diff(root.left) and root.left.num<=1\n",
    "    if root.left==None and root.right==None:\n",
    "        return True\n",
    "    \n",
    "    # 正常处理\n",
    "    if abs(root.left.num-root.right.num)<=1:\n",
    "        # 当前节点检查通过，继续其邻接点\n",
    "        flag_left = judge_diff(root.left)\n",
    "        flag_right = judge_diff(root.right)\n",
    "        return flag_left and flag_right\n",
    "    else:\n",
    "        return False\n",
    "\n",
    "class Solution(object):\n",
    "    def isBalanced(self, root):\n",
    "        \"\"\"\n",
    "        :type root: TreeNode\n",
    "        :rtype: bool\n",
    "        \"\"\"\n",
    "        # 特殊情况\n",
    "        if root==None:\n",
    "            return True\n",
    "        # 计算每个节点的num值\n",
    "        root.num = 1 +  max(count_num(root.left),count_num(root.right))\n",
    "        # 比较所有节点的左右邻接点的num值\n",
    "        return judge_diff(root)"
   ]
  }
 ],
 "metadata": {
  "kernelspec": {
   "display_name": "Python 2",
   "language": "python",
   "name": "python2"
  },
  "language_info": {
   "codemirror_mode": {
    "name": "ipython",
    "version": 2
   },
   "file_extension": ".py",
   "mimetype": "text/x-python",
   "name": "python",
   "nbconvert_exporter": "python",
   "pygments_lexer": "ipython2",
   "version": "2.7.12"
  }
 },
 "nbformat": 4,
 "nbformat_minor": 0
}
