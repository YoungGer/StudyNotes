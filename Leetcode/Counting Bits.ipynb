{
 "cells": [
  {
   "cell_type": "markdown",
   "metadata": {},
   "source": [
    "# 18.93"
   ]
  },
  {
   "cell_type": "code",
   "execution_count": 29,
   "metadata": {
    "collapsed": true
   },
   "outputs": [],
   "source": [
    "class Solution(object):\n",
    "    def countBits(self, num):\n",
    "        \"\"\"\n",
    "        :type num: int\n",
    "        :rtype: List[int]\n",
    "        \"\"\"\n",
    "        if num==0: return [0]\n",
    "        if num==1: return [0,1]\n",
    "        if num==2: return [0,1,1]\n",
    "        if num==3: return [0,1,1,2]\n",
    "        \n",
    "        # num>=4\n",
    "        s = [0,1,1,2]\n",
    "        \n",
    "        # find int(log(num))+1\n",
    "        i = 2\n",
    "        power = 1\n",
    "        while i<=num:\n",
    "            i = i*2\n",
    "            power += 1\n",
    "        power = power-1\n",
    "        \n",
    "        for i in range(2,power):\n",
    "            s = s + s[-2**(i-1):] + [k+1 for k in s[-2**(i-1):]]\n",
    "        \n",
    "        i = power\n",
    "        s = s + ((s[-2**(i-1):] + [k+1 for k in s[-2**(i-1):]])[:num-2**power+1])\n",
    "        return s"
   ]
  },
  {
   "cell_type": "code",
   "execution_count": 38,
   "metadata": {
    "collapsed": false
   },
   "outputs": [
    {
     "data": {
      "text/plain": [
       "[0, 1, 1, 2, 1, 2, 2, 3, 1, 2, 2, 3, 2, 3, 3, 4]"
      ]
     },
     "execution_count": 38,
     "metadata": {},
     "output_type": "execute_result"
    }
   ],
   "source": [
    "a = Solution()\n",
    "a.countBits(15)"
   ]
  },
  {
   "cell_type": "markdown",
   "metadata": {},
   "source": [
    "# smarter 80.97"
   ]
  },
  {
   "cell_type": "code",
   "execution_count": 42,
   "metadata": {
    "collapsed": true
   },
   "outputs": [],
   "source": [
    "class Solution(object):\n",
    "    def countBits(self, num):\n",
    "            \"\"\"\n",
    "            :type num: int\n",
    "            :rtype: List[int]\n",
    "            \"\"\"\n",
    "            answer = [0, 1]\n",
    "\n",
    "            while len(answer) <= num:\n",
    "                answer.extend(map(lambda x:x+1, answer))\n",
    "\n",
    "            return answer[:num+1]"
   ]
  }
 ],
 "metadata": {
  "kernelspec": {
   "display_name": "Python 2",
   "language": "python",
   "name": "python2"
  },
  "language_info": {
   "codemirror_mode": {
    "name": "ipython",
    "version": 2
   },
   "file_extension": ".py",
   "mimetype": "text/x-python",
   "name": "python",
   "nbconvert_exporter": "python",
   "pygments_lexer": "ipython2",
   "version": "2.7.12"
  }
 },
 "nbformat": 4,
 "nbformat_minor": 1
}
