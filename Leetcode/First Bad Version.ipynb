{
 "cells": [
  {
   "cell_type": "code",
   "execution_count": 5,
   "metadata": {
    "collapsed": true
   },
   "outputs": [],
   "source": [
    "# The isBadVersion API is already defined for you.\n",
    "# @param version, an integer\n",
    "# @return a bool\n",
    "# def isBadVersion(version):\n",
    "\n",
    "class Solution(object):\n",
    "    def firstBadVersion(self, n):\n",
    "        \"\"\"\n",
    "        :type n: int\n",
    "        :rtype: int\n",
    "        \"\"\"\n",
    "        def helper(i,j):\n",
    "            if j-i==0:\n",
    "                return i\n",
    "            if j-i==1:\n",
    "                if isBadVersion(i):\n",
    "                    return i\n",
    "                else:\n",
    "                    return j\n",
    "            \n",
    "            if isBadVersion(i+(j-i)/2):\n",
    "                return helper(i,i+(j-i)/2)\n",
    "            else:\n",
    "                return helper(i+(j-i)/2+1,j)\n",
    "\n",
    "        return helper(1,n)"
   ]
  }
 ],
 "metadata": {
  "kernelspec": {
   "display_name": "Python 2",
   "language": "python",
   "name": "python2"
  },
  "language_info": {
   "codemirror_mode": {
    "name": "ipython",
    "version": 2
   },
   "file_extension": ".py",
   "mimetype": "text/x-python",
   "name": "python",
   "nbconvert_exporter": "python",
   "pygments_lexer": "ipython2",
   "version": "2.7.12"
  }
 },
 "nbformat": 4,
 "nbformat_minor": 1
}
