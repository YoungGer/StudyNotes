{
 "cells": [
  {
   "cell_type": "code",
   "execution_count": 35,
   "metadata": {
    "collapsed": false
   },
   "outputs": [],
   "source": [
    "from collections import Counter\n",
    "class Solution(object):\n",
    "    def isValidSudoku(self, board):\n",
    "        \"\"\"\n",
    "        :type board: List[List[str]]\n",
    "        :rtype: bool\n",
    "        \"\"\"\n",
    "        # each row\n",
    "        for row in board:\n",
    "            dic = Counter(row)\n",
    "            for i in range(10):\n",
    "                if dic[str(i)]>1:\n",
    "                    return False\n",
    "                \n",
    "        # each column\n",
    "        for col in map(list, zip(*board)):\n",
    "            dic = Counter(col)\n",
    "            for i in range(10):\n",
    "                if dic[str(i)]>1:\n",
    "                    return False\n",
    "\n",
    "        # each cell\n",
    "        for row in range(0,len(board),3):\n",
    "            for col in range(0,len(board),3):\n",
    "                dic = Counter(board[row][col:col+3] + board[row+1][col:col+3] + board[row+2][col:col+3])\n",
    "                for i in range(10):\n",
    "                    if dic[str(i)]>1:\n",
    "                        return False\n",
    "        return True"
   ]
  },
  {
   "cell_type": "code",
   "execution_count": 36,
   "metadata": {
    "collapsed": true
   },
   "outputs": [],
   "source": [
    "from collections import Counter\n",
    "class Solution(object):\n",
    "    def isValidSudoku(self, board):\n",
    "        seen = set()\n",
    "        return not any(x in seen or seen.add(x)\n",
    "                       for i, row in enumerate(board)\n",
    "                       for j, c in enumerate(row)\n",
    "                       if c != '.'\n",
    "                       for x in ((c, i), (j, c), (i/3, j/3, c)))"
   ]
  }
 ],
 "metadata": {
  "kernelspec": {
   "display_name": "Python 2",
   "language": "python",
   "name": "python2"
  },
  "language_info": {
   "codemirror_mode": {
    "name": "ipython",
    "version": 2
   },
   "file_extension": ".py",
   "mimetype": "text/x-python",
   "name": "python",
   "nbconvert_exporter": "python",
   "pygments_lexer": "ipython2",
   "version": "2.7.12"
  }
 },
 "nbformat": 4,
 "nbformat_minor": 0
}
