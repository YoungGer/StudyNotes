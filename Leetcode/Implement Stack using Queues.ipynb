{
 "cells": [
  {
   "cell_type": "markdown",
   "metadata": {},
   "source": [
    "Implement the following operations of a stack using queues.\n",
    "\n",
    "push(x) -- Push element x onto stack.  \n",
    "pop() -- Removes the element on top of the stack.  \n",
    "top() -- Get the top element.  \n",
    "empty() -- Return whether the stack is empty.  \n",
    "\n",
    "Notes:  \n",
    "You must use only standard operations of a queue -- which means only push to back, peek/pop from front, size, and is empty operations are valid.  \n",
    "Depending on your language, queue may not be supported natively. You may simulate a queue by using a list or deque (double-ended queue), as long as you use only standard operations of a queue.  \n",
    "You may assume that all operations are valid (for example, no pop or top operations will be called on an empty stack)."
   ]
  },
  {
   "cell_type": "code",
   "execution_count": 10,
   "metadata": {
    "collapsed": true
   },
   "outputs": [],
   "source": [
    "from collections import deque\n",
    "class Stack(object):\n",
    "    def __init__(self):\n",
    "        self._queue = deque()\n",
    "\n",
    "    def push(self, x):\n",
    "        self._queue.append(x)\n",
    "        for i in range(len(self._queue)-1):\n",
    "            self._queue.append(self._queue.popleft())\n",
    "\n",
    "    def pop(self):\n",
    "        return self._queue.popleft()\n",
    "\n",
    "    def top(self):\n",
    "        return self._queue[0]\n",
    "    \n",
    "    def empty(self):\n",
    "        return not len(self._queue)"
   ]
  },
  {
   "cell_type": "code",
   "execution_count": 11,
   "metadata": {
    "collapsed": true
   },
   "outputs": [],
   "source": [
    "s = Stack()"
   ]
  },
  {
   "cell_type": "code",
   "execution_count": 12,
   "metadata": {
    "collapsed": false
   },
   "outputs": [],
   "source": [
    "s.push(1)\n",
    "s.push(2)\n",
    "s.push(3)"
   ]
  }
 ],
 "metadata": {
  "kernelspec": {
   "display_name": "Python 2",
   "language": "python",
   "name": "python2"
  },
  "language_info": {
   "codemirror_mode": {
    "name": "ipython",
    "version": 2
   },
   "file_extension": ".py",
   "mimetype": "text/x-python",
   "name": "python",
   "nbconvert_exporter": "python",
   "pygments_lexer": "ipython2",
   "version": "2.7.12"
  }
 },
 "nbformat": 4,
 "nbformat_minor": 0
}
