{
 "cells": [
  {
   "cell_type": "markdown",
   "metadata": {},
   "source": [
    "# Number of Digit One\n",
    "\n",
    "难度：困难  \n",
    "考点：Math\n",
    "\n",
    "思考：\n",
    "\n",
    "- 可以从1位数，两位数，3位数，一直到规定的位数。每增长一个都是有规律的，要么最高位含1，要么其与低位含1。\n",
    "\n",
    "\n",
    "问题描述：\n",
    "\n",
    "Given an integer n, count the total number of digit 1 appearing in all non-negative integers less than or equal to n.\n",
    "\n",
    "For example:  \n",
    "Given n = 13,  \n",
    "Return 6, because digit 1 occurred in the following numbers: 1, 10, 11, 12, 13."
   ]
  },
  {
   "cell_type": "code",
   "execution_count": null,
   "metadata": {
    "collapsed": true
   },
   "outputs": [],
   "source": [
    "class Solution(object):\n",
    "    def countDigitOne(self, n):\n",
    "        \"\"\"\n",
    "        :type n: int\n",
    "        :rtype: int\n",
    "        \"\"\"\n",
    "        "
   ]
  },
  {
   "cell_type": "code",
   "execution_count": 34,
   "metadata": {
    "collapsed": true
   },
   "outputs": [],
   "source": [
    "def countDigitOne(n):\n",
    "    \"\"\"\n",
    "    :type n: int\n",
    "    :rtype: int\n",
    "    \"\"\"\n",
    "    # 输入必须大于0\n",
    "    if n<=0:\n",
    "        return 0\n",
    "    ns = str(n)\n",
    "    count = 0\n",
    "    length = len(ns)\n",
    "    # 主循环\n",
    "    for num,i in enumerate(ns):\n",
    "        k = int(i)\n",
    "        # 处理开头和末尾的情况\n",
    "        try:\n",
    "            a = int(ns[:num]) #前半部分\n",
    "        except ValueError :\n",
    "            a = 0\n",
    "        try:\n",
    "            b = int(ns[num+1:]) #后半部分\n",
    "        except ValueError :\n",
    "            b = 0\n",
    "        digit = length-1-num # 迭代的位数\n",
    "        # 代码主逻辑\n",
    "        if k>=2:\n",
    "            count += (a+1) * 10**digit\n",
    "        elif k==1:\n",
    "            count += a * 10**digit + b + 1\n",
    "        else:\n",
    "            count += a * 10**digit \n",
    "    return count"
   ]
  },
  {
   "cell_type": "code",
   "execution_count": 32,
   "metadata": {
    "collapsed": false
   },
   "outputs": [
    {
     "data": {
      "text/plain": [
       "6"
      ]
     },
     "execution_count": 32,
     "metadata": {},
     "output_type": "execute_result"
    }
   ],
   "source": [
    "countDigitOne(13)"
   ]
  }
 ],
 "metadata": {
  "kernelspec": {
   "display_name": "Python 2",
   "language": "python",
   "name": "python2"
  },
  "language_info": {
   "codemirror_mode": {
    "name": "ipython",
    "version": 2
   },
   "file_extension": ".py",
   "mimetype": "text/x-python",
   "name": "python",
   "nbconvert_exporter": "python",
   "pygments_lexer": "ipython2",
   "version": "2.7.12"
  }
 },
 "nbformat": 4,
 "nbformat_minor": 0
}
