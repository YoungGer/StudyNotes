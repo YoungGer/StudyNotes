{
 "cells": [
  {
   "cell_type": "code",
   "execution_count": 36,
   "metadata": {
    "collapsed": true
   },
   "outputs": [],
   "source": [
    "class Solution(object):\n",
    "    def findNthDigit(self, n):\n",
    "        \"\"\"\n",
    "        :type n: int\n",
    "        :rtype: int\n",
    "        \"\"\"\n",
    "        # 找到对应几位数，i代表几位数字\n",
    "        accu = [0, 9, 189, 2889, 38889, 488889, 5888889, 68888889, 788888889,2147483648]\n",
    "        for i,k in enumerate(accu):\n",
    "            if n<=k:\n",
    "                break\n",
    "        # 找到对应的数字\n",
    "        left_digits = n-accu[i-1]\n",
    "        if left_digits%i==0:\n",
    "            return (10**(i-1)+left_digits/i-1)%10\n",
    "        else:\n",
    "            return int(str(10**(i-1)+left_digits/i)[left_digits%i-1])"
   ]
  }
 ],
 "metadata": {
  "kernelspec": {
   "display_name": "Python 2",
   "language": "python",
   "name": "python2"
  },
  "language_info": {
   "codemirror_mode": {
    "name": "ipython",
    "version": 2
   },
   "file_extension": ".py",
   "mimetype": "text/x-python",
   "name": "python",
   "nbconvert_exporter": "python",
   "pygments_lexer": "ipython2",
   "version": "2.7.12"
  }
 },
 "nbformat": 4,
 "nbformat_minor": 1
}
