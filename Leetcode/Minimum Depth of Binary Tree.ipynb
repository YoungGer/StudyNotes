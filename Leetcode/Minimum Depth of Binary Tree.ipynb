{
 "cells": [
  {
   "cell_type": "markdown",
   "metadata": {},
   "source": [
    "# Minimum Depth of Binary Tree\n",
    "\n",
    "难度：简单  \n",
    "考点：Tree, DFS\n",
    "\n",
    "收获：\n",
    "\n",
    "- None\n",
    "\n",
    "\n",
    "问题描述：\n",
    "\n",
    "Given a binary tree, find its minimum depth.\n",
    "\n",
    "The minimum depth is the number of nodes along the shortest path from the root node down to the nearest leaf node."
   ]
  },
  {
   "cell_type": "code",
   "execution_count": 7,
   "metadata": {
    "collapsed": true
   },
   "outputs": [],
   "source": [
    "class Solution(object):\n",
    "    def minDepth(self, root):\n",
    "        \"\"\"\n",
    "        :type root: TreeNode\n",
    "        :rtype: int\n",
    "        \"\"\"\n",
    "        # 特殊情况\n",
    "        if root==None:\n",
    "            return 0\n",
    "        f_l = root.left==None\n",
    "        f_r = root.right==None\n",
    "        if f_l or f_r:\n",
    "            if f_l and f_r:\n",
    "                return 1\n",
    "            if f_l:\n",
    "                return 1+self.minDepth(root.right)\n",
    "            else:\n",
    "                return 1+self.minDepth(root.left)\n",
    "        return 1 + min(self.minDepth(root.left),self.minDepth(root.right))"
   ]
  }
 ],
 "metadata": {
  "kernelspec": {
   "display_name": "Python 2",
   "language": "python",
   "name": "python2"
  },
  "language_info": {
   "codemirror_mode": {
    "name": "ipython",
    "version": 2
   },
   "file_extension": ".py",
   "mimetype": "text/x-python",
   "name": "python",
   "nbconvert_exporter": "python",
   "pygments_lexer": "ipython2",
   "version": "2.7.12"
  }
 },
 "nbformat": 4,
 "nbformat_minor": 0
}
