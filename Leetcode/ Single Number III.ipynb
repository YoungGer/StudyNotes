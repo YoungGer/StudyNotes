{
 "cells": [
  {
   "cell_type": "code",
   "execution_count": 6,
   "metadata": {
    "collapsed": true
   },
   "outputs": [],
   "source": [
    "class Solution(object):\n",
    "    def singleNumber(self, nums):\n",
    "        \"\"\"\n",
    "        :type nums: List[int]\n",
    "        :rtype: List[int]\n",
    "        \"\"\"\n",
    "        xor = 0\n",
    "        for num in nums:\n",
    "            xor = xor^num\n",
    "        \n",
    "        mask = 1\n",
    "        while(xor&mask == 0):\n",
    "            mask = mask << 1\n",
    "        \n",
    "        xor_a, xor_b = 0,0\n",
    "        for num in nums:\n",
    "            if mask&num==0:\n",
    "                xor_a = xor_a^num\n",
    "            else:\n",
    "                xor_b = xor_b^num\n",
    "        \n",
    "        return [xor_a, xor_b]"
   ]
  },
  {
   "cell_type": "code",
   "execution_count": 7,
   "metadata": {
    "collapsed": false
   },
   "outputs": [
    {
     "data": {
      "text/plain": [
       "[5, 3]"
      ]
     },
     "execution_count": 7,
     "metadata": {},
     "output_type": "execute_result"
    }
   ],
   "source": [
    "nums = [1, 2, 1, 3, 2, 5]\n",
    "a = Solution()\n",
    "a.singleNumber(nums)"
   ]
  }
 ],
 "metadata": {
  "kernelspec": {
   "display_name": "Python 2",
   "language": "python",
   "name": "python2"
  },
  "language_info": {
   "codemirror_mode": {
    "name": "ipython",
    "version": 2
   },
   "file_extension": ".py",
   "mimetype": "text/x-python",
   "name": "python",
   "nbconvert_exporter": "python",
   "pygments_lexer": "ipython2",
   "version": "2.7.12"
  }
 },
 "nbformat": 4,
 "nbformat_minor": 1
}
