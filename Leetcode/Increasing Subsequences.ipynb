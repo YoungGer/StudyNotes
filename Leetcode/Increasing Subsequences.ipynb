{
 "cells": [
  {
   "cell_type": "code",
   "execution_count": 36,
   "metadata": {
    "collapsed": true
   },
   "outputs": [],
   "source": [
    "class Solution(object):\n",
    "    def findSubsequences(self, nums):\n",
    "        \"\"\"\n",
    "        :type nums: List[int]\n",
    "        :rtype: List[List[int]]\n",
    "        \"\"\"\n",
    "        def helper(curr,i):\n",
    "            if len(curr)>=2:\n",
    "                if curr[-1]>=curr[-2]:\n",
    "                    rst.add(tuple(curr))\n",
    "                else:\n",
    "                    return\n",
    "            for i in range(i+1,N):\n",
    "                helper(curr+[nums[i]],i)\n",
    "        \n",
    "        N = len(nums)\n",
    "        rst = set()\n",
    "        for i in range(N):\n",
    "            helper([nums[i]],i)\n",
    "        return list(rst)"
   ]
  }
 ],
 "metadata": {
  "kernelspec": {
   "display_name": "Python 2",
   "language": "python",
   "name": "python2"
  },
  "language_info": {
   "codemirror_mode": {
    "name": "ipython",
    "version": 2
   },
   "file_extension": ".py",
   "mimetype": "text/x-python",
   "name": "python",
   "nbconvert_exporter": "python",
   "pygments_lexer": "ipython2",
   "version": "2.7.12"
  }
 },
 "nbformat": 4,
 "nbformat_minor": 1
}
