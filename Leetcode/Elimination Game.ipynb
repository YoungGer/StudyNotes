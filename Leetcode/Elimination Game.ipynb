{
 "cells": [
  {
   "cell_type": "code",
   "execution_count": 28,
   "metadata": {
    "collapsed": true
   },
   "outputs": [],
   "source": [
    "class Solution(object):\n",
    "    def lastRemaining(self, n):\n",
    "        \"\"\"\n",
    "        :type n: int\n",
    "        :rtype: int\n",
    "        \"\"\"\n",
    "        head = 1\n",
    "        left = True\n",
    "        step = 1\n",
    "        size = n\n",
    "        \n",
    "        while size>1:\n",
    "            if left:\n",
    "                # start from left\n",
    "                if size%2==0:\n",
    "                    head = head+(size-1)*step\n",
    "                else:\n",
    "                    head = head+(size-2)*step\n",
    "            else:\n",
    "                # start from right\n",
    "                if size%2==0:\n",
    "                    head = head-(size-1)*step\n",
    "                else:\n",
    "                    head = head-(size-2)*step\n",
    "            left = not left\n",
    "            size = size//2\n",
    "            step *= 2\n",
    "            #print head,size\n",
    "        return head"
   ]
  },
  {
   "cell_type": "code",
   "execution_count": 32,
   "metadata": {
    "collapsed": false,
    "scrolled": true
   },
   "outputs": [
    {
     "name": "stdout",
     "output_type": "stream",
     "text": [
      "8 4\n",
      "2 2\n",
      "6 1\n"
     ]
    },
    {
     "data": {
      "text/plain": [
       "6"
      ]
     },
     "execution_count": 32,
     "metadata": {},
     "output_type": "execute_result"
    }
   ],
   "source": [
    "n=9\n",
    "a = Solution()\n",
    "a.lastRemaining(n)"
   ]
  }
 ],
 "metadata": {
  "kernelspec": {
   "display_name": "Python 2",
   "language": "python",
   "name": "python2"
  },
  "language_info": {
   "codemirror_mode": {
    "name": "ipython",
    "version": 2
   },
   "file_extension": ".py",
   "mimetype": "text/x-python",
   "name": "python",
   "nbconvert_exporter": "python",
   "pygments_lexer": "ipython2",
   "version": "2.7.12"
  }
 },
 "nbformat": 4,
 "nbformat_minor": 1
}
