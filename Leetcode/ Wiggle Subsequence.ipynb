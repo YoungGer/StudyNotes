{
 "cells": [
  {
   "cell_type": "markdown",
   "metadata": {},
   "source": [
    "A sequence of numbers is called a wiggle sequence if the differences between successive numbers strictly alternate between positive and negative. The first difference (if one exists) may be either positive or negative. A sequence with fewer than two elements is trivially a wiggle sequence.\n",
    "\n",
    "For example, [1,7,4,9,2,5] is a wiggle sequence because the differences (6,-3,5,-7,3) are alternately positive and negative. In contrast, [1,4,7,2,5] and [1,7,4,5,5] are not wiggle sequences, the first because its first two differences are positive and the second because its last difference is zero.\n",
    "\n",
    "Given a sequence of integers, return the length of the longest subsequence that is a wiggle sequence. A subsequence is obtained by deleting some number of elements (eventually, also zero) from the original sequence, leaving the remaining elements in their original order.\n",
    "\n",
    "Input: [1,7,4,9,2,5]  \n",
    "Output: 6  \n",
    "The entire sequence is a wiggle sequence.\n",
    "\n",
    "Input: [1,17,5,10,13,15,10,5,16,8]  \n",
    "Output: 7  \n",
    "There are several subsequences that achieve this length. One is [1,17,10,13,10,16,8].\n",
    "\n",
    "Input: [1,2,3,4,5,6,7,8,9]  \n",
    "Output: 2"
   ]
  },
  {
   "cell_type": "code",
   "execution_count": 103,
   "metadata": {
    "collapsed": true
   },
   "outputs": [],
   "source": [
    "class Solution(object):\n",
    "    def wiggleMaxLength(self, nums):\n",
    "        if len(nums)<2:\n",
    "                return len(nums)\n",
    "        diffs = [b-a for a, b in zip(nums, nums[1:]) if a-b]\n",
    "        return len(diffs)+1 - sum(d*e > 0 for d, e in zip(diffs, diffs[1:]))"
   ]
  },
  {
   "cell_type": "code",
   "execution_count": 30,
   "metadata": {
    "collapsed": true
   },
   "outputs": [],
   "source": [
    "def wiggleMaxLength(nums):\n",
    "    \"\"\"\n",
    "    :type nums: List[int]\n",
    "    :rtype: int\n",
    "    \"\"\"\n",
    "    if len(nums)<2:\n",
    "        return len(nums)\n",
    "    diff = [e1 - e2 for e1, e2 in zip(nums, nums[1:])]\n",
    "    count = 0 # 计算diff前后同号的个数，每出现一个就减1\n",
    "    count_0 = sum([i==0 for i in diff]) # 计算出现diff=0的个数，每出现1个就减1\n",
    "    last_diff = diff[0]\n",
    "    for i in range(1,len(diff)):\n",
    "        if diff[i]*last_diff<0:\n",
    "            last_diff = diff[i]\n",
    "            next\n",
    "        elif diff[i]*last_diff>0:\n",
    "            last_diff = diff[i]\n",
    "            count += 1\n",
    "    return len(nums)-count-count_0"
   ]
  },
  {
   "cell_type": "code",
   "execution_count": 101,
   "metadata": {
    "collapsed": true
   },
   "outputs": [],
   "source": [
    "def wiggleMaxLength(nums):\n",
    "    if len(nums)<2:\n",
    "            return len(nums)\n",
    "    diffs = [b-a for a, b in zip(nums, nums[1:]) if a-b]\n",
    "    return len(diffs)+1 - sum(d*e > 0 for d, e in zip(diffs, diffs[1:]))"
   ]
  },
  {
   "cell_type": "code",
   "execution_count": 104,
   "metadata": {
    "collapsed": false
   },
   "outputs": [
    {
     "data": {
      "text/plain": [
       "1"
      ]
     },
     "execution_count": 104,
     "metadata": {},
     "output_type": "execute_result"
    }
   ],
   "source": [
    "wiggleMaxLength([2,2])"
   ]
  }
 ],
 "metadata": {
  "kernelspec": {
   "display_name": "Python 2",
   "language": "python",
   "name": "python2"
  },
  "language_info": {
   "codemirror_mode": {
    "name": "ipython",
    "version": 2
   },
   "file_extension": ".py",
   "mimetype": "text/x-python",
   "name": "python",
   "nbconvert_exporter": "python",
   "pygments_lexer": "ipython2",
   "version": "2.7.12"
  }
 },
 "nbformat": 4,
 "nbformat_minor": 0
}
