{
 "cells": [
  {
   "cell_type": "code",
   "execution_count": 18,
   "metadata": {
    "collapsed": true
   },
   "outputs": [],
   "source": [
    "class MinStack(object):\n",
    "\n",
    "    def __init__(self):\n",
    "        \"\"\"\n",
    "        initialize your data structure here.\n",
    "        \"\"\"\n",
    "        self.minArray = ['inf']\n",
    "        self.stack = []\n",
    "        \n",
    "\n",
    "    def push(self, x):\n",
    "        \"\"\"\n",
    "        :type x: int\n",
    "        :rtype: void\n",
    "        \"\"\"\n",
    "        self.stack.append(x)\n",
    "        if x<self.minArray[-1]:\n",
    "            self.minArray.append(x)\n",
    "        else:\n",
    "            self.minArray.append(self.minArray[-1])\n",
    "        \n",
    "\n",
    "    def pop(self):\n",
    "        \"\"\"\n",
    "        :rtype: void\n",
    "        \"\"\"\n",
    "        self.minArray.pop()\n",
    "        return self.stack.pop()\n",
    "        \n",
    "        \n",
    "        \n",
    "\n",
    "    def top(self):\n",
    "        \"\"\"\n",
    "        :rtype: int\n",
    "        \"\"\"\n",
    "        return self.stack[-1]\n",
    "        \n",
    "        \n",
    "\n",
    "    def getMin(self):\n",
    "        \"\"\"\n",
    "        :rtype: int\n",
    "        \"\"\"\n",
    "        return self.minArray[-1]\n",
    "        \n",
    "\n",
    "\n",
    "# Your MinStack object will be instantiated and called as such:\n",
    "# obj = MinStack()\n",
    "# obj.push(x)\n",
    "# obj.pop()\n",
    "# param_3 = obj.top()\n",
    "# param_4 = obj.getMin()"
   ]
  },
  {
   "cell_type": "code",
   "execution_count": 25,
   "metadata": {
    "collapsed": false
   },
   "outputs": [
    {
     "data": {
      "text/plain": [
       "-2"
      ]
     },
     "execution_count": 25,
     "metadata": {},
     "output_type": "execute_result"
    }
   ],
   "source": [
    "#Your MinStack object will be instantiated and called as such:\n",
    "minStack = MinStack()\n",
    "minStack.push(-2)\n",
    "minStack.push(0)\n",
    "minStack.push(-3)\n",
    "minStack.getMin()  #--> Returns -3.\n",
    "minStack.pop()\n",
    "minStack.top()     #--> Returns 0.\n",
    "minStack.getMin()   #--> Returns -2."
   ]
  }
 ],
 "metadata": {
  "kernelspec": {
   "display_name": "Python 2",
   "language": "python",
   "name": "python2"
  },
  "language_info": {
   "codemirror_mode": {
    "name": "ipython",
    "version": 2
   },
   "file_extension": ".py",
   "mimetype": "text/x-python",
   "name": "python",
   "nbconvert_exporter": "python",
   "pygments_lexer": "ipython2",
   "version": "2.7.12"
  }
 },
 "nbformat": 4,
 "nbformat_minor": 1
}
