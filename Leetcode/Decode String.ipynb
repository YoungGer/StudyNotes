{
 "cells": [
  {
   "cell_type": "markdown",
   "metadata": {},
   "source": [
    "# Stack"
   ]
  },
  {
   "cell_type": "code",
   "execution_count": 11,
   "metadata": {
    "collapsed": true
   },
   "outputs": [],
   "source": [
    "class Solution(object):\n",
    "    def decodeString(self, s):\n",
    "        \"\"\"\n",
    "        :type s: str\n",
    "        :rtype: str\n",
    "        \"\"\"\n",
    "        stack = [[\"\",1]]\n",
    "        num = \"\"\n",
    "        for ch in s:\n",
    "            if ch.isdigit():\n",
    "                 num += ch\n",
    "            elif ch==\"[\":\n",
    "                stack.append([\"\",int(num)])\n",
    "                num = \"\"\n",
    "            elif ch==\"]\":\n",
    "                strs,k = stack.pop()\n",
    "                stack[-1][0] += strs*k\n",
    "            else:\n",
    "                stack[-1][0] += ch\n",
    "        return stack[0][0]"
   ]
  },
  {
   "cell_type": "code",
   "execution_count": 12,
   "metadata": {
    "collapsed": false
   },
   "outputs": [
    {
     "data": {
      "text/plain": [
       "'abcabccdcdcdef'"
      ]
     },
     "execution_count": 12,
     "metadata": {},
     "output_type": "execute_result"
    }
   ],
   "source": [
    "s = \"2[abc]3[cd]ef\"\n",
    "a = Solution()\n",
    "a.decodeString(s)"
   ]
  },
  {
   "cell_type": "markdown",
   "metadata": {},
   "source": [
    "# RE"
   ]
  },
  {
   "cell_type": "code",
   "execution_count": 10,
   "metadata": {
    "collapsed": true
   },
   "outputs": [],
   "source": [
    "import re\n",
    "class Solution(object):\n",
    "    def decodeString(self, s):\n",
    "        while '[' in s:\n",
    "            s = re.sub(r'(\\d+)\\[([a-z]*)\\]', lambda m: int(m.group(1)) * m.group(2), s)\n",
    "        return s"
   ]
  }
 ],
 "metadata": {
  "kernelspec": {
   "display_name": "Python 2",
   "language": "python",
   "name": "python2"
  },
  "language_info": {
   "codemirror_mode": {
    "name": "ipython",
    "version": 2
   },
   "file_extension": ".py",
   "mimetype": "text/x-python",
   "name": "python",
   "nbconvert_exporter": "python",
   "pygments_lexer": "ipython2",
   "version": "2.7.12"
  }
 },
 "nbformat": 4,
 "nbformat_minor": 1
}
