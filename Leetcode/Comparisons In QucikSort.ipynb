{
 "cells": [
  {
   "cell_type": "markdown",
   "metadata": {},
   "source": [
    "# QuickSort Raw"
   ]
  },
  {
   "cell_type": "code",
   "execution_count": 12,
   "metadata": {
    "collapsed": true
   },
   "outputs": [],
   "source": [
    "def QuickSort(a,l,h):\n",
    "    # 特殊情况\n",
    "    if h-l<=0:\n",
    "        return\n",
    "    # 选择pivot，返回i\n",
    "    i = ChoosePivot(a,l,h)\n",
    "    # 递推调用\n",
    "    if i-1>=l:\n",
    "        QuickSort(a,l,i-1)\n",
    "    if i+1<=h:\n",
    "        QuickSort(a,i+1,h)"
   ]
  },
  {
   "cell_type": "code",
   "execution_count": 13,
   "metadata": {
    "collapsed": true
   },
   "outputs": [],
   "source": [
    "def ChoosePivot(a,l,h):\n",
    "    # 选择pivot\n",
    "    p = a[l]\n",
    "    i = l+1\n",
    "    #  遍历剩余部分，i始终指向临界点大的那个数\n",
    "    for j in range(l+1,h+1):\n",
    "        if a[j]<p:\n",
    "            a[j],a[i] = a[i],a[j]\n",
    "            i += 1\n",
    "    # 最后交换\n",
    "    a[i-1],a[l] = a[l],a[i-1]\n",
    "    return i-1"
   ]
  },
  {
   "cell_type": "markdown",
   "metadata": {},
   "source": [
    "# Load Data"
   ]
  },
  {
   "cell_type": "code",
   "execution_count": 1,
   "metadata": {
    "collapsed": false
   },
   "outputs": [],
   "source": [
    "d = list(pd.read_csv('./QuickSort.txt',header=None).values.ravel())"
   ]
  },
  {
   "cell_type": "markdown",
   "metadata": {},
   "source": [
    "# Comparation T1\n",
    "\n",
    "Each Recall of QuickSort(a,l,h) need len(a)-1 comparation.\n",
    "\n",
    "T1: use first element as pivot"
   ]
  },
  {
   "cell_type": "code",
   "execution_count": 1,
   "metadata": {
    "collapsed": true
   },
   "outputs": [],
   "source": [
    "def QuickSort(a,l,h):\n",
    "    # 特殊情况\n",
    "    if h-l<=0:\n",
    "        return\n",
    "    # 处理比较\n",
    "    global comp\n",
    "    comp += h-l\n",
    "    # 选择pivot，返回i\n",
    "    i = ChoosePivot(a,l,h)\n",
    "    # 递推调用\n",
    "    if i-1>=l:\n",
    "        QuickSort(a,l,i-1)\n",
    "    if i+1<=h:\n",
    "        QuickSort(a,i+1,h)\n",
    "def ChoosePivot(a,l,h):\n",
    "    # 选择pivot\n",
    "    p = a[l]\n",
    "    i = l+1\n",
    "    #  遍历剩余部分，i始终指向临界点大的那个数\n",
    "    for j in range(l+1,h+1):\n",
    "        if a[j]<p:\n",
    "            a[j],a[i] = a[i],a[j]\n",
    "            i += 1\n",
    "    # 最后交换\n",
    "    a[i-1],a[l] = a[l],a[i-1]\n",
    "    return i-1"
   ]
  },
  {
   "cell_type": "code",
   "execution_count": 2,
   "metadata": {
    "collapsed": false
   },
   "outputs": [
    {
     "data": {
      "text/plain": [
       "162085"
      ]
     },
     "execution_count": 2,
     "metadata": {},
     "output_type": "execute_result"
    }
   ],
   "source": [
    "d = list(pd.read_csv('./QuickSort.txt',header=None).values.ravel())\n",
    "comp = 0\n",
    "QuickSort(d,0,len(d)-1)\n",
    "comp"
   ]
  },
  {
   "cell_type": "markdown",
   "metadata": {},
   "source": [
    "# Comparation T2\n",
    "\n",
    "Each Recall of QuickSort(a,l,h) need len(a)-1 comparation.\n",
    "\n",
    "T1: use final element as pivot\n",
    "\n",
    "At first, you should exchange fist and secone element."
   ]
  },
  {
   "cell_type": "code",
   "execution_count": 3,
   "metadata": {
    "collapsed": true
   },
   "outputs": [],
   "source": [
    "def QuickSort(a,l,h):\n",
    "    # 特殊情况\n",
    "    if h-l<=0:\n",
    "        return\n",
    "    # 处理比较\n",
    "    global comp\n",
    "    comp += h-l\n",
    "    # 选择pivot，返回i\n",
    "    a[l],a[h] = a[h],a[l]\n",
    "    i = ChoosePivot(a,l,h)\n",
    "    # 递推调用\n",
    "    if i-1>=l:\n",
    "        QuickSort(a,l,i-1)\n",
    "    if i+1<=h:\n",
    "        QuickSort(a,i+1,h)\n",
    "def ChoosePivot(a,l,h):\n",
    "    # 选择pivot\n",
    "    p = a[l]\n",
    "    i = l+1\n",
    "    #  遍历剩余部分，i始终指向临界点大的那个数\n",
    "    for j in range(l+1,h+1):\n",
    "        if a[j]<p:\n",
    "            a[j],a[i] = a[i],a[j]\n",
    "            i += 1\n",
    "    # 最后交换\n",
    "    a[i-1],a[l] = a[l],a[i-1]\n",
    "    return i-1"
   ]
  },
  {
   "cell_type": "code",
   "execution_count": 4,
   "metadata": {
    "collapsed": false
   },
   "outputs": [
    {
     "data": {
      "text/plain": [
       "164123"
      ]
     },
     "execution_count": 4,
     "metadata": {},
     "output_type": "execute_result"
    }
   ],
   "source": [
    "d = list(pd.read_csv('./QuickSort.txt',header=None).values.ravel())\n",
    "comp = 0\n",
    "QuickSort(d,0,len(d)-1)\n",
    "comp"
   ]
  },
  {
   "cell_type": "markdown",
   "metadata": {},
   "source": [
    "# Comparation T3\n",
    "\n",
    "Each Recall of QuickSort(a,l,h) need len(a)-1 comparation.\n",
    "\n",
    "T1: use median-of-three pivot rule"
   ]
  },
  {
   "cell_type": "code",
   "execution_count": 30,
   "metadata": {
    "collapsed": true
   },
   "outputs": [],
   "source": [
    "def getMedianPivot(a,l,h):\n",
    "    first = a[l]\n",
    "    final = a[h]\n",
    "    median = a[l+(h-l)//2]\n",
    "    ll = sorted([first,median,final])\n",
    "    if ll[1]==first:\n",
    "        return l\n",
    "    elif ll[1]==final:\n",
    "        return h\n",
    "    else:\n",
    "        return l+(h-l)//2"
   ]
  },
  {
   "cell_type": "code",
   "execution_count": 33,
   "metadata": {
    "collapsed": true
   },
   "outputs": [],
   "source": [
    "def QuickSort(a,l,h):\n",
    "    # 特殊情况\n",
    "    if h-l<=0:\n",
    "        return\n",
    "    # 处理比较\n",
    "    global comp\n",
    "    comp += h-l\n",
    "    # 选择pivot，返回i\n",
    "    pi = getMedianPivot(a,l,h)\n",
    "    a[l],a[pi] = a[pi],a[l]\n",
    "    i = ChoosePivot(a,l,h)\n",
    "    # 递推调用\n",
    "    if i-1>=l:\n",
    "        QuickSort(a,l,i-1)\n",
    "    if i+1<=h:\n",
    "        QuickSort(a,i+1,h)\n",
    "def ChoosePivot(a,l,h):\n",
    "    # 选择pivot\n",
    "    p = a[l]\n",
    "    i = l+1\n",
    "    #  遍历剩余部分，i始终指向临界点大的那个数\n",
    "    for j in range(l+1,h+1):\n",
    "        if a[j]<p:\n",
    "            a[j],a[i] = a[i],a[j]\n",
    "            i += 1\n",
    "    # 最后交换\n",
    "    a[i-1],a[l] = a[l],a[i-1]\n",
    "    return i-1"
   ]
  },
  {
   "cell_type": "code",
   "execution_count": 34,
   "metadata": {
    "collapsed": false
   },
   "outputs": [
    {
     "data": {
      "text/plain": [
       "138382"
      ]
     },
     "execution_count": 34,
     "metadata": {},
     "output_type": "execute_result"
    }
   ],
   "source": [
    "d = list(pd.read_csv('./QuickSort.txt',header=None).values.ravel())\n",
    "comp = 0\n",
    "QuickSort(d,0,len(d)-1)\n",
    "comp"
   ]
  }
 ],
 "metadata": {
  "kernelspec": {
   "display_name": "Python 2",
   "language": "python",
   "name": "python2"
  },
  "language_info": {
   "codemirror_mode": {
    "name": "ipython",
    "version": 2
   },
   "file_extension": ".py",
   "mimetype": "text/x-python",
   "name": "python",
   "nbconvert_exporter": "python",
   "pygments_lexer": "ipython2",
   "version": "2.7.12"
  }
 },
 "nbformat": 4,
 "nbformat_minor": 0
}
