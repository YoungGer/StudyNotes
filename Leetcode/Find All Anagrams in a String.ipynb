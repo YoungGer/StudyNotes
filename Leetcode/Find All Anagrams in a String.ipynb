{
 "cells": [
  {
   "cell_type": "markdown",
   "metadata": {},
   "source": [
    "# TLE"
   ]
  },
  {
   "cell_type": "code",
   "execution_count": 8,
   "metadata": {
    "collapsed": true
   },
   "outputs": [],
   "source": [
    "from collections import Counter\n",
    "class Solution(object):\n",
    "    def findAnagrams(self, s, p):\n",
    "        \"\"\"\n",
    "        :type s: str\n",
    "        :type p: str\n",
    "        :rtype: List[int]\n",
    "        \"\"\"\n",
    "        cp = Counter(p)\n",
    "        rst = []\n",
    "        last_find = False\n",
    "        for i in range(len(s)+1-len(p)):\n",
    "            if last_find:\n",
    "                if nums[i-1]==nums[i-1+len(p)]:\n",
    "                    rst.append(i)\n",
    "                    continue\n",
    "                else:\n",
    "                    last_find = False\n",
    "                    continue\n",
    "            if Counter(s[i:i+len(p)])==cp:\n",
    "                rst.append(i)\n",
    "                last_find = True\n",
    "            else:\n",
    "                last_find = False\n",
    "        return rst"
   ]
  },
  {
   "cell_type": "markdown",
   "metadata": {},
   "source": [
    "# 43.62"
   ]
  },
  {
   "cell_type": "code",
   "execution_count": 26,
   "metadata": {
    "collapsed": true
   },
   "outputs": [],
   "source": [
    "from collections import Counter\n",
    "class Solution(object):\n",
    "    def findAnagrams(self, s, p):\n",
    "        \"\"\"\n",
    "        :type s: str\n",
    "        :type p: str\n",
    "        :rtype: List[int]\n",
    "        \"\"\"\n",
    "        if len(p)>len(s):\n",
    "            return []\n",
    "    \n",
    "        cp, ci = Counter(p),Counter(s[:len(p)])\n",
    "        rst = []\n",
    "        \n",
    "        if ci==cp:\n",
    "            last_find = True\n",
    "            rst.append(0)\n",
    "        else:\n",
    "            last_find = False\n",
    "        \n",
    "        for i in range(1,len(s)+1-len(p)):\n",
    "            # last find\n",
    "            if last_find:\n",
    "                if s[i-1]==s[i-1+len(p)]:\n",
    "                    rst.append(i)\n",
    "                    continue\n",
    "                else:\n",
    "                    last_find = False\n",
    "                    ci[s[i-1]] -= 1\n",
    "                    ci[s[i-1+len(p)]] += 1\n",
    "                    if ci[s[i-1]]==0:\n",
    "                        del ci[s[i-1]]\n",
    "                    continue\n",
    "            \n",
    "            # last not find\n",
    "            ci[s[i-1]] -= 1\n",
    "            ci[s[i-1+len(p)]] += 1\n",
    "            if ci[s[i-1]]==0:\n",
    "                del ci[s[i-1]]\n",
    "\n",
    "            if ci==cp:\n",
    "                rst.append(i)\n",
    "                last_find = True\n",
    "            else:\n",
    "                last_find = False\n",
    "        return rst"
   ]
  }
 ],
 "metadata": {
  "kernelspec": {
   "display_name": "Python 2",
   "language": "python",
   "name": "python2"
  },
  "language_info": {
   "codemirror_mode": {
    "name": "ipython",
    "version": 2
   },
   "file_extension": ".py",
   "mimetype": "text/x-python",
   "name": "python",
   "nbconvert_exporter": "python",
   "pygments_lexer": "ipython2",
   "version": "2.7.12"
  }
 },
 "nbformat": 4,
 "nbformat_minor": 0
}
