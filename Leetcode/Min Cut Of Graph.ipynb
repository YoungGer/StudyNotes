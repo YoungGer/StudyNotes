{
 "cells": [
  {
   "cell_type": "code",
   "execution_count": 1,
   "metadata": {
    "collapsed": true
   },
   "outputs": [],
   "source": [
    "import re\n",
    "import igraph"
   ]
  },
  {
   "cell_type": "markdown",
   "metadata": {},
   "source": [
    "# Build Graph"
   ]
  },
  {
   "cell_type": "code",
   "execution_count": 107,
   "metadata": {
    "collapsed": false
   },
   "outputs": [],
   "source": [
    "with open('./data/kargerMinCut.txt') as f:\n",
    "    lines = f.readlines()\n",
    "    lines2 = [ [int(i) for i in line.split()] for line in lines]"
   ]
  },
  {
   "cell_type": "code",
   "execution_count": 108,
   "metadata": {
    "collapsed": false,
    "scrolled": true
   },
   "outputs": [],
   "source": [
    "vertex_dict = {line[0]:line[1:] for line in lines2}"
   ]
  },
  {
   "cell_type": "code",
   "execution_count": 162,
   "metadata": {
    "collapsed": true
   },
   "outputs": [],
   "source": [
    "k = [sorted(i) for i in list(set([ (v-1, a-1) for v in vertex_dict.keys() for a in vertex_dict[v] ]))]\n",
    "import itertools\n",
    "k.sort()\n",
    "edges = list(k for k,_ in itertools.groupby(k))"
   ]
  },
  {
   "cell_type": "code",
   "execution_count": 539,
   "metadata": {
    "collapsed": false
   },
   "outputs": [],
   "source": [
    "G= igraph.Graph(edges= edges)"
   ]
  },
  {
   "cell_type": "markdown",
   "metadata": {},
   "source": [
    "# Graph Parameter"
   ]
  },
  {
   "cell_type": "code",
   "execution_count": 541,
   "metadata": {
    "collapsed": false
   },
   "outputs": [
    {
     "data": {
      "text/plain": [
       "'IGRAPH U--- 200 2517 -- '"
      ]
     },
     "execution_count": 541,
     "metadata": {},
     "output_type": "execute_result"
    }
   ],
   "source": [
    "#G.delete_vertices(0)\n",
    "G.summary()"
   ]
  },
  {
   "cell_type": "markdown",
   "metadata": {},
   "source": [
    "# Min Cut"
   ]
  },
  {
   "cell_type": "code",
   "execution_count": 575,
   "metadata": {
    "collapsed": false
   },
   "outputs": [
    {
     "data": {
      "text/plain": [
       "17"
      ]
     },
     "execution_count": 575,
     "metadata": {},
     "output_type": "execute_result"
    }
   ],
   "source": [
    "G= igraph.Graph(edges= edges)\n",
    "N = G.vcount()\n",
    "multiTest(G,1000)"
   ]
  },
  {
   "cell_type": "markdown",
   "metadata": {},
   "source": [
    "# Test"
   ]
  },
  {
   "cell_type": "code",
   "execution_count": 440,
   "metadata": {
    "collapsed": false
   },
   "outputs": [],
   "source": [
    "def singleTest(G):\n",
    "    while G.ecount()>2:  # 当有两条边以上时\n",
    "        last_rst = G.ecount()\n",
    "        # 随机选择一个edge\n",
    "        select_edge = random.sample(G.es,1)[0]\n",
    "        source_vertex_id = select_edge.source\n",
    "        target_vertex_id = select_edge.target\n",
    "        # Constract selected edge\n",
    "        new_order = range(G.vcount())\n",
    "        new_order[target_vertex_id] = source_vertex_id\n",
    "        G.contract_vertices(new_order)    \n",
    "        # remove self loops\n",
    "        G.simplify(multiple=False, loops=True)\n",
    "        # print G.ecount()\n",
    "    rst = G.ecount()\n",
    "    if rst!=0:\n",
    "        return G.ecount()\n",
    "    else:\n",
    "        return last_rst\n",
    "\n",
    "def multiTest(G,num):\n",
    "    rst = []\n",
    "    for i in range(num):\n",
    "        G2 =   G.copy()\n",
    "        rst.append(singleTest(G2))\n",
    "    return min(np.array(rst))"
   ]
  },
  {
   "cell_type": "code",
   "execution_count": 538,
   "metadata": {
    "collapsed": false
   },
   "outputs": [
    {
     "data": {
      "text/plain": [
       "2"
      ]
     },
     "execution_count": 538,
     "metadata": {},
     "output_type": "execute_result"
    }
   ],
   "source": [
    "G = igraph.Graph(edges=[[0,1],[1,3],[3,2],[2,0],[2,1]])\n",
    "N = G.vcount()\n",
    "multiTest(G,int(N**2*np.log2(N)))"
   ]
  }
 ],
 "metadata": {
  "kernelspec": {
   "display_name": "Python 2",
   "language": "python",
   "name": "python2"
  },
  "language_info": {
   "codemirror_mode": {
    "name": "ipython",
    "version": 2
   },
   "file_extension": ".py",
   "mimetype": "text/x-python",
   "name": "python",
   "nbconvert_exporter": "python",
   "pygments_lexer": "ipython2",
   "version": "2.7.12"
  }
 },
 "nbformat": 4,
 "nbformat_minor": 0
}
