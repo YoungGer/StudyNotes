{
 "cells": [
  {
   "cell_type": "markdown",
   "metadata": {},
   "source": [
    "# Divide Two Integers\n",
    "\n",
    "难度：中等  \n",
    "考点：Binary Tree\n",
    "\n",
    "收获：\n",
    "\n",
    "- 计算除法，可以将被除数写成除数不同乘数的和的形式，通过两次循环找到对应的count。\n",
    "\n",
    "25 = 3+6+12+24+....\n",
    "\n",
    "\n",
    "问题描述：\n",
    "\n",
    "Divide two integers without using multiplication, division and mod operator.\n",
    "\n",
    "If it is overflow, return MAX_INT."
   ]
  },
  {
   "cell_type": "code",
   "execution_count": 33,
   "metadata": {
    "collapsed": false
   },
   "outputs": [],
   "source": [
    "def divide(dividend, divisor):\n",
    "    \"\"\"\n",
    "    :type dividend: int\n",
    "    :type divisor: int\n",
    "    :rtype: int\n",
    "    \"\"\"\n",
    "    # 处理特殊情况\n",
    "    if divisor == 0:\n",
    "        return sys.maxsize\n",
    "    \n",
    "    # 处理正负符号\n",
    "    flagFalse = False\n",
    "    if (dividend > 0 and divisor < 0) or (dividend < 0 and divisor > 0):\n",
    "        flagFalse = True\n",
    "    dividend = abs(dividend)\n",
    "    divisor = abs(divisor)\n",
    "        \n",
    "    # 主循环\n",
    "    result = 0\n",
    "    while (dividend>=divisor):  # 外循环，将每次内循环减剩下的重新从最小的divisor开始循环\n",
    "        count = 1\n",
    "        divisorExp = divisor\n",
    "        while (dividend>=divisorExp):  # 内循环，对divisor不断乘以2变成divisorExp\n",
    "            dividend -= divisorExp\n",
    "            result += count\n",
    "            # 下一个变化的值\n",
    "            count += count\n",
    "            divisorExp += divisorExp\n",
    "    \n",
    "    # 处理溢出\n",
    "    if flagFalse:\n",
    "        if result < -2147483648:\n",
    "            return -2147483648\n",
    "        else:\n",
    "            return -result\n",
    "    else:\n",
    "        if result > 2147483647:\n",
    "            return 2147483647\n",
    "        else:\n",
    "            return result"
   ]
  },
  {
   "cell_type": "code",
   "execution_count": 35,
   "metadata": {
    "collapsed": false
   },
   "outputs": [
    {
     "data": {
      "text/plain": [
       "8"
      ]
     },
     "execution_count": 35,
     "metadata": {},
     "output_type": "execute_result"
    }
   ],
   "source": [
    "divide(25,3)"
   ]
  }
 ],
 "metadata": {
  "kernelspec": {
   "display_name": "Python 2",
   "language": "python",
   "name": "python2"
  },
  "language_info": {
   "codemirror_mode": {
    "name": "ipython",
    "version": 2
   },
   "file_extension": ".py",
   "mimetype": "text/x-python",
   "name": "python",
   "nbconvert_exporter": "python",
   "pygments_lexer": "ipython2",
   "version": "2.7.12"
  }
 },
 "nbformat": 4,
 "nbformat_minor": 0
}
