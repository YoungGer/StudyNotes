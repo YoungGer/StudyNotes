{
 "cells": [
  {
   "cell_type": "markdown",
   "metadata": {},
   "source": [
    "Given a binary tree and a sum, find all root-to-leaf paths where each path's sum equals the given sum."
   ]
  },
  {
   "cell_type": "markdown",
   "metadata": {},
   "source": [
    "# Concise Answer"
   ]
  },
  {
   "cell_type": "code",
   "execution_count": 65,
   "metadata": {
    "collapsed": true
   },
   "outputs": [],
   "source": [
    "class Solution:\n",
    "    def pathSum(self, root, sum):\n",
    "        if not root:\n",
    "            return []\n",
    "        val, childs = root.val, (root.left,root.right)\n",
    "        if any(childs):\n",
    "             return [ [val]+path for c in childs for path in self.pathSum(c,sum-val)]\n",
    "        return [[val]] if val==sum else []"
   ]
  },
  {
   "cell_type": "markdown",
   "metadata": {},
   "source": [
    "# Intuition Answer"
   ]
  },
  {
   "cell_type": "code",
   "execution_count": 61,
   "metadata": {
    "collapsed": true
   },
   "outputs": [],
   "source": [
    "rst_list = []\n",
    "class Solution(object):\n",
    "    def pathSum(self, root, sum):\n",
    "        \"\"\"\n",
    "        :type root: TreeNode\n",
    "        :type sum: int\n",
    "        :rtype: List[List[int]]\n",
    "        \"\"\"\n",
    "        global rst_list\n",
    "        rst_list = []\n",
    "        self.dfs(root,0,[],sum)\n",
    "        return rst_list\n",
    "\n",
    "    def dfs(self,root,b_val,b_path,dest):\n",
    "        global rst_list\n",
    "        \n",
    "        # base case\n",
    "        if root==None:\n",
    "            return None\n",
    "        if not root.left and not root.right and b_val+root.val==dest:\n",
    "            rst_list.append(b_path+[root.val])\n",
    "            return None\n",
    "        b_val += root.val\n",
    "        b_path = b_path[:]\n",
    "        b_path += [root.val]\n",
    "        self.dfs(root.left,b_val,b_path,dest)\n",
    "        self.dfs(root.right,b_val,b_path,dest)  "
   ]
  }
 ],
 "metadata": {
  "kernelspec": {
   "display_name": "Python 2",
   "language": "python",
   "name": "python2"
  },
  "language_info": {
   "codemirror_mode": {
    "name": "ipython",
    "version": 2
   },
   "file_extension": ".py",
   "mimetype": "text/x-python",
   "name": "python",
   "nbconvert_exporter": "python",
   "pygments_lexer": "ipython2",
   "version": "2.7.12"
  }
 },
 "nbformat": 4,
 "nbformat_minor": 0
}
