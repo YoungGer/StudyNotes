{
 "cells": [
  {
   "cell_type": "code",
   "execution_count": 70,
   "metadata": {
    "collapsed": true
   },
   "outputs": [],
   "source": [
    "class Solution(object):\n",
    "    def islandPerimeter(self, grid):\n",
    "        \"\"\"\n",
    "        :type grid: List[List[int]]\n",
    "        :rtype: int\n",
    "        \"\"\"\n",
    "        def count(v):\n",
    "            sumall = 0\n",
    "            last = 0\n",
    "            for i in v:\n",
    "                if i==1 and last!=1:\n",
    "                    sumall+=1\n",
    "                last = i\n",
    "            return sumall\n",
    "        \n",
    "        # row wise\n",
    "        row_count = 0\n",
    "        for row in grid:\n",
    "            row_count += count(row)\n",
    "        # column wise\n",
    "        col_count = 0\n",
    "        col_grid = map(list, zip(*grid))\n",
    "        for col in col_grid:\n",
    "            col_count += count(col)\n",
    "        # return \n",
    "        #print row_count\n",
    "        #print col_count\n",
    "        return (row_count+col_count)*2"
   ]
  },
  {
   "cell_type": "code",
   "execution_count": 73,
   "metadata": {
    "collapsed": false
   },
   "outputs": [],
   "source": [
    "class Solution(object):\n",
    "    def islandPerimeter(self,grid):\n",
    "        def count(v):\n",
    "            sumall = 0\n",
    "            last = 0\n",
    "            for i in v:\n",
    "                if i==1 and last!=1:\n",
    "                    sumall+=1\n",
    "                last = i\n",
    "            return sumall\n",
    "        return sum([count(row) for row in grid + map(list, zip(*grid))])*2"
   ]
  }
 ],
 "metadata": {
  "kernelspec": {
   "display_name": "Python 2",
   "language": "python",
   "name": "python2"
  },
  "language_info": {
   "codemirror_mode": {
    "name": "ipython",
    "version": 2
   },
   "file_extension": ".py",
   "mimetype": "text/x-python",
   "name": "python",
   "nbconvert_exporter": "python",
   "pygments_lexer": "ipython2",
   "version": "2.7.12"
  }
 },
 "nbformat": 4,
 "nbformat_minor": 0
}
