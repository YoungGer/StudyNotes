{
 "cells": [
  {
   "cell_type": "code",
   "execution_count": 31,
   "metadata": {
    "collapsed": false
   },
   "outputs": [],
   "source": [
    "class Solution(object):\n",
    "    def maxRotateFunction(self, A):\n",
    "        \"\"\"\n",
    "        :type A: List[int]\n",
    "        :rtype: int\n",
    "        \"\"\"\n",
    "        if not A: return 0\n",
    "        \n",
    "        sum0 = sum(A)\n",
    "        fk = sum([i*k for i,k in enumerate(A)])\n",
    "        maxfk = fk\n",
    "        last = A[-1]\n",
    "        \n",
    "        for i in range(1,len(A)):\n",
    "            fk = fk+sum0-last*(len(A))\n",
    "            if fk>maxfk:\n",
    "                maxfk = fk\n",
    "            last = A[-i-1]\n",
    "        return maxfk"
   ]
  }
 ],
 "metadata": {
  "kernelspec": {
   "display_name": "Python 2",
   "language": "python",
   "name": "python2"
  },
  "language_info": {
   "codemirror_mode": {
    "name": "ipython",
    "version": 2
   },
   "file_extension": ".py",
   "mimetype": "text/x-python",
   "name": "python",
   "nbconvert_exporter": "python",
   "pygments_lexer": "ipython2",
   "version": "2.7.12"
  }
 },
 "nbformat": 4,
 "nbformat_minor": 1
}
