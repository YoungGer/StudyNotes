{
 "cells": [
  {
   "cell_type": "markdown",
   "metadata": {},
   "source": [
    "Description:\n",
    "\n",
    "Count the number of prime numbers less than a non-negative number, n."
   ]
  },
  {
   "cell_type": "code",
   "execution_count": 14,
   "metadata": {
    "collapsed": true
   },
   "outputs": [],
   "source": [
    "class Solution(object):\n",
    "    def countPrimes(self, n):\n",
    "        \"\"\"\n",
    "        :type n: int\n",
    "        :rtype: int\n",
    "        \"\"\"\n",
    "        if n<3:\n",
    "            return 0\n",
    "        verified = [0]*n\n",
    "        prime_count = 0\n",
    "        #prime_nums = []\n",
    "        for i in range(2,n):\n",
    "            if verified[i]==0:\n",
    "                prime_count += 1\n",
    "                #prime_nums.append(i)\n",
    "                for j in range(i*i,n,i):\n",
    "                    verified[j]=1\n",
    "        return prime_count"
   ]
  },
  {
   "cell_type": "code",
   "execution_count": 16,
   "metadata": {
    "collapsed": true
   },
   "outputs": [],
   "source": [
    "class Solution(object):\n",
    "    def countPrimes(self, n):\n",
    "        \"\"\"\n",
    "        :type n: int\n",
    "        :rtype: int\n",
    "        \"\"\"\n",
    "        if n<3:\n",
    "            return 0\n",
    "        primes = [True]*n\n",
    "        # 将不是prime的改成false，只需要改sqrt(n)以内的就可以啦\n",
    "        for i in range(2,int(n**0.5)+1):\n",
    "            if primes[i]:\n",
    "                primes[i**2::i] = [False]*len(primes[i**2::i])\n",
    "        return sum(primes)-2"
   ]
  }
 ],
 "metadata": {
  "kernelspec": {
   "display_name": "Python 2",
   "language": "python",
   "name": "python2"
  },
  "language_info": {
   "codemirror_mode": {
    "name": "ipython",
    "version": 2
   },
   "file_extension": ".py",
   "mimetype": "text/x-python",
   "name": "python",
   "nbconvert_exporter": "python",
   "pygments_lexer": "ipython2",
   "version": "2.7.12"
  }
 },
 "nbformat": 4,
 "nbformat_minor": 0
}
