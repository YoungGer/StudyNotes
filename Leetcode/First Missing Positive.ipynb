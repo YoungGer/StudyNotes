{
 "cells": [
  {
   "cell_type": "markdown",
   "metadata": {},
   "source": [
    "Given an unsorted integer array, find the first missing positive integer.\n",
    "\n",
    "For example,  \n",
    "Given [1,2,0] return 3,  \n",
    "and [3,4,-1,1] return 2.\n",
    "\n",
    "Your algorithm should run in O(n) time and uses constant space."
   ]
  },
  {
   "cell_type": "code",
   "execution_count": 28,
   "metadata": {
    "collapsed": true
   },
   "outputs": [],
   "source": [
    "class Solution(object):\n",
    "    def firstMissingPositive(self,nums):\n",
    "        \"\"\"\n",
    "        :type nums: List[int]\n",
    "        :rtype: int\n",
    "        \"\"\"\n",
    "        count = 0\n",
    "        for i,k in enumerate(nums):\n",
    "            while True:\n",
    "                if k<=0 or k>len(nums) or k==nums[k-1]:\n",
    "                    break\n",
    "                else:\n",
    "                    nums[k-1], k = k, nums[k-1]\n",
    "                    count += 1\n",
    "        for i,k in enumerate(nums):\n",
    "            if i!=k-1:\n",
    "                return i+1\n",
    "        return len(nums)+1"
   ]
  },
  {
   "cell_type": "code",
   "execution_count": 26,
   "metadata": {
    "collapsed": false
   },
   "outputs": [],
   "source": [
    "def firstMissingPositive(nums):\n",
    "    \"\"\"\n",
    "    :type nums: List[int]\n",
    "    :rtype: int\n",
    "    \"\"\"\n",
    "    count = 0\n",
    "    for i,k in enumerate(nums):\n",
    "        while True:\n",
    "            if k<=0 or k>len(nums) or k==nums[k-1]:\n",
    "                break\n",
    "            else:\n",
    "                nums[k-1], k = k, nums[k-1]\n",
    "                count += 1\n",
    "    for i,k in enumerate(nums):\n",
    "        if i!=k-1:\n",
    "            return i+1\n",
    "    return len(nums)+1"
   ]
  },
  {
   "cell_type": "code",
   "execution_count": 27,
   "metadata": {
    "collapsed": false
   },
   "outputs": [
    {
     "data": {
      "text/plain": [
       "2"
      ]
     },
     "execution_count": 27,
     "metadata": {},
     "output_type": "execute_result"
    }
   ],
   "source": [
    "firstMissingPositive([3,4,-1,1])"
   ]
  }
 ],
 "metadata": {
  "kernelspec": {
   "display_name": "Python 2",
   "language": "python",
   "name": "python2"
  },
  "language_info": {
   "codemirror_mode": {
    "name": "ipython",
    "version": 2
   },
   "file_extension": ".py",
   "mimetype": "text/x-python",
   "name": "python",
   "nbconvert_exporter": "python",
   "pygments_lexer": "ipython2",
   "version": "2.7.12"
  }
 },
 "nbformat": 4,
 "nbformat_minor": 0
}
