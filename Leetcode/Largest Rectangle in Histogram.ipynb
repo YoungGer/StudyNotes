{
 "cells": [
  {
   "cell_type": "markdown",
   "metadata": {},
   "source": [
    "难度：困难  \n",
    "考点：Array Stack\n",
    "\n",
    "收获：\n",
    "\n",
    "- 直观的想，每一个块都对应一个包含该块的最大面积。\n",
    "- 问题是如何对块的左右进行延伸计算，这里使用了遍历，分左右两部分，而且在遍历的时候从数量少的到数量多的，这样即使code中有while循环的部分，实际中运行也非常快，因为事先已经计算好了。\n",
    "- 这里也用了复用的思想，新的结果可以通过对之前的结果稍作修改得到，不必全部在计算一遍。"
   ]
  },
  {
   "cell_type": "code",
   "execution_count": 53,
   "metadata": {
    "collapsed": false
   },
   "outputs": [],
   "source": [
    "def largestRectangleArea(heights):\n",
    "    \"\"\"\n",
    "    :type heights: List[int]\n",
    "    :rtype: int\n",
    "    \"\"\"\n",
    "    n = len(heights)\n",
    "    \n",
    "    # 计算left(i)，也就是i左边大于等于heights(i)的块数目（包含i本身）。\n",
    "    left = [1]*n\n",
    "    for i in range(1,n):\n",
    "        j = i-1\n",
    "        while (heights[j]>=heights[i] and j>=0):\n",
    "            left[i] += left[j]\n",
    "            j = j - left[j]\n",
    "            \n",
    "    # 计算right(i)\n",
    "    right = [1]*n\n",
    "    for i in range(n-2,-1,-1):\n",
    "        j = i+1\n",
    "        while (j<=n-1 and heights[j]>=heights[i]):\n",
    "            right[i] += right[j]\n",
    "            j = j + right[j]\n",
    "\n",
    "    # 计算包含每个i对应的最大面积\n",
    "    squares = [heights[i]*(left[i]+right[i]-1) for i in range(n)]\n",
    "    return(max(squares))"
   ]
  }
 ],
 "metadata": {
  "kernelspec": {
   "display_name": "Python 2",
   "language": "python",
   "name": "python2"
  },
  "language_info": {
   "codemirror_mode": {
    "name": "ipython",
    "version": 2
   },
   "file_extension": ".py",
   "mimetype": "text/x-python",
   "name": "python",
   "nbconvert_exporter": "python",
   "pygments_lexer": "ipython2",
   "version": "2.7.12"
  }
 },
 "nbformat": 4,
 "nbformat_minor": 0
}
