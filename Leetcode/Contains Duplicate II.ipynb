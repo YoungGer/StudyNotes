{
 "cells": [
  {
   "cell_type": "code",
   "execution_count": 6,
   "metadata": {
    "collapsed": true
   },
   "outputs": [],
   "source": [
    "class Solution(object):\n",
    "    def containsNearbyDuplicate(self, nums, k):\n",
    "        \"\"\"\n",
    "        :type nums: List[int]\n",
    "        :type k: int\n",
    "        :rtype: bool\n",
    "        \"\"\"\n",
    "        d = {}\n",
    "        for idx,i in enumerate(nums):\n",
    "            if i in d:\n",
    "                d[i] += [idx]\n",
    "            else:\n",
    "                d[i] = [idx]\n",
    "        #print d\n",
    "        for key in d.iterkeys():\n",
    "            # print len(d[key])\n",
    "            # print d[key][-1],d[key][0]\n",
    "            # print d[key][-1] - d[key][0]<=k\n",
    "            if len(d[key])>1:\n",
    "                for i in range(len(d[key])-1):\n",
    "                    if d[key][i+1]-d[key][i] <=k:\n",
    "                        return True\n",
    "        return False"
   ]
  },
  {
   "cell_type": "code",
   "execution_count": 8,
   "metadata": {
    "collapsed": true
   },
   "outputs": [],
   "source": [
    "class Solution(object):\n",
    "    def containsNearbyDuplicate(self, nums, k):\n",
    "        \"\"\"\n",
    "        :type nums: List[int]\n",
    "        :type k: int\n",
    "        :rtype: bool\n",
    "        \"\"\"\n",
    "        d = {}\n",
    "        for idx,i in enumerate(nums):\n",
    "            if i in d:\n",
    "                if idx-d[i][-1]<=k:\n",
    "                    return True\n",
    "                d[i] += [idx]\n",
    "            else:\n",
    "                d[i] = [idx]\n",
    "        return False"
   ]
  }
 ],
 "metadata": {
  "kernelspec": {
   "display_name": "Python 2",
   "language": "python",
   "name": "python2"
  },
  "language_info": {
   "codemirror_mode": {
    "name": "ipython",
    "version": 2
   },
   "file_extension": ".py",
   "mimetype": "text/x-python",
   "name": "python",
   "nbconvert_exporter": "python",
   "pygments_lexer": "ipython2",
   "version": "2.7.12"
  }
 },
 "nbformat": 4,
 "nbformat_minor": 1
}
