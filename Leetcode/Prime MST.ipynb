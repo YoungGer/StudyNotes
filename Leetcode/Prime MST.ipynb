{
 "cells": [
  {
   "cell_type": "code",
   "execution_count": 2,
   "metadata": {
    "collapsed": true
   },
   "outputs": [],
   "source": [
    "d = np.loadtxt(\"./data/prime_mst_edges.txt\")"
   ]
  },
  {
   "cell_type": "code",
   "execution_count": 33,
   "metadata": {
    "collapsed": true
   },
   "outputs": [],
   "source": [
    "allvertices = set(range(1,501))\n",
    "X = set([1])\n",
    "V = allvertices-X\n",
    "mst_sum = 0\n",
    "\n",
    "while len(X)!=500:\n",
    "    min_edge = float('inf')\n",
    "    min_edge_v = None\n",
    "    for edge in d:\n",
    "        start,end,weight = edge\n",
    "        if start in X and end in V and weight<min_edge:\n",
    "            min_edge = weight\n",
    "            min_edge_v = end\n",
    "        if start in V and end in X and weight<min_edge:\n",
    "            min_edge = weight\n",
    "            min_edge_v = start\n",
    "    X.add(min_edge_v)\n",
    "    V.remove(min_edge_v)\n",
    "    mst_sum += min_edge"
   ]
  },
  {
   "cell_type": "code",
   "execution_count": 34,
   "metadata": {
    "collapsed": false
   },
   "outputs": [
    {
     "data": {
      "text/plain": [
       "-3612829.0"
      ]
     },
     "execution_count": 34,
     "metadata": {},
     "output_type": "execute_result"
    }
   ],
   "source": [
    "mst_sum"
   ]
  }
 ],
 "metadata": {
  "kernelspec": {
   "display_name": "Python 2",
   "language": "python",
   "name": "python2"
  },
  "language_info": {
   "codemirror_mode": {
    "name": "ipython",
    "version": 2
   },
   "file_extension": ".py",
   "mimetype": "text/x-python",
   "name": "python",
   "nbconvert_exporter": "python",
   "pygments_lexer": "ipython2",
   "version": "2.7.12"
  }
 },
 "nbformat": 4,
 "nbformat_minor": 0
}
