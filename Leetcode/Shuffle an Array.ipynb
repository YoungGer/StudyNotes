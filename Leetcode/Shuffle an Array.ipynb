{
 "cells": [
  {
   "cell_type": "code",
   "execution_count": 2,
   "metadata": {
    "collapsed": true
   },
   "outputs": [],
   "source": [
    "import random\n",
    "class Solution(object):\n",
    "\n",
    "    def __init__(self, nums):\n",
    "        self.nums = nums\n",
    "\n",
    "    def reset(self):\n",
    "        return self.nums\n",
    "\n",
    "    def shuffle(self):\n",
    "        ans = self.nums[:]                     # copy list\n",
    "        for i in range(len(ans)-1, 0, -1):     # start from end\n",
    "            j = random.randrange(0, i+1)    # generate random index \n",
    "            ans[i], ans[j] = ans[j], ans[i]    # swap\n",
    "        return ans"
   ]
  }
 ],
 "metadata": {
  "kernelspec": {
   "display_name": "Python 2",
   "language": "python",
   "name": "python2"
  },
  "language_info": {
   "codemirror_mode": {
    "name": "ipython",
    "version": 2
   },
   "file_extension": ".py",
   "mimetype": "text/x-python",
   "name": "python",
   "nbconvert_exporter": "python",
   "pygments_lexer": "ipython2",
   "version": "2.7.12"
  }
 },
 "nbformat": 4,
 "nbformat_minor": 0
}
