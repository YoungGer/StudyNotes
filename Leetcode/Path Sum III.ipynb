{
 "cells": [
  {
   "cell_type": "markdown",
   "metadata": {},
   "source": [
    "# O(N^2)"
   ]
  },
  {
   "cell_type": "code",
   "execution_count": 2,
   "metadata": {
    "collapsed": true
   },
   "outputs": [],
   "source": [
    "# Definition for a binary tree node.\n",
    "# class TreeNode(object):\n",
    "#     def __init__(self, x):\n",
    "#         self.val = x\n",
    "#         self.left = None\n",
    "#         self.right = None\n",
    "\n",
    "class Solution(object):\n",
    "    def startSum(self,node,val):\n",
    "        if node.val==val:\n",
    "            self.rst += 1\n",
    "        if node.left: self.startSum(node.left,val-node.val)\n",
    "        if node.right: self.startSum(node.right,val-node.val)\n",
    "    def pathSum(self, root, sum):\n",
    "        \"\"\"\n",
    "        :type root: TreeNode\n",
    "        :type sum: int\n",
    "        :rtype: int\n",
    "        \"\"\"\n",
    "        self.rst = 0\n",
    "        if not root: return 0\n",
    "        queues = [root]\n",
    "        while queues:\n",
    "            node = queues.pop()\n",
    "            self.startSum(node,sum)\n",
    "            #print node.val,self.rst\n",
    "            if node.left: queues.append(node.left)\n",
    "            if node.right:  queues.append(node.right)  \n",
    "        return  self.rst"
   ]
  },
  {
   "cell_type": "code",
   "execution_count": 4,
   "metadata": {
    "collapsed": true
   },
   "outputs": [],
   "source": [
    "class SolutionBruteForce(object):\n",
    "    def find_paths(self, root, target):\n",
    "        # find path which starts at root\n",
    "        if root:\n",
    "            return int(root.val == target) + self.find_paths(root.left, target-root.val) + self.find_paths(root.right, target-root.val)\n",
    "        return 0\n",
    "\n",
    "    def pathSum(self, root, sum):\n",
    "        \"\"\"\n",
    "        :type root: TreeNode\n",
    "        :type sum: int\n",
    "        :rtype: int\n",
    "        \"\"\"\n",
    "        if root:\n",
    "            return self.find_paths(root, sum) + self.pathSum(root.left, sum) + self.pathSum(root.right, sum)\n",
    "        return 0"
   ]
  },
  {
   "cell_type": "markdown",
   "metadata": {},
   "source": [
    "# O(n) beats 95%"
   ]
  },
  {
   "cell_type": "code",
   "execution_count": 13,
   "metadata": {
    "collapsed": true
   },
   "outputs": [],
   "source": [
    "# Definition for a binary tree node.\n",
    "# class TreeNode(object):\n",
    "#     def __init__(self, x):\n",
    "#         self.val = x\n",
    "#         self.left = None\n",
    "#         self.right = None\n",
    "\n",
    "class Solution(object):\n",
    "    def endNode(self,node,totSum,d):\n",
    "        # totSum已经加过了node.val\n",
    "        key = totSum - self.target\n",
    "        self.rst += d.get(key,0)\n",
    "        d[totSum] = d.get(totSum,0) + 1\n",
    "        if node.left: self.endNode(node.left,totSum+node.left.val,d)\n",
    "        if node.right: self.endNode(node.right,totSum+node.right.val,d)\n",
    "        d[totSum] -= 1\n",
    "        \n",
    "    def pathSum(self, root, sum):\n",
    "        \"\"\"\n",
    "        :type root: TreeNode\n",
    "        :type sum: int\n",
    "        :rtype: int\n",
    "        \"\"\"\n",
    "        if not root: return 0\n",
    "        self.rst = 0\n",
    "        self.target = sum\n",
    "        self.endNode(root,root.val,{0:1})\n",
    "        return self.rst"
   ]
  }
 ],
 "metadata": {
  "kernelspec": {
   "display_name": "Python 2",
   "language": "python",
   "name": "python2"
  },
  "language_info": {
   "codemirror_mode": {
    "name": "ipython",
    "version": 2
   },
   "file_extension": ".py",
   "mimetype": "text/x-python",
   "name": "python",
   "nbconvert_exporter": "python",
   "pygments_lexer": "ipython2",
   "version": "2.7.12"
  }
 },
 "nbformat": 4,
 "nbformat_minor": 0
}
