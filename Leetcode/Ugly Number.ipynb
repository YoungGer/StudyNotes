{
 "cells": [
  {
   "cell_type": "markdown",
   "metadata": {},
   "source": [
    "# Ugly Number\n",
    "\n",
    "难度：简单  \n",
    "考点：Math\n",
    "\n",
    "收获：\n",
    "\n",
    "- 首先找到每个factor的最大值，然后比较。\n",
    "\n",
    "\n",
    "问题描述：\n",
    "\n",
    "Write a program to check whether a given number is an ugly number.\n",
    "\n",
    "Ugly numbers are positive numbers whose prime factors only include 2, 3, 5. For example, 6, 8 are ugly while 14 is not ugly since it includes another prime factor 7.\n",
    "\n",
    "Note that 1 is typically treated as an ugly number."
   ]
  },
  {
   "cell_type": "code",
   "execution_count": 130,
   "metadata": {
    "collapsed": true
   },
   "outputs": [],
   "source": [
    "def findMaxFactor(x,divisor):\n",
    "    count = 1\n",
    "    divisorExp = divisor\n",
    "    while(divisorExp<=x):\n",
    "        # 判断是否可以整除\n",
    "        if (x%divisorExp)==0:\n",
    "            count += 1\n",
    "            divisorExp = divisor**count\n",
    "        else:\n",
    "            return(count-1)\n",
    "    return(count-1)\n",
    "def isUgly(num):\n",
    "    \"\"\"\n",
    "    :type num: int\n",
    "    :rtype: bool\n",
    "    \"\"\"\n",
    "    f5 = findMaxFactor(num,5)\n",
    "    f3 = findMaxFactor(num,3)\n",
    "    f2 = findMaxFactor(num,2)\n",
    "    #print f5,f3,f2\n",
    "    if 5**f5 * 3**f3 * 2**f2 ==num:\n",
    "        return True\n",
    "    else:\n",
    "        return False"
   ]
  }
 ],
 "metadata": {
  "kernelspec": {
   "display_name": "Python 2",
   "language": "python",
   "name": "python2"
  },
  "language_info": {
   "codemirror_mode": {
    "name": "ipython",
    "version": 2
   },
   "file_extension": ".py",
   "mimetype": "text/x-python",
   "name": "python",
   "nbconvert_exporter": "python",
   "pygments_lexer": "ipython2",
   "version": "2.7.12"
  }
 },
 "nbformat": 4,
 "nbformat_minor": 0
}
