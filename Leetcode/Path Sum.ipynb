{
 "cells": [
  {
   "cell_type": "markdown",
   "metadata": {},
   "source": [
    "# Path Sum\n",
    "\n",
    "难度：简单  \n",
    "考点：Tree, DFS\n",
    "\n",
    "收获：\n",
    "\n",
    "- 每次遍历肯定要遍历到所有的叶子，每遍历一个节点减去值，减到小于0的值后就停止遍历。当且仅当遍历到叶子时值为0表明成功。\n",
    "- BFS,DFS并没有那个有明显的优势，采用recursive的循环遍历就可以。\n",
    "\n",
    "\n",
    "问题描述：\n",
    "\n",
    "Given a binary tree and a sum, determine if the tree has a root-to-leaf path such that adding up all the values along the path equals the given sum."
   ]
  },
  {
   "cell_type": "code",
   "execution_count": 10,
   "metadata": {
    "collapsed": true
   },
   "outputs": [],
   "source": [
    "# Definition for a binary tree node.\n",
    "class TreeNode(object):\n",
    "    def __init__(self, x):\n",
    "        self.val = x\n",
    "        self.left = None\n",
    "        self.right = None\n",
    "\n",
    "class Solution(object):\n",
    "    def hasPathSum(self, root, sum):\n",
    "        \"\"\"\n",
    "        :type root: TreeNode\n",
    "        :type sum: int\n",
    "        :rtype: bool\n",
    "        \"\"\"\n",
    "        if not root:\n",
    "            return False\n",
    "        if sum==root.val and root.left==None and  root.right==None:\n",
    "            return True\n",
    "        return self.hasPathSum(root.left, sum-root.val) or self.hasPathSum(root.right, sum-root.val)"
   ]
  }
 ],
 "metadata": {
  "kernelspec": {
   "display_name": "Python 2",
   "language": "python",
   "name": "python2"
  },
  "language_info": {
   "codemirror_mode": {
    "name": "ipython",
    "version": 2
   },
   "file_extension": ".py",
   "mimetype": "text/x-python",
   "name": "python",
   "nbconvert_exporter": "python",
   "pygments_lexer": "ipython2",
   "version": "2.7.12"
  }
 },
 "nbformat": 4,
 "nbformat_minor": 0
}
