{
 "cells": [
  {
   "cell_type": "code",
   "execution_count": 3,
   "metadata": {
    "collapsed": true
   },
   "outputs": [],
   "source": [
    "class Solution(object):\n",
    "    def majorityElement(self, nums):\n",
    "        \"\"\"\n",
    "        :type nums: List[int]\n",
    "        :rtype: int\n",
    "        \"\"\"\n",
    "        dic = {}\n",
    "        for i in nums:\n",
    "            dic[i] = dic.get(i,0)+1\n",
    "            if dic[i] > len(nums)/2:\n",
    "                return i"
   ]
  },
  {
   "cell_type": "code",
   "execution_count": 1,
   "metadata": {
    "collapsed": true
   },
   "outputs": [],
   "source": [
    "# one pass + dictionary\n",
    "def majorityElement2(self, nums):\n",
    "    dic = {}\n",
    "    for num in nums:\n",
    "        if num not in dic:\n",
    "            dic[num] = 1\n",
    "        if dic[num] > len(nums)//2:\n",
    "            return num\n",
    "        else:\n",
    "            dic[num] += 1 "
   ]
  },
  {
   "cell_type": "code",
   "execution_count": 2,
   "metadata": {
    "collapsed": true
   },
   "outputs": [],
   "source": [
    "# Sotring            \n",
    "def majorityElement4(self, nums):\n",
    "    nums.sort()\n",
    "    return nums[len(nums)//2]"
   ]
  }
 ],
 "metadata": {
  "kernelspec": {
   "display_name": "Python 2",
   "language": "python",
   "name": "python2"
  },
  "language_info": {
   "codemirror_mode": {
    "name": "ipython",
    "version": 2
   },
   "file_extension": ".py",
   "mimetype": "text/x-python",
   "name": "python",
   "nbconvert_exporter": "python",
   "pygments_lexer": "ipython2",
   "version": "2.7.12"
  }
 },
 "nbformat": 4,
 "nbformat_minor": 0
}
