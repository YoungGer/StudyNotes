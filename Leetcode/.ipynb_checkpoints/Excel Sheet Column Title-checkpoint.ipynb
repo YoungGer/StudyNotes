{
 "cells": [
  {
   "cell_type": "code",
   "execution_count": 6,
   "metadata": {
    "collapsed": true
   },
   "outputs": [],
   "source": [
    "class Solution(object):\n",
    "    def convertToTitle(self, n):\n",
    "        \"\"\"\n",
    "        :type n: int\n",
    "        :rtype: str\n",
    "        \"\"\"\n",
    "        dic = {i[1]:i[0] for i in zip(string.ascii_uppercase,range(1,27))}\n",
    "        dic[0] = ''\n",
    "        remainder = []\n",
    "        while n>=26:\n",
    "            if n%26==0:\n",
    "                remainder.append(26)\n",
    "                n = n/26-1\n",
    "            else:\n",
    "                remainder.append(n%26)\n",
    "                n = n/26\n",
    "        remainder.append(n)\n",
    "        return reduce(lambda x,y:x+y, map(lambda x:dic[x] ,remainder[::-1]))"
   ]
  },
  {
   "cell_type": "code",
   "execution_count": 7,
   "metadata": {
    "collapsed": false
   },
   "outputs": [],
   "source": [
    "class Solution(object):\n",
    "    def convertToTitle(self, n):\n",
    "        return \"\" if n == 0 else self.convertToTitle((n - 1) / 26) + chr((n - 1) % 26 + ord('A'))"
   ]
  }
 ],
 "metadata": {
  "kernelspec": {
   "display_name": "Python 2",
   "language": "python",
   "name": "python2"
  },
  "language_info": {
   "codemirror_mode": {
    "name": "ipython",
    "version": 2
   },
   "file_extension": ".py",
   "mimetype": "text/x-python",
   "name": "python",
   "nbconvert_exporter": "python",
   "pygments_lexer": "ipython2",
   "version": "2.7.12"
  }
 },
 "nbformat": 4,
 "nbformat_minor": 0
}
