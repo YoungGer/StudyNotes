{
 "cells": [
  {
   "cell_type": "markdown",
   "metadata": {},
   "source": [
    "Implement atoi to convert a string to an integer.\n",
    "\n",
    "Hint: Carefully consider all possible input cases. If you want a challenge, please do not see below and ask yourself what are the possible input cases.\n",
    "\n",
    "Notes: It is intended for this problem to be specified vaguely (ie, no given input specs). You are responsible to gather all the input requirements up front.\n",
    "\n",
    "Update (2015-02-10):  \n",
    "The signature of the C++ function had been updated. If you still see your function signature accepts a const char * argument, please click the reload button  to reset your code definition."
   ]
  },
  {
   "cell_type": "code",
   "execution_count": 33,
   "metadata": {
    "collapsed": false
   },
   "outputs": [],
   "source": [
    "class Solution(object):\n",
    "    def myAtoi(self, str):\n",
    "        \"\"\"\n",
    "        :type str: str\n",
    "        :rtype: int\n",
    "        \"\"\"\n",
    "        try:\n",
    "            l = list(str.strip())\n",
    "            sign = -1 if l[0]=='-' else 1\n",
    "            if l[0] in '+-': l.pop(0)\n",
    "\n",
    "            rst = 0\n",
    "            for i in l:\n",
    "                if i.isdigit():\n",
    "                    rst = rst*10 + int(i)\n",
    "                else:\n",
    "                    break\n",
    "\n",
    "            rst = sign*rst\n",
    "\n",
    "            if rst<-2**31:\n",
    "                return -2**31\n",
    "            elif rst>2**31-1:\n",
    "                return 2**31-1\n",
    "            else:\n",
    "                return rst\n",
    "        except:\n",
    "            return 0"
   ]
  }
 ],
 "metadata": {
  "kernelspec": {
   "display_name": "Python 2",
   "language": "python",
   "name": "python2"
  },
  "language_info": {
   "codemirror_mode": {
    "name": "ipython",
    "version": 2
   },
   "file_extension": ".py",
   "mimetype": "text/x-python",
   "name": "python",
   "nbconvert_exporter": "python",
   "pygments_lexer": "ipython2",
   "version": "2.7.12"
  }
 },
 "nbformat": 4,
 "nbformat_minor": 0
}
