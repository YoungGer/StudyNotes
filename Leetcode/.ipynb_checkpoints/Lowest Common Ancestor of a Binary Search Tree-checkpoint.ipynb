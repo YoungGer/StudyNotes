{
 "cells": [
  {
   "cell_type": "markdown",
   "metadata": {},
   "source": [
    "# 11.69%，未使用BST的特性"
   ]
  },
  {
   "cell_type": "code",
   "execution_count": 4,
   "metadata": {
    "collapsed": false
   },
   "outputs": [],
   "source": [
    "# Definition for a binary tree node.\n",
    "# class TreeNode(object):\n",
    "#     def __init__(self, x):\n",
    "#         self.val = x\n",
    "#         self.left = None\n",
    "#         self.right = None\n",
    "\n",
    "class Solution(object):\n",
    "    def lowestCommonAncestor(self, root, p, q):\n",
    "        \"\"\"\n",
    "        :type root: TreeNode\n",
    "        :type p: TreeNode\n",
    "        :type q: TreeNode\n",
    "        :rtype: TreeNode\n",
    "        \"\"\"\n",
    "        # part1\n",
    "        def dfs(node,path): # 已经把该节点加入path中了\n",
    "            # 判断是否是需要的节点\n",
    "            if node==p and not flag_p:\n",
    "                pathes.append(path)\n",
    "                flag_p = True\n",
    "            if node==q and not flag_q:\n",
    "                pathes.append(path)\n",
    "                flag_q = True\n",
    "            if flag_p and flag_q:\n",
    "                return\n",
    "            if node.left: dfs(node.left,path+[node.right])\n",
    "            if node.right: dfs(node.right,path+[node.left])\n",
    "        pathes = []\n",
    "        flag_p, flag_q = False,False\n",
    "        dfs(root,[root])\n",
    "        # part 2\n",
    "        assert len(pathes)==2\n",
    "        path1,path2 = pathes[0],pathes[1]\n",
    "        i = 0\n",
    "        while True:\n",
    "            try:\n",
    "                if path1[i]==path2[i]:\n",
    "                    last_node = path1[i]\n",
    "                    i += 1\n",
    "                else:\n",
    "                    break\n",
    "            except:\n",
    "                break\n",
    "        return last_node"
   ]
  },
  {
   "cell_type": "markdown",
   "metadata": {},
   "source": [
    "# 使用了BST的特性,58.39%"
   ]
  },
  {
   "cell_type": "code",
   "execution_count": 5,
   "metadata": {
    "collapsed": true
   },
   "outputs": [],
   "source": [
    "# Definition for a binary tree node.\n",
    "# class TreeNode(object):\n",
    "#     def __init__(self, x):\n",
    "#         self.val = x\n",
    "#         self.left = None\n",
    "#         self.right = None\n",
    "\n",
    "class Solution(object):\n",
    "    def lowestCommonAncestor(self, root, p, q):\n",
    "        \"\"\"\n",
    "        :type root: TreeNode\n",
    "        :type p: TreeNode\n",
    "        :type q: TreeNode\n",
    "        :rtype: TreeNode\n",
    "        \"\"\"\n",
    "        while (root.val-p.val)*(root.val-q.val)>0:\n",
    "            root = root.left if p.val<root.val else root.right\n",
    "        return root"
   ]
  }
 ],
 "metadata": {
  "kernelspec": {
   "display_name": "Python 2",
   "language": "python",
   "name": "python2"
  },
  "language_info": {
   "codemirror_mode": {
    "name": "ipython",
    "version": 2
   },
   "file_extension": ".py",
   "mimetype": "text/x-python",
   "name": "python",
   "nbconvert_exporter": "python",
   "pygments_lexer": "ipython2",
   "version": "2.7.12"
  }
 },
 "nbformat": 4,
 "nbformat_minor": 0
}
