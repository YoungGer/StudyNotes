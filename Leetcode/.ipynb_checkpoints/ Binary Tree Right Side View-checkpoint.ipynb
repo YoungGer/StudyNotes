{
 "cells": [
  {
   "cell_type": "code",
   "execution_count": 2,
   "metadata": {
    "collapsed": true
   },
   "outputs": [],
   "source": [
    "# Definition for a binary tree node.\n",
    "# class TreeNode(object):\n",
    "#     def __init__(self, x):\n",
    "#         self.val = x\n",
    "#         self.left = None\n",
    "#         self.right = None\n",
    "\n",
    "from collections import deque\n",
    "\n",
    "class Solution(object):\n",
    "    def rightSideView(self, root):\n",
    "        \"\"\"\n",
    "        :type root: TreeNode\n",
    "        :rtype: List[int]\n",
    "        \"\"\"\n",
    "        if not root: return []\n",
    "        \n",
    "        root.level = 0\n",
    "        q = deque([root])\n",
    "        \n",
    "        last_level = -1\n",
    "        rst = []\n",
    "        \n",
    "        while q:\n",
    "            node = q.popleft()\n",
    "            if node.level!=last_level:\n",
    "                rst.append(node.val)\n",
    "                last_level = node.level\n",
    "    \n",
    "            if node.right:\n",
    "                node.right.level = node.level + 1\n",
    "                q.append(node.right)\n",
    "            if node.left:\n",
    "                node.left.level = node.level + 1\n",
    "                q.append(node.left)\n",
    "        \n",
    "        return rst"
   ]
  }
 ],
 "metadata": {
  "kernelspec": {
   "display_name": "Python 2",
   "language": "python",
   "name": "python2"
  },
  "language_info": {
   "codemirror_mode": {
    "name": "ipython",
    "version": 2
   },
   "file_extension": ".py",
   "mimetype": "text/x-python",
   "name": "python",
   "nbconvert_exporter": "python",
   "pygments_lexer": "ipython2",
   "version": "2.7.12"
  }
 },
 "nbformat": 4,
 "nbformat_minor": 1
}
