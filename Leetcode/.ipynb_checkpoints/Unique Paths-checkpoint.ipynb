{
 "cells": [
  {
   "cell_type": "code",
   "execution_count": 4,
   "metadata": {
    "collapsed": true
   },
   "outputs": [],
   "source": [
    "class Solution(object):\n",
    "    def uniquePaths(self, m, n):\n",
    "        \"\"\"\n",
    "        :type m: int\n",
    "        :type n: int\n",
    "        :rtype: int\n",
    "        \"\"\"\n",
    "        # sanity check\n",
    "        if m<1 or n<1:\n",
    "            return 0\n",
    "        # init\n",
    "        array = [[1]*n for i in range(m)]\n",
    "        # dp\n",
    "        for mi in range(1,m):\n",
    "            for ni in range(1,n):\n",
    "                array[mi][ni] = array[mi-1][ni] + array[mi][ni-1]\n",
    "        return array[m-1][n-1]"
   ]
  }
 ],
 "metadata": {
  "kernelspec": {
   "display_name": "Python 2",
   "language": "python",
   "name": "python2"
  },
  "language_info": {
   "codemirror_mode": {
    "name": "ipython",
    "version": 2
   },
   "file_extension": ".py",
   "mimetype": "text/x-python",
   "name": "python",
   "nbconvert_exporter": "python",
   "pygments_lexer": "ipython2",
   "version": "2.7.12"
  }
 },
 "nbformat": 4,
 "nbformat_minor": 1
}
