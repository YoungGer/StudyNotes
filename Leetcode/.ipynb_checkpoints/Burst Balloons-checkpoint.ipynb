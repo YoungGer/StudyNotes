{
 "cells": [
  {
   "cell_type": "markdown",
   "metadata": {},
   "source": [
    "# original"
   ]
  },
  {
   "cell_type": "code",
   "execution_count": 35,
   "metadata": {
    "collapsed": true
   },
   "outputs": [],
   "source": [
    "import copy\n",
    "class Solution(object):\n",
    "    def p(self,idx,nums):\n",
    "        left = (nums+[1])[idx-1]\n",
    "        right = (nums+[1])[idx+1]\n",
    "        return nums[idx]*left*right\n",
    "    def new_nums(self,idx,nums):\n",
    "        new_nums = copy.copy(nums)\n",
    "        new_nums.pop(idx)\n",
    "        return new_nums\n",
    "\n",
    "    def dfs(self, nums):\n",
    "        \"\"\"\n",
    "        :type nums: List[int]\n",
    "        :rtype: int\n",
    "        \"\"\"\n",
    "        if not nums:\n",
    "            return 0\n",
    "\n",
    "        key = reduce(lambda x,y:x+y,map(str,nums))\n",
    "        try:\n",
    "            return d[key]\n",
    "        except:\n",
    "            if len(nums)==1:\n",
    "                d[key]=nums[0]\n",
    "            elif len(nums)==2:\n",
    "                d[key]= max([i+nums[0]*nums[1] for i in nums])\n",
    "            else:\n",
    "                d[key] = max([self.p(i,nums) + self.dfs(self.new_nums(i,nums)) for i in range(len(nums))])\n",
    "            return d[key]\n",
    "        \n",
    "    def maxCoins(self, nums):\n",
    "        \"\"\"\n",
    "        :type nums: List[int]\n",
    "        :rtype: int\n",
    "        \"\"\"\n",
    "        d = {}\n",
    "        return self.dfs(nums)"
   ]
  },
  {
   "cell_type": "code",
   "execution_count": 37,
   "metadata": {
    "collapsed": false
   },
   "outputs": [
    {
     "data": {
      "text/plain": [
       "3304"
      ]
     },
     "execution_count": 37,
     "metadata": {},
     "output_type": "execute_result"
    }
   ],
   "source": [
    "a = Solution()\n",
    "a.maxCoins([2,4,8,4,0,7,8,9,1,2,4,7,1,7,3,6])"
   ]
  },
  {
   "cell_type": "markdown",
   "metadata": {},
   "source": [
    "# bottom up"
   ]
  },
  {
   "cell_type": "code",
   "execution_count": 75,
   "metadata": {
    "collapsed": true
   },
   "outputs": [],
   "source": [
    "class Solution(object):\n",
    "    def maxCoins(self,nums):\n",
    "        \"\"\"\n",
    "        :type nums: List[int]\n",
    "        :rtype: int\n",
    "        \"\"\"\n",
    "        nums = [1]+[i for i in nums if i!= 0]+[1]\n",
    "        N = len(nums)\n",
    "        # coin array\n",
    "        coins = [[0]*N for i in range(N)]\n",
    "        # init array\n",
    "        for i in range(N-2):\n",
    "            coins[i][i+2] = nums[i+1]*nums[i]*nums[i+2]\n",
    "        # padding array\n",
    "        right_size = 2\n",
    "        for ll in range(N-3,0,-1): # padding size\n",
    "            right_size += 1\n",
    "            for left in range(0,ll):\n",
    "                right = left+right_size\n",
    "                for middle in  range(left+1,right):\n",
    "                    coins[left][right] = max(coins[left][right],nums[middle]*nums[left]*nums[right]+ \\\n",
    "                                             coins[left][middle]+coins[middle][right])\n",
    "        return coins[0][-1]"
   ]
  },
  {
   "cell_type": "code",
   "execution_count": 74,
   "metadata": {
    "collapsed": false
   },
   "outputs": [
    {
     "data": {
      "text/plain": [
       "167"
      ]
     },
     "execution_count": 74,
     "metadata": {},
     "output_type": "execute_result"
    }
   ],
   "source": [
    "maxCoins([3, 1, 5, 8])"
   ]
  }
 ],
 "metadata": {
  "kernelspec": {
   "display_name": "Python 2",
   "language": "python",
   "name": "python2"
  },
  "language_info": {
   "codemirror_mode": {
    "name": "ipython",
    "version": 2
   },
   "file_extension": ".py",
   "mimetype": "text/x-python",
   "name": "python",
   "nbconvert_exporter": "python",
   "pygments_lexer": "ipython2",
   "version": "2.7.12"
  }
 },
 "nbformat": 4,
 "nbformat_minor": 0
}
