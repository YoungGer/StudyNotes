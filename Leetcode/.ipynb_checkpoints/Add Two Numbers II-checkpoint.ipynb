{
 "cells": [
  {
   "cell_type": "code",
   "execution_count": 11,
   "metadata": {
    "collapsed": true
   },
   "outputs": [],
   "source": [
    "# Definition for singly-linked list.\n",
    "# class ListNode(object):\n",
    "#     def __init__(self, x):\n",
    "#         self.val = x\n",
    "#         self.next = None\n",
    "\n",
    "class Solution(object):\n",
    "    def addTwoNumbers(self, l1, l2):\n",
    "        \"\"\"\n",
    "        :type l1: ListNode\n",
    "        :type l2: ListNode\n",
    "        :rtype: ListNode\n",
    "        \"\"\"\n",
    "        h1, h2 = l1, l2\n",
    "        v1, v2 = 0, 0\n",
    "        while h1:\n",
    "            v1 = v1*10+h1.val\n",
    "            h1 = h1.next\n",
    "        while h2:\n",
    "            v2 = v2*10+h2.val\n",
    "            h2 = h2.next\n",
    "        print (v1, v2)\n",
    "        \n",
    "        num = v1+v2\n",
    "        rst = []\n",
    "        while num>=10:\n",
    "            rst.append(num % 10)\n",
    "            num = num // 10\n",
    "        rst.append(num)\n",
    "        \n",
    "        head = ListNode(rst[-1])\n",
    "        node = head\n",
    "        for i in rst[-2::-1]:\n",
    "            node.next = ListNode(i)\n",
    "            node = node.next\n",
    "        return head"
   ]
  }
 ],
 "metadata": {
  "kernelspec": {
   "display_name": "Python 2",
   "language": "python",
   "name": "python2"
  },
  "language_info": {
   "codemirror_mode": {
    "name": "ipython",
    "version": 2
   },
   "file_extension": ".py",
   "mimetype": "text/x-python",
   "name": "python",
   "nbconvert_exporter": "python",
   "pygments_lexer": "ipython2",
   "version": "2.7.12"
  }
 },
 "nbformat": 4,
 "nbformat_minor": 0
}
