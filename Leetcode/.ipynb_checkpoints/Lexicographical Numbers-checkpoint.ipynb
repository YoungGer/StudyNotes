{
 "cells": [
  {
   "cell_type": "markdown",
   "metadata": {},
   "source": [
    "Given an integer n, return 1 - n in lexicographical order.\n",
    "\n",
    "For example, given 13, return: [1,10,11,12,13,2,3,4,5,6,7,8,9].\n",
    "\n",
    "Please optimize your algorithm to use less time and space. The input size may be as large as 5,000,000."
   ]
  },
  {
   "cell_type": "markdown",
   "metadata": {},
   "source": [
    "# Recursive"
   ]
  },
  {
   "cell_type": "code",
   "execution_count": 2,
   "metadata": {
    "collapsed": true
   },
   "outputs": [],
   "source": [
    "# Time Limit Exceeded\n",
    "class Solution(object):\n",
    "    def lexicalOrder(self, n):\n",
    "        \"\"\"\n",
    "        :type n: int\n",
    "        :rtype: List[int]\n",
    "        \"\"\"\n",
    "        def dfs(self,i):\n",
    "            if i<n:\n",
    "                results.append(i)\n",
    "                for j in range(10):\n",
    "                    dfs(i*10+j)\n",
    "        results = []\n",
    "        for i in range(1,10):\n",
    "            dfs(i)\n",
    "        return results"
   ]
  },
  {
   "cell_type": "markdown",
   "metadata": {},
   "source": [
    "# Iterative"
   ]
  },
  {
   "cell_type": "code",
   "execution_count": 8,
   "metadata": {
    "collapsed": false
   },
   "outputs": [],
   "source": [
    "class Solution(object):\n",
    "    def lexicalOrder(self, n):\n",
    "        \"\"\"\n",
    "        :type n: int\n",
    "        :rtype: List[int]\n",
    "        \"\"\"\n",
    "        stack = range(min(9,n),0,-1)\n",
    "        rst = []\n",
    "        while stack:\n",
    "            cur = stack.pop()\n",
    "            if cur<=n:\n",
    "                rst.append(cur)\n",
    "                # 尽快减枝，否则超出时间\n",
    "                if cur*10 > n:\n",
    "                    continue\n",
    "                for i in xrange(9,-1,-1):\n",
    "                    stack.append(cur*10+i)\n",
    "        return rst "
   ]
  }
 ],
 "metadata": {
  "kernelspec": {
   "display_name": "Python 2",
   "language": "python",
   "name": "python2"
  },
  "language_info": {
   "codemirror_mode": {
    "name": "ipython",
    "version": 2
   },
   "file_extension": ".py",
   "mimetype": "text/x-python",
   "name": "python",
   "nbconvert_exporter": "python",
   "pygments_lexer": "ipython2",
   "version": "2.7.12"
  }
 },
 "nbformat": 4,
 "nbformat_minor": 0
}
