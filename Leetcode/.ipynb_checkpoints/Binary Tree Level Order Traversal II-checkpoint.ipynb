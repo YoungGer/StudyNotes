{
 "cells": [
  {
   "cell_type": "code",
   "execution_count": 8,
   "metadata": {
    "collapsed": true
   },
   "outputs": [],
   "source": [
    "# Definition for a binary tree node.\n",
    "# class TreeNode(object):\n",
    "#     def __init__(self, x):\n",
    "#         self.val = x\n",
    "#         self.left = None\n",
    "#         self.right = None\n",
    "\n",
    "class Solution(object):\n",
    "    def levelOrderBottom(self, root):\n",
    "        \"\"\"\n",
    "        :type root: TreeNode\n",
    "        :rtype: List[List[int]]\n",
    "        \"\"\"\n",
    "        # base case\n",
    "        if not root:\n",
    "            return []\n",
    "        \n",
    "        root.level = 0\n",
    "        queues = [root]\n",
    "        rst = []\n",
    "        sub_rst = []\n",
    "        last_level = -1\n",
    "        \n",
    "        while queues:\n",
    "            \n",
    "            node = queues.pop(0)\n",
    "            \n",
    "            if node.level != last_level:\n",
    "                rst.append(sub_rst)\n",
    "                last_level = node.level\n",
    "                sub_rst = [node.val]\n",
    "            else:\n",
    "                sub_rst.append(node.val)\n",
    "                \n",
    "            if node.left:\n",
    "                node.left.level = last_level+1\n",
    "                queues.append(node.left)\n",
    "            if node.right:\n",
    "                node.right.level = last_level+1\n",
    "                queues.append(node.right)\n",
    "        rst.append(sub_rst)\n",
    "        return rst[:0:-1]        "
   ]
  },
  {
   "cell_type": "code",
   "execution_count": 10,
   "metadata": {
    "collapsed": true
   },
   "outputs": [],
   "source": [
    "# Definition for a binary tree node.\n",
    "# class TreeNode(object):\n",
    "#     def __init__(self, x):\n",
    "#         self.val = x\n",
    "#         self.left = None\n",
    "#         self.right = None\n",
    "from collections import deque\n",
    "class Solution(object):\n",
    "    def levelOrderBottom(self, root):\n",
    "        \"\"\"\n",
    "        :type root: TreeNode\n",
    "        :rtype: List[List[int]]\n",
    "        \"\"\"\n",
    "        # base case\n",
    "        if not root:\n",
    "            return []\n",
    "        queues, rst = deque([(root,1)]), []\n",
    "        while queues:\n",
    "            node,level = queues.popleft()\n",
    "            if level > len(rst):\n",
    "                rst.append([node.val])\n",
    "            else:\n",
    "                rst[-1].append(node.val)\n",
    "            if node.left:\n",
    "                queues.append((node.left,level+1))\n",
    "            if node.right:\n",
    "                queues.append((node.right,level+1))\n",
    "        return rst[::-1]"
   ]
  }
 ],
 "metadata": {
  "kernelspec": {
   "display_name": "Python 2",
   "language": "python",
   "name": "python2"
  },
  "language_info": {
   "codemirror_mode": {
    "name": "ipython",
    "version": 2
   },
   "file_extension": ".py",
   "mimetype": "text/x-python",
   "name": "python",
   "nbconvert_exporter": "python",
   "pygments_lexer": "ipython2",
   "version": "2.7.12"
  }
 },
 "nbformat": 4,
 "nbformat_minor": 0
}
