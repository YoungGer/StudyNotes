{
 "cells": [
  {
   "cell_type": "markdown",
   "metadata": {},
   "source": [
    "mplement a basic calculator to evaluate a simple expression string.\n",
    "\n",
    "The expression string contains only non-negative integers, +, -, *, / operators and empty spaces . The integer division should truncate toward zero.\n",
    "\n",
    "You may assume that the given expression is always valid.\n",
    "\n",
    "Some examples:  \n",
    "\"3+2*2\" = 7   \n",
    "\" 3/2 \" = 1  \n",
    "\" 3+5 / 2 \" = 5\n",
    "\n",
    "Note: Do not use the eval built-in library function."
   ]
  },
  {
   "cell_type": "markdown",
   "metadata": {},
   "source": [
    "# Split the splits "
   ]
  },
  {
   "cell_type": "code",
   "execution_count": 36,
   "metadata": {
    "collapsed": true
   },
   "outputs": [],
   "source": [
    "import re\n",
    "\n",
    "class Solution(object):\n",
    "    def calculate(self, s):\n",
    "        \"\"\"\n",
    "        :type s: str\n",
    "        :rtype: int\n",
    "        \"\"\"\n",
    "        outer = ['+'] + re.split('([+-])',s)\n",
    "        outer_sum = 0\n",
    "        for i,outer_sign in enumerate(outer[::2]):\n",
    "            inner,inner_mul = ['*']+re.split('([*/])',outer[i*2+1]) , 1\n",
    "            for j,inner_sign in enumerate(inner[::2]):\n",
    "                inner_mul = inner_mul*int(inner[j*2+1]) if inner_sign=='*' else inner_mul/int(inner[j*2+1])\n",
    "            outer_sum = outer_sum + inner_mul if outer_sign=='+' else outer_sum - inner_mul\n",
    "        return outer_sum"
   ]
  },
  {
   "cell_type": "markdown",
   "metadata": {},
   "source": [
    "#  Traverse tokens from left to right "
   ]
  },
  {
   "cell_type": "code",
   "execution_count": 80,
   "metadata": {
    "collapsed": true
   },
   "outputs": [],
   "source": [
    "class Solution(object):\n",
    "    def calculate(self, s):\n",
    "        tokens = iter(re.findall('\\d+|\\S', s))\n",
    "        total, sign = 0, 1\n",
    "        for token in tokens:\n",
    "            if token in '+-':\n",
    "                total += sign * term\n",
    "                sign = ' +'.find(token)\n",
    "            elif token in '*/':\n",
    "                n = int(next(tokens))\n",
    "                term = term*n if token == '*' else term/n\n",
    "            else:\n",
    "                term = int(token)\n",
    "        return total + sign * term      "
   ]
  }
 ],
 "metadata": {
  "kernelspec": {
   "display_name": "Python 2",
   "language": "python",
   "name": "python2"
  },
  "language_info": {
   "codemirror_mode": {
    "name": "ipython",
    "version": 2
   },
   "file_extension": ".py",
   "mimetype": "text/x-python",
   "name": "python",
   "nbconvert_exporter": "python",
   "pygments_lexer": "ipython2",
   "version": "2.7.12"
  }
 },
 "nbformat": 4,
 "nbformat_minor": 0
}
