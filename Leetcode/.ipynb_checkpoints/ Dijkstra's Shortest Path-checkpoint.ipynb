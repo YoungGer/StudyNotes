{
 "cells": [
  {
   "cell_type": "markdown",
   "metadata": {},
   "source": [
    "There are two versions of this algorithm.\n",
    "\n",
    "- straightforward implementation. O(mn)\n",
    "- implementation with heap data structure. O(mlog(n))\n",
    "\n",
    "In this part, due to the small size of the graph, we use the straightforward implementation which time complexitity is O(mn)."
   ]
  },
  {
   "cell_type": "code",
   "execution_count": 109,
   "metadata": {
    "collapsed": true
   },
   "outputs": [],
   "source": [
    "def load_data(file):\n",
    "    with open(file) as f:\n",
    "        data = f.readlines()\n",
    "        data = [i.split() for i in data]\n",
    "        data = {int(i[0]):[map(int,j.split(',')) for j in i[1:]] for i in data}\n",
    "    return data\n",
    "def get_edges(data):\n",
    "    edges = []\n",
    "    for key in data.keys():\n",
    "        rst = [[key]+i for i in data[key]]\n",
    "        edges += rst\n",
    "    return edges"
   ]
  },
  {
   "cell_type": "code",
   "execution_count": 121,
   "metadata": {
    "collapsed": false
   },
   "outputs": [],
   "source": [
    "data = load_data('./data/dijkstraData.txt')\n",
    "#data = load_data('./data/dijkstraData_small.txt')\n",
    "edges = get_edges(data)"
   ]
  },
  {
   "cell_type": "code",
   "execution_count": 122,
   "metadata": {
    "collapsed": true
   },
   "outputs": [],
   "source": [
    "X = [1] #vertices processed so far\n",
    "A = {1:0} #computed shorest path\n",
    "while len(X)<len(data.keys()): # itearte over vertices\n",
    "    min_score = 'inf'\n",
    "    min_vertice = None\n",
    "    for e in edges: # iterate over edges\n",
    "        if (e[0] in X) and (e[1] not in X):\n",
    "            score = A[e[0]]+e[2]\n",
    "            if score<min_score:\n",
    "                min_score = score\n",
    "                min_vertice = e[1]\n",
    "    X.append(min_vertice)\n",
    "    A[min_vertice] = min_score"
   ]
  },
  {
   "cell_type": "code",
   "execution_count": 126,
   "metadata": {
    "collapsed": true
   },
   "outputs": [],
   "source": [
    "x = [7,37,59,82,99,115,133,165,188,197]"
   ]
  },
  {
   "cell_type": "code",
   "execution_count": 129,
   "metadata": {
    "collapsed": false
   },
   "outputs": [],
   "source": [
    "rst = []\n",
    "for i in x:\n",
    "    rst.append(A[i])"
   ]
  }
 ],
 "metadata": {
  "kernelspec": {
   "display_name": "Python 2",
   "language": "python",
   "name": "python2"
  },
  "language_info": {
   "codemirror_mode": {
    "name": "ipython",
    "version": 2
   },
   "file_extension": ".py",
   "mimetype": "text/x-python",
   "name": "python",
   "nbconvert_exporter": "python",
   "pygments_lexer": "ipython2",
   "version": "2.7.12"
  }
 },
 "nbformat": 4,
 "nbformat_minor": 0
}
