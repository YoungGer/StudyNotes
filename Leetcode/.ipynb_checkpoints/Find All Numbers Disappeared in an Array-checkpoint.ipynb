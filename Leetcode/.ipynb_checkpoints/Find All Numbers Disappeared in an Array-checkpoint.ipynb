{
 "cells": [
  {
   "cell_type": "code",
   "execution_count": 16,
   "metadata": {
    "collapsed": false
   },
   "outputs": [],
   "source": [
    "class Solution(object):\n",
    "    def findDisappearedNumbers(self, nums):\n",
    "        \"\"\"\n",
    "        :type nums: List[int]\n",
    "        :rtype: List[int]\n",
    "        \"\"\"\n",
    "        if not nums: return []\n",
    "        nums.sort()\n",
    "        pre = 0\n",
    "        rst = []\n",
    "        for i in nums:\n",
    "            if i!=pre+1 and i!=pre: # there is gap\n",
    "                rst += range(pre+1,i)\n",
    "            pre = i\n",
    "        return rst+range(nums[-1]+1,len(nums)+1)"
   ]
  },
  {
   "cell_type": "code",
   "execution_count": 19,
   "metadata": {
    "collapsed": false
   },
   "outputs": [],
   "source": [
    "class Solution(object):\n",
    "    def findDisappearedNumbers(self, nums):\n",
    "        \"\"\"\n",
    "        :type nums: List[int]\n",
    "        :rtype: List[int]\n",
    "        \"\"\"\n",
    "        # For each number i in nums,\n",
    "        # we mark the number that i points as negative.\n",
    "        # Then we filter the list, get all the indexes\n",
    "        # who points to a positive number\n",
    "        for i in range(len(nums)):\n",
    "            index = abs(nums[i]) - 1\n",
    "            nums[index] = - abs(nums[index])\n",
    "\n",
    "        return [i + 1 for i in range(len(nums)) if nums[i] > 0]"
   ]
  }
 ],
 "metadata": {
  "kernelspec": {
   "display_name": "Python 2",
   "language": "python",
   "name": "python2"
  },
  "language_info": {
   "codemirror_mode": {
    "name": "ipython",
    "version": 2
   },
   "file_extension": ".py",
   "mimetype": "text/x-python",
   "name": "python",
   "nbconvert_exporter": "python",
   "pygments_lexer": "ipython2",
   "version": "2.7.12"
  }
 },
 "nbformat": 4,
 "nbformat_minor": 0
}
