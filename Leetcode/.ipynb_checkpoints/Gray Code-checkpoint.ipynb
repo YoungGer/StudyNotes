{
 "cells": [
  {
   "cell_type": "markdown",
   "metadata": {},
   "source": [
    "The gray code is a binary numeral system where two successive values differ in only one bit.\n",
    "\n",
    "Given a non-negative integer n representing the total number of bits in the code, print the sequence of gray code. A gray code sequence must begin with 0.\n",
    "\n",
    "For example, given n = 2, return [0,1,3,2]. Its gray code sequence is:\n",
    "\n",
    "00 - 0  \n",
    "01 - 1  \n",
    "11 - 3  \n",
    "10 - 2 "
   ]
  },
  {
   "cell_type": "code",
   "execution_count": 5,
   "metadata": {
    "collapsed": true
   },
   "outputs": [],
   "source": [
    "class Solution(object):\n",
    "    def grayCode(self, n):\n",
    "        \"\"\"\n",
    "        :type n: int\n",
    "        :rtype: List[int]\n",
    "        \"\"\"\n",
    "        if n<1:\n",
    "            return [0]\n",
    "        rst = [0]\n",
    "        for i in range(n):\n",
    "            rst += [e+2**i for e in rst[::-1]]\n",
    "        return rst"
   ]
  }
 ],
 "metadata": {
  "kernelspec": {
   "display_name": "Python 2",
   "language": "python",
   "name": "python2"
  },
  "language_info": {
   "codemirror_mode": {
    "name": "ipython",
    "version": 2
   },
   "file_extension": ".py",
   "mimetype": "text/x-python",
   "name": "python",
   "nbconvert_exporter": "python",
   "pygments_lexer": "ipython2",
   "version": "2.7.12"
  }
 },
 "nbformat": 4,
 "nbformat_minor": 0
}
