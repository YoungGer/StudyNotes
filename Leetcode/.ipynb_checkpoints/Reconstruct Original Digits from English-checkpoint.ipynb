{
 "cells": [
  {
   "cell_type": "code",
   "execution_count": 1,
   "metadata": {
    "collapsed": true
   },
   "outputs": [],
   "source": [
    "class Solution(object):\n",
    "    def originalDigits(self, s):\n",
    "        arr = [0] * 10\n",
    "        ch = collections.defaultdict(lambda: 0)\n",
    "        \n",
    "        for i in s:\n",
    "            ch[i] += 1\n",
    "            \n",
    "        arr[0] = ch['z']\n",
    "        arr[2] = ch['w']\n",
    "        arr[4] = ch['u']\n",
    "        arr[6] = ch['x']\n",
    "        arr[8] = ch['g']\n",
    "        arr[3] = ch['h'] - arr[8]\n",
    "        arr[5] = ch['f'] - arr[4]\n",
    "        arr[7] = ch['v'] - arr[5]\n",
    "        arr[1] = ch['o'] - arr[0] - arr[2] - arr[4]\n",
    "        arr[9] = ch['i'] - arr[5] - arr[6] - arr[8]\n",
    "    \n",
    "        res = \"\"\n",
    "        for x in xrange(10):\n",
    "            if arr[x] > 0:\n",
    "                res += str(x) * arr[x]\n",
    "        \n",
    "        return res"
   ]
  }
 ],
 "metadata": {
  "kernelspec": {
   "display_name": "Python 2",
   "language": "python",
   "name": "python2"
  },
  "language_info": {
   "codemirror_mode": {
    "name": "ipython",
    "version": 2
   },
   "file_extension": ".py",
   "mimetype": "text/x-python",
   "name": "python",
   "nbconvert_exporter": "python",
   "pygments_lexer": "ipython2",
   "version": "2.7.12"
  }
 },
 "nbformat": 4,
 "nbformat_minor": 1
}
