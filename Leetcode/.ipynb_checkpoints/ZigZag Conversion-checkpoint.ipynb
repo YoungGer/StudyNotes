{
 "cells": [
  {
   "cell_type": "code",
   "execution_count": 29,
   "metadata": {
    "collapsed": true
   },
   "outputs": [],
   "source": [
    "class Solution(object):\n",
    "    def convert(self, s, numRows):\n",
    "        \"\"\"\n",
    "        :type s: str\n",
    "        :type numRows: int\n",
    "        :rtype: str\n",
    "        \"\"\"\n",
    "        if numRows==1:\n",
    "            return s\n",
    "        if numRows>len(s):\n",
    "            return s\n",
    "        def helper(s1,s2):\n",
    "            if len(s1)==len(s2):\n",
    "                return reduce(lambda x,y:x+y, [s1[i]+s2[i] for i in range(len(s1))])\n",
    "            else:\n",
    "                return s1[0] + reduce(lambda x,y:x+y, [s2[i]+s1[i+1] for i in range(len(s2))], \"\")\n",
    "        rst = \"\"\n",
    "        S1 = [s[i::2*numRows-2] for i in range(numRows)]\n",
    "        #print S1\n",
    "        S2 = [s[2*numRows-3-i::2*numRows-2] for i in range(numRows-2)]\n",
    "        #print S2\n",
    "        rst = S1[0] + reduce(lambda x,y:x+y, [helper(S1[i+1],S2[i]) for i in range(numRows-2)], \"\") + S1[-1]\n",
    "        return rst"
   ]
  }
 ],
 "metadata": {
  "kernelspec": {
   "display_name": "Python 2",
   "language": "python",
   "name": "python2"
  },
  "language_info": {
   "codemirror_mode": {
    "name": "ipython",
    "version": 2
   },
   "file_extension": ".py",
   "mimetype": "text/x-python",
   "name": "python",
   "nbconvert_exporter": "python",
   "pygments_lexer": "ipython2",
   "version": "2.7.12"
  }
 },
 "nbformat": 4,
 "nbformat_minor": 1
}
