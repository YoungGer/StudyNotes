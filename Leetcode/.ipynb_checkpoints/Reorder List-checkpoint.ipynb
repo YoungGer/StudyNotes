{
 "cells": [
  {
   "cell_type": "markdown",
   "metadata": {},
   "source": [
    "Given a singly linked list L: L0→L1→…→Ln-1→Ln,  \n",
    "reorder it to: L0→Ln→L1→Ln-1→L2→Ln-2→…\n",
    "\n",
    "You must do this in-place without altering the nodes' values.  \n",
    "\n",
    "For example,  \n",
    "Given {1,2,3,4}, reorder it to {1,4,2,3}."
   ]
  },
  {
   "cell_type": "code",
   "execution_count": 46,
   "metadata": {
    "collapsed": true
   },
   "outputs": [],
   "source": [
    "class Solution(object):\n",
    "    def reorderList(self, head):\n",
    "        \"\"\"\n",
    "        :type head: ListNode\n",
    "        :rtype: void Do not return anything, modify head in-place instead.\n",
    "        \"\"\"\n",
    "        # find two parts\n",
    "        # 1st part head: head\n",
    "        # 2nd part head: low\n",
    "        fast,slow = head,head\n",
    "        while fast and fast.next:\n",
    "            fast = fast.next.next\n",
    "            slow = slow.next\n",
    "            \n",
    "        # revese second part\n",
    "        curr,pre = slow,None\n",
    "        while curr:\n",
    "            curr.next, pre ,curr = pre, curr, curr.next\n",
    "        \n",
    "        # merge two parts [1,2,5,4,3]\n",
    "        # 1st part head: head [1,2]\n",
    "        # 2nd part head: pre [5,4,3]\n",
    "        while pre.next and head.next:\n",
    "            pre.next,head.next,pre,head = head.next,pre,pre.next,head.next"
   ]
  }
 ],
 "metadata": {
  "kernelspec": {
   "display_name": "Python 2",
   "language": "python",
   "name": "python2"
  },
  "language_info": {
   "codemirror_mode": {
    "name": "ipython",
    "version": 2
   },
   "file_extension": ".py",
   "mimetype": "text/x-python",
   "name": "python",
   "nbconvert_exporter": "python",
   "pygments_lexer": "ipython2",
   "version": "2.7.12"
  }
 },
 "nbformat": 4,
 "nbformat_minor": 0
}
