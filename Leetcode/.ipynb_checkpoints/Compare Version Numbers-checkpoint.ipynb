{
 "cells": [
  {
   "cell_type": "markdown",
   "metadata": {},
   "source": [
    "Compare two version numbers version1 and version2.  \n",
    "If version1 > version2 return 1, if version1 < version2 return -1, otherwise return 0.\n",
    "\n",
    "You may assume that the version strings are non-empty and contain only digits and the . character."
   ]
  },
  {
   "cell_type": "code",
   "execution_count": 2,
   "metadata": {
    "collapsed": true
   },
   "outputs": [],
   "source": [
    "class Solution(object):\n",
    "    def compareVersion(self, version1, version2):\n",
    "        \"\"\"\n",
    "        :type version1: str\n",
    "        :type version2: str\n",
    "        :rtype: int\n",
    "        \"\"\"\n",
    "        v1,v2 = version1.split('.'),version2.split('.')\n",
    "        # 不等的时候往较少的补足0\n",
    "        if len(v1)>len(v2):\n",
    "            while len(v1)!=len(v2):\n",
    "                v2.append(0)\n",
    "        if len(v1)<len(v2):\n",
    "            while len(v1)!=len(v2):\n",
    "                v1.append(0)     \n",
    "        # 遍历比较\n",
    "        for i,v1_k in enumerate(v1):\n",
    "            if int(v1_k)<int(v2[i]):\n",
    "                return -1\n",
    "            elif int(v1_k)>int(v2[i]):\n",
    "                return 1\n",
    "        return 0"
   ]
  }
 ],
 "metadata": {
  "kernelspec": {
   "display_name": "Python 2",
   "language": "python",
   "name": "python2"
  },
  "language_info": {
   "codemirror_mode": {
    "name": "ipython",
    "version": 2
   },
   "file_extension": ".py",
   "mimetype": "text/x-python",
   "name": "python",
   "nbconvert_exporter": "python",
   "pygments_lexer": "ipython2",
   "version": "2.7.12"
  }
 },
 "nbformat": 4,
 "nbformat_minor": 0
}
