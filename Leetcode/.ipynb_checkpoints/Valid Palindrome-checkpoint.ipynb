{
 "cells": [
  {
   "cell_type": "markdown",
   "metadata": {},
   "source": [
    "# TLE"
   ]
  },
  {
   "cell_type": "code",
   "execution_count": 9,
   "metadata": {
    "collapsed": true
   },
   "outputs": [],
   "source": [
    "import string\n",
    "class Solution(object):\n",
    "    def isPalindrome(self, s):\n",
    "        \"\"\"\n",
    "        :type s: str\n",
    "        :rtype: bool\n",
    "        \"\"\"\n",
    "        if not s: return True\n",
    "        \n",
    "        s_new = \"\"\n",
    "        for i in s:\n",
    "            if i in string.ascii_lowercase or i in string.digits:\n",
    "                s_new += i\n",
    "            elif i in string.ascii_uppercase:\n",
    "                s_new += i.lower()\n",
    "        return s_new==s_new[::-1]"
   ]
  },
  {
   "cell_type": "markdown",
   "metadata": {},
   "source": [
    "# 23.74"
   ]
  },
  {
   "cell_type": "code",
   "execution_count": 51,
   "metadata": {
    "collapsed": true
   },
   "outputs": [],
   "source": [
    "class Solution(object):\n",
    "    def isPalindrome(self, s):\n",
    "        \"\"\"\n",
    "        :type s: str\n",
    "        :rtype: bool\n",
    "        \"\"\"   \n",
    "        start, end = 0,len(s)-1\n",
    "\n",
    "        while True:\n",
    "            if start>=end:\n",
    "                return True\n",
    "            \n",
    "            while s[start].lower() not in 'abcdefghijklmnopqrstuvwxyz0123456789':\n",
    "                start += 1\n",
    "                if start>=end:\n",
    "                    return True\n",
    "            while s[end].lower() not in 'abcdefghijklmnopqrstuvwxyz0123456789':\n",
    "                end -= 1\n",
    "                if start>=end:\n",
    "                    return True\n",
    "            \n",
    "            if s[start].lower()!=s[end].lower():\n",
    "                return False\n",
    "            else:\n",
    "                start += 1\n",
    "                end -= 1"
   ]
  },
  {
   "cell_type": "markdown",
   "metadata": {},
   "source": [
    "# 12.34 concise"
   ]
  },
  {
   "cell_type": "code",
   "execution_count": 54,
   "metadata": {
    "collapsed": true
   },
   "outputs": [],
   "source": [
    "class Solution(object):\n",
    "    def isPalindrome(self, s):\n",
    "        \"\"\"\n",
    "        :type s: str\n",
    "        :rtype: bool\n",
    "        \"\"\"   \n",
    "        start, end = 0,len(s)-1\n",
    "    \n",
    "        while start<end:\n",
    "            if s[start].lower() not in 'abcdefghijklmnopqrstuvwxyz0123456789':\n",
    "                start += 1\n",
    "            elif s[end].lower() not in 'abcdefghijklmnopqrstuvwxyz0123456789':\n",
    "                end -= 1\n",
    "            else:\n",
    "                if s[start].lower()!=s[end].lower():\n",
    "                    return False\n",
    "                else:\n",
    "                    start += 1\n",
    "                    end -= 1\n",
    "        return True"
   ]
  }
 ],
 "metadata": {
  "kernelspec": {
   "display_name": "Python 2",
   "language": "python",
   "name": "python2"
  },
  "language_info": {
   "codemirror_mode": {
    "name": "ipython",
    "version": 2
   },
   "file_extension": ".py",
   "mimetype": "text/x-python",
   "name": "python",
   "nbconvert_exporter": "python",
   "pygments_lexer": "ipython2",
   "version": "2.7.12"
  }
 },
 "nbformat": 4,
 "nbformat_minor": 1
}
