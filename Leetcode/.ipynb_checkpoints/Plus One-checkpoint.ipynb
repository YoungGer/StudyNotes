{
 "cells": [
  {
   "cell_type": "code",
   "execution_count": 16,
   "metadata": {
    "collapsed": true
   },
   "outputs": [],
   "source": [
    "class Solution(object):\n",
    "    def plusOne(self, digits):\n",
    "        \"\"\"\n",
    "        :type digits: List[int]\n",
    "        :rtype: List[int]\n",
    "        \"\"\"\n",
    "        flag = 1\n",
    "        digits = [0]+digits\n",
    "        for i,k in enumerate(digits[::-1]):\n",
    "            if k+flag>=10:\n",
    "                digits[-1-i] = (k+flag) % 10\n",
    "                flag = 1\n",
    "            else:\n",
    "                digits[-1-i] = k+flag\n",
    "                flag = 0\n",
    "        if digits[0]==0:\n",
    "            return digits[1:]\n",
    "        else:\n",
    "            return digits"
   ]
  }
 ],
 "metadata": {
  "kernelspec": {
   "display_name": "Python 2",
   "language": "python",
   "name": "python2"
  },
  "language_info": {
   "codemirror_mode": {
    "name": "ipython",
    "version": 2
   },
   "file_extension": ".py",
   "mimetype": "text/x-python",
   "name": "python",
   "nbconvert_exporter": "python",
   "pygments_lexer": "ipython2",
   "version": "2.7.12"
  }
 },
 "nbformat": 4,
 "nbformat_minor": 0
}
