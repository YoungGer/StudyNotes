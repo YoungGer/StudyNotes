{
 "cells": [
  {
   "cell_type": "markdown",
   "metadata": {},
   "source": [
    "# Minimum Path Sum\n",
    "\n",
    "难度：中等  \n",
    "考点：Dynamic Programming\n",
    "\n",
    "收获：\n",
    "\n",
    "- 动态规划核心还是要分解问题，先内存化再尝试提前计算。\n",
    "\n",
    "\n",
    "问题描述：\n",
    "\n",
    "Given a m x n grid filled with non-negative numbers, find a path from top left to bottom right which minimizes the sum of all numbers along its path.\n",
    "\n",
    "Note: You can only move either down or right at any point in time."
   ]
  },
  {
   "cell_type": "code",
   "execution_count": 7,
   "metadata": {
    "collapsed": true
   },
   "outputs": [],
   "source": [
    "def minPathSum(grid):\n",
    "    \"\"\"\n",
    "    :type grid: List[List[int]]\n",
    "    :rtype: int\n",
    "    \"\"\"\n",
    "    # 初始化矩阵t，t中的每个(i,j)对应的值代表以(i,j)为右下角的grid的minPathSum\n",
    "    m = len(grid)\n",
    "    n = len(grid[0])\n",
    "    t = [[-1]*(n) for i in range(m)]\n",
    "    t[0][0] = grid[0][0]\n",
    "    for j in range(1,n):\n",
    "        t[0][j] = t[0][j-1]+grid[0][j]\n",
    "    for i in range(1,m):\n",
    "        t[i][0] = t[i-1][0]+grid[i][0]    \n",
    "    # 计算矩阵t\n",
    "    for i in  range(1,m):\n",
    "        for j in range(1,n):\n",
    "            t[i][j] = min(t[i-1][j],t[i][j-1])+grid[i][j]\n",
    "    return(t[m-1][n-1])"
   ]
  },
  {
   "cell_type": "code",
   "execution_count": 8,
   "metadata": {
    "collapsed": false
   },
   "outputs": [
    {
     "data": {
      "text/plain": [
       "[[1, 3], [4, 7]]"
      ]
     },
     "execution_count": 8,
     "metadata": {},
     "output_type": "execute_result"
    }
   ],
   "source": [
    "grid = [[1,2],[3,4]]\n",
    "minPathSum(grid)"
   ]
  }
 ],
 "metadata": {
  "kernelspec": {
   "display_name": "Python 2",
   "language": "python",
   "name": "python2"
  },
  "language_info": {
   "codemirror_mode": {
    "name": "ipython",
    "version": 2
   },
   "file_extension": ".py",
   "mimetype": "text/x-python",
   "name": "python",
   "nbconvert_exporter": "python",
   "pygments_lexer": "ipython2",
   "version": "2.7.12"
  }
 },
 "nbformat": 4,
 "nbformat_minor": 0
}
