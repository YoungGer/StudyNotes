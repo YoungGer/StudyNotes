{
 "cells": [
  {
   "cell_type": "code",
   "execution_count": 9,
   "metadata": {
    "collapsed": true
   },
   "outputs": [],
   "source": [
    "class Solution(object):\n",
    "    def thirdMax(self, nums):\n",
    "        \"\"\"\n",
    "        :type nums: List[int]\n",
    "        :rtype: int\n",
    "        \"\"\"\n",
    "        nums = list(set(nums))\n",
    "        if len(nums)<=2:\n",
    "            return max(nums)\n",
    "        top3 = sorted(nums[:3])\n",
    "        \n",
    "        for i in nums[3:]:\n",
    "            if i>top3[2]:\n",
    "                top3 = top3[1:]+[i]\n",
    "            elif i>top3[1]:\n",
    "                top3 = [top3[1],i,top3[2]]\n",
    "            elif i>top3[0]:\n",
    "                top3 = [i] + top3[1:]\n",
    "        return top3[0]"
   ]
  }
 ],
 "metadata": {
  "kernelspec": {
   "display_name": "Python 2",
   "language": "python",
   "name": "python2"
  },
  "language_info": {
   "codemirror_mode": {
    "name": "ipython",
    "version": 2
   },
   "file_extension": ".py",
   "mimetype": "text/x-python",
   "name": "python",
   "nbconvert_exporter": "python",
   "pygments_lexer": "ipython2",
   "version": "2.7.12"
  }
 },
 "nbformat": 4,
 "nbformat_minor": 1
}
