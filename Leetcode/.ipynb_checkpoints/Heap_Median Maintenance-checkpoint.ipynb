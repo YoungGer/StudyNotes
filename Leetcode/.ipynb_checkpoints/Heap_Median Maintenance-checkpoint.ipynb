{
 "cells": [
  {
   "cell_type": "code",
   "execution_count": 41,
   "metadata": {
    "collapsed": true
   },
   "outputs": [],
   "source": [
    "nums_stream = np.loadtxt('./data/Heap_Median.txt')"
   ]
  },
  {
   "cell_type": "code",
   "execution_count": 42,
   "metadata": {
    "collapsed": true
   },
   "outputs": [],
   "source": [
    "import heapq"
   ]
  },
  {
   "cell_type": "code",
   "execution_count": 43,
   "metadata": {
    "collapsed": false
   },
   "outputs": [
    {
     "data": {
      "text/plain": [
       "array([ 6331.,  2793.,  1640., ...,  3536.,  4855.,  5940.])"
      ]
     },
     "execution_count": 43,
     "metadata": {},
     "output_type": "execute_result"
    }
   ],
   "source": [
    "nums_stream"
   ]
  },
  {
   "cell_type": "code",
   "execution_count": 44,
   "metadata": {
    "collapsed": true
   },
   "outputs": [],
   "source": [
    "minHeap = []\n",
    "maxHeap = []\n",
    "heapq.heappush(minHeap,-2793)\n",
    "heapq.heappush(maxHeap,6631)\n",
    "\n",
    "rst = [6331,2793]\n",
    "\n",
    "for i in nums_stream[2:]:\n",
    "    min1,max1 = abs(minHeap[0]),maxHeap[0]\n",
    "    if i<min1:\n",
    "        heapq.heappush(minHeap,-i)\n",
    "    else:\n",
    "        heapq.heappush(maxHeap,i)\n",
    "    while abs(len(maxHeap)-len(minHeap))>1:\n",
    "        if len(minHeap)>len(maxHeap):\n",
    "            heapq.heappush(maxHeap,-heapq.heappop(minHeap))\n",
    "        else:\n",
    "            heapq.heappush(minHeap,-heapq.heappop(maxHeap))\n",
    "    # 这里可以保证两个数组长度最大是1\n",
    "    if len(maxHeap)>len(minHeap):\n",
    "        rst.append(maxHeap[0])\n",
    "    else:\n",
    "        rst.append(-minHeap[0])"
   ]
  },
  {
   "cell_type": "code",
   "execution_count": 46,
   "metadata": {
    "collapsed": false
   },
   "outputs": [
    {
     "data": {
      "text/plain": [
       "1213.0"
      ]
     },
     "execution_count": 46,
     "metadata": {},
     "output_type": "execute_result"
    }
   ],
   "source": [
    "sum(rst) % 10000"
   ]
  }
 ],
 "metadata": {
  "kernelspec": {
   "display_name": "Python 2",
   "language": "python",
   "name": "python2"
  },
  "language_info": {
   "codemirror_mode": {
    "name": "ipython",
    "version": 2
   },
   "file_extension": ".py",
   "mimetype": "text/x-python",
   "name": "python",
   "nbconvert_exporter": "python",
   "pygments_lexer": "ipython2",
   "version": "2.7.12"
  }
 },
 "nbformat": 4,
 "nbformat_minor": 0
}
