{
 "cells": [
  {
   "cell_type": "code",
   "execution_count": 3,
   "metadata": {
    "collapsed": true
   },
   "outputs": [],
   "source": [
    "# Definition for a binary tree node.\n",
    "# class TreeNode(object):\n",
    "#     def __init__(self, x):\n",
    "#         self.val = x\n",
    "#         self.left = None\n",
    "#         self.right = None\n",
    "\n",
    "class Codec:\n",
    "\n",
    "    def serialize(self, root):\n",
    "        vals = []\n",
    "\n",
    "        def preOrder(node):\n",
    "            if node:\n",
    "                vals.append(node.val)\n",
    "                preOrder(node.left)\n",
    "                preOrder(node.right)\n",
    "\n",
    "        preOrder(root)\n",
    "\n",
    "        return ' '.join(map(str, vals))\n",
    "\n",
    "    # O( N ) since each val run build once\n",
    "    def deserialize(self, data):\n",
    "        vals = collections.deque(int(val) for val in data.split())\n",
    "\n",
    "        def build(minVal, maxVal):\n",
    "            if vals and minVal < vals[0] < maxVal:\n",
    "                val = vals.popleft()\n",
    "                node = TreeNode(val)\n",
    "                node.left = build(minVal, val)\n",
    "                node.right = build(val, maxVal)\n",
    "                return node\n",
    "\n",
    "        return build(float('-infinity'), float('infinity'))\n",
    "        \n",
    "\n",
    "# Your Codec object will be instantiated and called as such:\n",
    "# codec = Codec()\n",
    "# codec.deserialize(codec.serialize(root))"
   ]
  }
 ],
 "metadata": {
  "kernelspec": {
   "display_name": "Python 2",
   "language": "python",
   "name": "python2"
  },
  "language_info": {
   "codemirror_mode": {
    "name": "ipython",
    "version": 2
   },
   "file_extension": ".py",
   "mimetype": "text/x-python",
   "name": "python",
   "nbconvert_exporter": "python",
   "pygments_lexer": "ipython2",
   "version": "2.7.12"
  }
 },
 "nbformat": 4,
 "nbformat_minor": 1
}
