{
 "cells": [
  {
   "cell_type": "markdown",
   "metadata": {},
   "source": [
    "# Load Data"
   ]
  },
  {
   "cell_type": "code",
   "execution_count": 24,
   "metadata": {
    "collapsed": false
   },
   "outputs": [],
   "source": [
    "with open('./data/t5.txt') as f:\n",
    "    lines = f.readlines()"
   ]
  },
  {
   "cell_type": "code",
   "execution_count": 25,
   "metadata": {
    "collapsed": false
   },
   "outputs": [],
   "source": [
    "lines = [ [int(i) for i in  l.split()] for l in lines]\n",
    "lines = list(set(map(tuple, lines)))\n",
    "#lines"
   ]
  },
  {
   "cell_type": "code",
   "execution_count": 26,
   "metadata": {
    "collapsed": false
   },
   "outputs": [],
   "source": [
    "lines_reverse = [[l[1],l[0]] for l in lines]\n",
    "lines_reverse = list(set(map(tuple, lines_reverse)))\n",
    "#lines_reverse"
   ]
  },
  {
   "cell_type": "code",
   "execution_count": 27,
   "metadata": {
    "collapsed": false
   },
   "outputs": [],
   "source": [
    "# def getAdjacentList(lines):\n",
    "#     adjaventList = {}\n",
    "#     for x in lines:\n",
    "#         source = x[0]\n",
    "#         destination = x[1]\n",
    "#         if source in adjaventList.keys():\n",
    "#             #print adjaventList[source]\n",
    "#             adjaventList[source].append(destination)\n",
    "#         else:\n",
    "#             # print source,destination\n",
    "#             adjaventList[source] = [destination]\n",
    "#     return adjaventList\n",
    "from itertools import groupby\n",
    "from operator import itemgetter\n",
    "def my_reduce(obj1, obj2):\n",
    "    return (obj1[0],obj1[1]+obj2[1])\n",
    "\n",
    "def getAdjacentList(lines):\n",
    "    lines2 = [[l[0],[l[1]]] for l in lines]\n",
    "    x =  [reduce(my_reduce, group) for _, group in groupby(sorted(lines2), key=itemgetter(0))]\n",
    "    x2 = {i[0]:i[1]for i in x}\n",
    "    return x2"
   ]
  },
  {
   "cell_type": "code",
   "execution_count": 28,
   "metadata": {
    "collapsed": false
   },
   "outputs": [],
   "source": [
    "adjacentList = getAdjacentList(lines)\n",
    "adjacentList_reverse = getAdjacentList(lines_reverse)"
   ]
  },
  {
   "cell_type": "code",
   "execution_count": 29,
   "metadata": {
    "collapsed": false
   },
   "outputs": [],
   "source": [
    "import pickle\n",
    "def save_obj(obj, name ):\n",
    "    with open('./data/'+ name + '.pkl', 'wb') as f:\n",
    "        pickle.dump(obj, f, pickle.HIGHEST_PROTOCOL)\n",
    "\n",
    "def load_obj(name ):\n",
    "    with open('./data/' + name + '.pkl', 'rb') as f:\n",
    "        return pickle.load(f)"
   ]
  },
  {
   "cell_type": "code",
   "execution_count": 30,
   "metadata": {
    "collapsed": false
   },
   "outputs": [],
   "source": [
    "# save_obj(adjacentList,'adjacentList')\n",
    "# save_obj(adjacentList_reverse,'adjacentList_reverse')"
   ]
  },
  {
   "cell_type": "code",
   "execution_count": 31,
   "metadata": {
    "collapsed": false
   },
   "outputs": [],
   "source": [
    "# adjacentList = load_obj('adjacentList')\n",
    "# adjacentList_reverse = load_obj('adjacentList_reverse')"
   ]
  },
  {
   "cell_type": "markdown",
   "metadata": {},
   "source": [
    "# DFS"
   ]
  },
  {
   "cell_type": "code",
   "execution_count": 32,
   "metadata": {
    "collapsed": false
   },
   "outputs": [],
   "source": [
    "def DFS1(s):\n",
    "    global adjacentList_reverse\n",
    "    global finished\n",
    "    global finish_count\n",
    "    global finish_dict\n",
    "    finished.append(s)\n",
    "\n",
    "    try:\n",
    "        vertices = adjacentList_reverse[s] # s connected outgoing vertices\n",
    "    except KeyError:\n",
    "        pass\n",
    "    else:\n",
    "        for v in vertices:\n",
    "            if v not in finished:\n",
    "                DFS1(v)\n",
    "            \n",
    "    # vertives below were finished, doing some statistics here\n",
    "    # finishing time\n",
    "    finish_count += 1\n",
    "    finish_dict[s] = finish_count\n",
    "\n",
    "def DFS_LOOP1(N):\n",
    "    global finished\n",
    "    for i in range(1,N+1):\n",
    "        if i in finished:\n",
    "            next\n",
    "        else:\n",
    "            DFS1(i)"
   ]
  },
  {
   "cell_type": "code",
   "execution_count": 33,
   "metadata": {
    "collapsed": true
   },
   "outputs": [],
   "source": [
    "# import sys\n",
    "# sys.setrecursionlimit(300000)"
   ]
  },
  {
   "cell_type": "code",
   "execution_count": 34,
   "metadata": {
    "collapsed": false
   },
   "outputs": [],
   "source": [
    "finished = []\n",
    "finish_count = 0\n",
    "finish_dict = {}\n",
    "N = max([j for i in lines for j in i ])\n",
    "#N = 875714\n",
    "DFS_LOOP1(N)"
   ]
  },
  {
   "cell_type": "code",
   "execution_count": 35,
   "metadata": {
    "collapsed": false,
    "scrolled": true
   },
   "outputs": [],
   "source": [
    "#finish_dict"
   ]
  },
  {
   "cell_type": "code",
   "execution_count": 36,
   "metadata": {
    "collapsed": true
   },
   "outputs": [],
   "source": [
    "dict_finish2vertice = {finish_dict[i]:i for i in finish_dict.keys()}"
   ]
  },
  {
   "cell_type": "code",
   "execution_count": 37,
   "metadata": {
    "collapsed": false
   },
   "outputs": [],
   "source": [
    "#dict_finish2vertice"
   ]
  },
  {
   "cell_type": "code",
   "execution_count": 38,
   "metadata": {
    "collapsed": true
   },
   "outputs": [],
   "source": [
    "def DFS2(s):\n",
    "    global adjacentList\n",
    "    global finished\n",
    "    global count\n",
    "    \n",
    "    if s in finished:\n",
    "        return\n",
    "    \n",
    "    finished.append(s)\n",
    "\n",
    "    try:\n",
    "        vertices = adjacentList[s] # s connected outgoing vertices\n",
    "    except KeyError:\n",
    "        pass\n",
    "    else:\n",
    "        for v in vertices:\n",
    "            if v not in finished:\n",
    "                DFS2(v)\n",
    "            \n",
    "    # vertives below were finished, doing some statistics here\n",
    "    # finishing time\n",
    "    count += 1\n",
    "    return count"
   ]
  },
  {
   "cell_type": "code",
   "execution_count": 39,
   "metadata": {
    "collapsed": true
   },
   "outputs": [],
   "source": [
    "count_list = []\n",
    "finished = []\n",
    "for i in range(1,N+1)[::-1]:\n",
    "    count = 0\n",
    "    count_list.append(DFS2(dict_finish2vertice[i]))"
   ]
  },
  {
   "cell_type": "code",
   "execution_count": 40,
   "metadata": {
    "collapsed": false
   },
   "outputs": [],
   "source": [
    "count_list =[ i for i in count_list if i!=None]"
   ]
  },
  {
   "cell_type": "code",
   "execution_count": 41,
   "metadata": {
    "collapsed": false
   },
   "outputs": [],
   "source": [
    "save_obj(count_list,'count_list')"
   ]
  },
  {
   "cell_type": "code",
   "execution_count": 42,
   "metadata": {
    "collapsed": false
   },
   "outputs": [
    {
     "data": {
      "text/plain": [
       "[6, 2, 3, 1]"
      ]
     },
     "execution_count": 42,
     "metadata": {},
     "output_type": "execute_result"
    }
   ],
   "source": [
    "count_list"
   ]
  }
 ],
 "metadata": {
  "kernelspec": {
   "display_name": "Python 2",
   "language": "python",
   "name": "python2"
  },
  "language_info": {
   "codemirror_mode": {
    "name": "ipython",
    "version": 2
   },
   "file_extension": ".py",
   "mimetype": "text/x-python",
   "name": "python",
   "nbconvert_exporter": "python",
   "pygments_lexer": "ipython2",
   "version": "2.7.12"
  }
 },
 "nbformat": 4,
 "nbformat_minor": 0
}
