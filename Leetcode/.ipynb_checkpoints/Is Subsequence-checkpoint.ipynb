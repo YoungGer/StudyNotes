{
 "cells": [
  {
   "cell_type": "markdown",
   "metadata": {},
   "source": [
    "If there are lots of incoming S, say S1, S2, ... , Sk where k >= 1B, and you want to check one by one to see if T has its subsequence. In this scenario, how would you change your code?"
   ]
  },
  {
   "cell_type": "markdown",
   "metadata": {},
   "source": [
    "# 一次操作"
   ]
  },
  {
   "cell_type": "code",
   "execution_count": 7,
   "metadata": {
    "collapsed": false
   },
   "outputs": [],
   "source": [
    "class Solution(object):\n",
    "    def isSubsequence(self, s, t):\n",
    "        \"\"\"\n",
    "        :type s: str\n",
    "        :type t: str\n",
    "        :rtype: bool\n",
    "        \"\"\"\n",
    "        if not s: return True\n",
    "        \n",
    "        si = s[0]\n",
    "        scount = 0\n",
    "        for ti in t:\n",
    "            if ti == si:\n",
    "                scount += 1\n",
    "                if scount==len(s):\n",
    "                    return True               \n",
    "                si = s[scount]\n",
    "        return False"
   ]
  },
  {
   "cell_type": "code",
   "execution_count": 5,
   "metadata": {
    "collapsed": false
   },
   "outputs": [
    {
     "data": {
      "text/plain": [
       "True"
      ]
     },
     "execution_count": 5,
     "metadata": {},
     "output_type": "execute_result"
    }
   ],
   "source": [
    "s = \"abc\"\n",
    "t = \"ahbgdc\"\n",
    "a = Solution()\n",
    "a.isSubsequence(s, t)"
   ]
  },
  {
   "cell_type": "code",
   "execution_count": 6,
   "metadata": {
    "collapsed": false
   },
   "outputs": [
    {
     "data": {
      "text/plain": [
       "False"
      ]
     },
     "execution_count": 6,
     "metadata": {},
     "output_type": "execute_result"
    }
   ],
   "source": [
    "s = \"axc\"\n",
    "t = \"ahbgdc\"\n",
    "a = Solution()\n",
    "a.isSubsequence(s, t)"
   ]
  },
  {
   "cell_type": "markdown",
   "metadata": {},
   "source": [
    "# 多次操作"
   ]
  },
  {
   "cell_type": "code",
   "execution_count": 8,
   "metadata": {
    "collapsed": true
   },
   "outputs": [],
   "source": [
    "from collections import defaultdict\n",
    "from bisect import bisect_left\n",
    "class Solution(object):\n",
    "    \n",
    "    def createMap(self, s):\n",
    "        # create a map. key is char. value is index of apperance in acending order. \n",
    "        posMap = defaultdict(list)\n",
    "        for i, char in enumerate(s):\n",
    "            posMap[char].append(i)\n",
    "        return posMap\n",
    "        \n",
    "    \n",
    "    def isSubsequence(self, s, t):\n",
    "        \"\"\"\n",
    "        :type s: str\n",
    "        :type t: str\n",
    "        :rtype: bool\n",
    "        \"\"\"\n",
    "        posMap = self.createMap(t)\n",
    "        # lowBound is the minimum index the current char has to be at.\n",
    "        lowBound = 0\n",
    "        for char in s:\n",
    "            if char not in posMap: return False\n",
    "            charIndexList = posMap[char]\n",
    "            # try to find an index that is larger than or equal to lowBound\n",
    "            i = bisect_left(charIndexList, lowBound)\n",
    "            if i == len(charIndexList): return False\n",
    "            lowBound = charIndexList[i] + 1\n",
    "        return True"
   ]
  }
 ],
 "metadata": {
  "kernelspec": {
   "display_name": "Python 2",
   "language": "python",
   "name": "python2"
  },
  "language_info": {
   "codemirror_mode": {
    "name": "ipython",
    "version": 2
   },
   "file_extension": ".py",
   "mimetype": "text/x-python",
   "name": "python",
   "nbconvert_exporter": "python",
   "pygments_lexer": "ipython2",
   "version": "2.7.12"
  }
 },
 "nbformat": 4,
 "nbformat_minor": 0
}
