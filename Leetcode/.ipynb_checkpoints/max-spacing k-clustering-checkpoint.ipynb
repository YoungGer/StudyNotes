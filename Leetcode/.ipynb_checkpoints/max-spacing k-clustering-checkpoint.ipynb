{
 "cells": [
  {
   "cell_type": "markdown",
   "metadata": {},
   "source": [
    "# cluster small"
   ]
  },
  {
   "cell_type": "code",
   "execution_count": 2,
   "metadata": {
    "collapsed": true
   },
   "outputs": [],
   "source": [
    "class UnionFind:\n",
    "\n",
    "    def __init__(self, size):\n",
    "        \"\"\"\n",
    "        Creates a new Union-Find data structure that holds <size> elements\n",
    "        This class uses 1-based indexing, which means that we allocate 1 extra slot,\n",
    "        but we have a more clear mapping\n",
    "        :param size: the # of elements that we hold in our UF data structure\n",
    "        \"\"\"\n",
    "        if size < 1:\n",
    "            raise ValueError(\"size should be greater than one\")\n",
    "        self.count = size\n",
    "        self._size = size\n",
    "        self._uf = [None] * (self._size + 1)\n",
    "        for num in range(1, self._size + 1):\n",
    "            self._uf[num] = (num, 0)\n",
    "\n",
    "    def find(self, item):\n",
    "        \"\"\"\n",
    "        Finds the \"leader\" of the item <item>\n",
    "        :param item: the item to check\n",
    "        :return: the leader item that the <item> belongs to\n",
    "        \"\"\"\n",
    "        if not 1 <= item <= self._size:\n",
    "            raise ValueError(\"Item should be in the range [1..{}\".format(self._size))\n",
    "        parent = self._get_parent(item)\n",
    "        prev = item\n",
    "        while self._uf[parent][0] != parent:\n",
    "            self._uf[prev] = self._uf[parent][0], self._uf[prev][1]\n",
    "            prev = parent\n",
    "            parent = self._get_parent(parent)\n",
    "        return parent\n",
    "\n",
    "    def connected(self, first, second):\n",
    "        \"\"\"\n",
    "        Checks whether <first> and <second> are in the same group\n",
    "        :param first: the first item to be checked\n",
    "        :param second: the second item\n",
    "        :return: True if connected, else otherwise\n",
    "        \"\"\"\n",
    "        if not (1, 1) <= (first, second) <= (self._size, self._size):\n",
    "            raise ValueError(\"Items {}, {} should be in the range [1..{}]\".format(first, second, self._size))\n",
    "        return self.find(first) == self.find(second)\n",
    "\n",
    "    def union(self, first, second):\n",
    "        \"\"\"\n",
    "        Unions <first> with <second> item\n",
    "        :param first: the first item to be connected\n",
    "        :param second: the second item to be connected\n",
    "        :return: None\n",
    "        \"\"\"\n",
    "        if not (1, 1) <= (first, second) <= (self._size, self._size):\n",
    "            raise ValueError(\"Items {}, {} should be in the range [1..{}]\".format(first, second, self._size))\n",
    "        first_parent = self.find(first)\n",
    "        second_parent = self.find(second)\n",
    "        if first_parent == second_parent:\n",
    "            return\n",
    "        self.count -= 1\n",
    "        first_rank = self._uf[first_parent][1]\n",
    "        second_rank = self._uf[second_parent][1]\n",
    "\n",
    "        if first_rank > second_rank:\n",
    "            self._uf[second_parent] = self._uf[first_parent][0], self._uf[second_parent][1]\n",
    "        elif second_rank > first_rank:\n",
    "            self._uf[first_parent] = self._uf[second_parent][0], self._uf[first_parent][1]\n",
    "        else:\n",
    "            self._uf[second_parent] = self._uf[first_parent]\n",
    "            self._uf[first_parent] = (first_parent, self._uf[first_parent][1] + 1)\n",
    "\n",
    "    def _get_parent(self, item):\n",
    "        node, node_range = self._uf[item]\n",
    "        return node"
   ]
  },
  {
   "cell_type": "code",
   "execution_count": 5,
   "metadata": {
    "collapsed": false
   },
   "outputs": [
    {
     "name": "stdout",
     "output_type": "stream",
     "text": [
      "106\n"
     ]
    }
   ],
   "source": [
    "from operator import attrgetter\n",
    "\n",
    "class ClusterFinder:\n",
    "\n",
    "    def __init__(self, input_file):\n",
    "        with open(input_file, 'r') as file:\n",
    "            self._num_vertices = int(file.readline())\n",
    "            self._edges = []\n",
    "            for line in file:\n",
    "                edge_from, edge_to, cost = line.split()\n",
    "                self._edges.append(Edge(int(edge_from), int(edge_to), int(cost)))\n",
    "\n",
    "    def find_clusters(self, count):\n",
    "        sorted_edges = sorted(self._edges, key=attrgetter(\"cost\"))\n",
    "        uf = UnionFind(self._num_vertices)\n",
    "        for index, edge in enumerate(sorted_edges):\n",
    "            if count != uf.count and not uf.connected(edge.from_vertex, edge.to_vertex):\n",
    "                uf.union(edge.from_vertex, edge.to_vertex)\n",
    "            if uf.count == count and not uf.connected(edge.from_vertex, edge.to_vertex):\n",
    "                return edge.cost\n",
    "\n",
    "\n",
    "class Edge:\n",
    "    def __init__(self, edge_from, edge_to, cost):\n",
    "        self.from_vertex = edge_from\n",
    "        self.to_vertex = edge_to\n",
    "        self.cost = cost\n",
    "\n",
    "\n",
    "if __name__ == \"__main__\":\n",
    "    cluster_finder = ClusterFinder(\"./data/clustering1.txt\")\n",
    "    print(cluster_finder.find_clusters(4))"
   ]
  },
  {
   "cell_type": "markdown",
   "metadata": {},
   "source": [
    "# cluster big"
   ]
  },
  {
   "cell_type": "code",
   "execution_count": 7,
   "metadata": {
    "collapsed": false
   },
   "outputs": [
    {
     "name": "stdout",
     "output_type": "stream",
     "text": [
      "6118\n"
     ]
    }
   ],
   "source": [
    "import itertools\n",
    "\n",
    "class BigClusterFinder:\n",
    "\n",
    "    def __init__(self, input_file):\n",
    "        with open(input_file, \"r\") as file:\n",
    "            nodes, bits_per_node = file.readline().split()\n",
    "            self._size = int(nodes)\n",
    "            self._bits = int(bits_per_node)\n",
    "            self._numbers = {}\n",
    "            for node in range(1, self._size + 1):\n",
    "                line = file.readline().split()\n",
    "                bits = tuple((int(num) for num in line))\n",
    "                num = 0\n",
    "                for index, bit in enumerate(bits[::-1]):\n",
    "                    num += bit * (2 ** index)\n",
    "                if num in self._numbers:\n",
    "                    self._numbers[num].append((node, bits))\n",
    "                else:\n",
    "                    self._numbers[num] = [(node, bits)]\n",
    "\n",
    "    def find_number_of_clusters(self):\n",
    "        uf = UnionFind(self._size)\n",
    "        distances = [2 ** i for i in range(self._bits)]\n",
    "        distances.extend([-num for num in distances])\n",
    "        for pair in itertools.combinations(distances, 2):\n",
    "            bit_1, bit_2 = pair\n",
    "            distances.append(bit_1 + bit_2)\n",
    "        distances = [0] + distances\n",
    "        unions_zero, unions_one, unions_two = [], [], []\n",
    "        for distance in distances:\n",
    "            for i in self._numbers.keys():\n",
    "                if (i + distance) in self._numbers:\n",
    "                    for node_from, bits_from in self._numbers[i]:\n",
    "                        for node_to, bits_to in self._numbers[i + distance]:\n",
    "                            if self._hamming(bits_from, bits_to) == 0:\n",
    "                                unions_zero.append((node_from, node_to))\n",
    "                            elif self._hamming(bits_from, bits_to) == 1:\n",
    "                                unions_one.append((node_from, node_to))\n",
    "                            elif self._hamming(bits_from, bits_to) == 2:\n",
    "                                unions_two.append((node_from, node_to))\n",
    "        self._make_unions(uf, unions_zero)\n",
    "        self._make_unions(uf, unions_one)\n",
    "        self._make_unions(uf, unions_two)\n",
    "        return uf.count\n",
    "\n",
    "    @staticmethod\n",
    "    def _hamming(bits_from, bits_to):\n",
    "        hamming = 0\n",
    "        for index, bit in enumerate(bits_from):\n",
    "            if bit != bits_to[index]:\n",
    "                hamming += 1\n",
    "        return hamming\n",
    "\n",
    "    @staticmethod\n",
    "    def _make_unions(uf, unions_zero):\n",
    "        for node_from, node_to in unions_zero:\n",
    "            if not uf.connected(node_from, node_to):\n",
    "                uf.union(node_from, node_to)\n",
    "\n",
    "\n",
    "if __name__ == \"__main__\":\n",
    "    cluster_finder = BigClusterFinder(\"./data/clustering_big.txt\")\n",
    "    print(cluster_finder.find_number_of_clusters())"
   ]
  }
 ],
 "metadata": {
  "kernelspec": {
   "display_name": "Python 2",
   "language": "python",
   "name": "python2"
  },
  "language_info": {
   "codemirror_mode": {
    "name": "ipython",
    "version": 2
   },
   "file_extension": ".py",
   "mimetype": "text/x-python",
   "name": "python",
   "nbconvert_exporter": "python",
   "pygments_lexer": "ipython2",
   "version": "2.7.12"
  }
 },
 "nbformat": 4,
 "nbformat_minor": 0
}
