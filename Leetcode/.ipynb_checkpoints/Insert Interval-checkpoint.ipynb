{
 "cells": [
  {
   "cell_type": "markdown",
   "metadata": {},
   "source": [
    "Given a set of non-overlapping intervals, insert a new interval into the intervals (merge if necessary).\n",
    "\n",
    "You may assume that the intervals were initially sorted according to their start times.\n",
    "\n",
    "Example 1:  \n",
    "Given intervals [1,3],[6,9], insert and merge [2,5] in as [1,5],[6,9].\n",
    "\n",
    "Example 2:  \n",
    "Given [1,2],[3,5],[6,7],[8,10],[12,16], insert and merge [4,9] in as [1,2],[3,10],[12,16].\n",
    "\n",
    "This is because the new interval [4,9] overlaps with [3,5],[6,7],[8,10]."
   ]
  },
  {
   "cell_type": "code",
   "execution_count": 6,
   "metadata": {
    "collapsed": true
   },
   "outputs": [],
   "source": [
    "# Definition for an interval.\n",
    "# class Interval(object):\n",
    "#     def __init__(self, s=0, e=0):\n",
    "#         self.start = s\n",
    "#         self.end = e\n",
    "\n",
    "class Solution(object):\n",
    "    def insert(self, intervals, newInterval):\n",
    "        \"\"\"\n",
    "        :type intervals: List[Interval]\n",
    "        :type newInterval: Interval\n",
    "        :rtype: List[Interval]\n",
    "        \"\"\""
   ]
  },
  {
   "cell_type": "markdown",
   "metadata": {},
   "source": [
    "# method 1"
   ]
  },
  {
   "cell_type": "code",
   "execution_count": 17,
   "metadata": {
    "collapsed": false
   },
   "outputs": [],
   "source": [
    "class Solution(object):\n",
    "    def insert(self, intervals, newInterval):\n",
    "        \"\"\"\n",
    "        :type intervals: List[Interval]\n",
    "        :type newInterval: Interval\n",
    "        :rtype: List[Interval]\n",
    "        \"\"\"\n",
    "        s, e = newInterval.start,newInterval.end\n",
    "        left = [i for i in intervals if i.end<s]\n",
    "        right = [i for i  in intervals if i.start>e]\n",
    "        print left,right\n",
    "        if left+right != intervals:\n",
    "            s = min(intervals[len(left)].start,s)\n",
    "            e = max(intervals[-len(right)-1].end,e)\n",
    "        return left+[Interval(s,e)]+right"
   ]
  },
  {
   "cell_type": "markdown",
   "metadata": {},
   "source": [
    "# method 2"
   ]
  },
  {
   "cell_type": "code",
   "execution_count": 18,
   "metadata": {
    "collapsed": true
   },
   "outputs": [],
   "source": [
    "class Solution(object):\n",
    "    def insert(self, intervals, newInterval):\n",
    "        \"\"\"\n",
    "        :type intervals: List[Interval]\n",
    "        :type newInterval: Interval\n",
    "        :rtype: List[Interval]\n",
    "        \"\"\"\n",
    "        s, e = newInterval.start,newInterval.end\n",
    "        left,right,s_middle,e_middle = [],[],s,e\n",
    "        for i in intervals:\n",
    "            if i.end<s:\n",
    "                left.append(i)\n",
    "            elif i.start>e:\n",
    "                right.append(i)\n",
    "            else:\n",
    "                s_middle = min(s_middle,i.start)\n",
    "                e_middle = max(e_middle,i.end)\n",
    "        return left+[Interval(s_middle,e_middle)]+right"
   ]
  }
 ],
 "metadata": {
  "kernelspec": {
   "display_name": "Python 2",
   "language": "python",
   "name": "python2"
  },
  "language_info": {
   "codemirror_mode": {
    "name": "ipython",
    "version": 2
   },
   "file_extension": ".py",
   "mimetype": "text/x-python",
   "name": "python",
   "nbconvert_exporter": "python",
   "pygments_lexer": "ipython2",
   "version": "2.7.12"
  }
 },
 "nbformat": 4,
 "nbformat_minor": 0
}
