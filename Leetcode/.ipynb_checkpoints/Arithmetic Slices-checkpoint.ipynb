{
 "cells": [
  {
   "cell_type": "markdown",
   "metadata": {},
   "source": [
    "# 1\n",
    "\n",
    "先计算出每个gap的长度，然后利用公式计算"
   ]
  },
  {
   "cell_type": "code",
   "execution_count": 77,
   "metadata": {
    "collapsed": true
   },
   "outputs": [],
   "source": [
    "class Solution(object):\n",
    "    def numberOfArithmeticSlices(self, A):\n",
    "        \"\"\"\n",
    "        :type A: List[int]\n",
    "        :rtype: int\n",
    "        \"\"\"\n",
    "        if len(A)<3: return 0\n",
    "        \n",
    "        # rst = 0 代表gap的个数\n",
    "        # 初始化必要参数\n",
    "        last_gap,gaps,N,gap_start = None,[],len(A),False\n",
    "        \n",
    "        for i,k in enumerate(A[1:]):\n",
    "            \n",
    "            i += 1\n",
    "            if k-A[i-1]!=last_gap:\n",
    "                \n",
    "                # 将之前的gap添加到gap数组的条件\n",
    "                if gap_start:\n",
    "                    gaps.append(gap_length)\n",
    "                    gap_start = False\n",
    "                    \n",
    "                # gap开始的条件\n",
    "                last_gap = k-A[i-1]\n",
    "                if i<=N-2 and A[i+1]-k==last_gap:\n",
    "                    # rst += 1\n",
    "                    gap_start = True\n",
    "                    gap_length = 2\n",
    "            else:\n",
    "                # gap开始后计算gap长度的条件\n",
    "                if gap_start:\n",
    "                    gap_length += 1\n",
    "        \n",
    "        # 对最后一个gap进行处理\n",
    "        if gap_start:\n",
    "            gaps.append(gap_length)\n",
    "        \n",
    "        # 对于每一个gaps的项，代表该gap的长度，对应的slice的个数和为：\n",
    "        return sum([(l-2)*(l-1)/2 for l in gaps])"
   ]
  },
  {
   "cell_type": "code",
   "execution_count": 86,
   "metadata": {
    "collapsed": false
   },
   "outputs": [
    {
     "data": {
      "text/plain": [
       "6"
      ]
     },
     "execution_count": 86,
     "metadata": {},
     "output_type": "execute_result"
    }
   ],
   "source": [
    "A = [1,2,3,4,5]\n",
    "a = Solution()\n",
    "a.numberOfArithmeticSlices(A)"
   ]
  },
  {
   "cell_type": "markdown",
   "metadata": {},
   "source": [
    "# concise\n",
    "\n",
    "直接计算"
   ]
  },
  {
   "cell_type": "code",
   "execution_count": 85,
   "metadata": {
    "collapsed": false
   },
   "outputs": [],
   "source": [
    "class Solution(object):\n",
    "    def numberOfArithmeticSlices(self, A):\n",
    "        \"\"\"\n",
    "        :type A: List[int]\n",
    "        :rtype: int\n",
    "        \"\"\"\n",
    "        if len(A)<3: return 0\n",
    "        \n",
    "        sum0, curr = 0,0\n",
    "        for i,k in enumerate(A[2:]):\n",
    "            if k-A[i+1] == A[i+1]-A[i]:\n",
    "                curr += 1\n",
    "                sum0 += curr\n",
    "            else:\n",
    "                curr = 0\n",
    "        return sum0"
   ]
  }
 ],
 "metadata": {
  "kernelspec": {
   "display_name": "Python 2",
   "language": "python",
   "name": "python2"
  },
  "language_info": {
   "codemirror_mode": {
    "name": "ipython",
    "version": 2
   },
   "file_extension": ".py",
   "mimetype": "text/x-python",
   "name": "python",
   "nbconvert_exporter": "python",
   "pygments_lexer": "ipython2",
   "version": "2.7.12"
  }
 },
 "nbformat": 4,
 "nbformat_minor": 1
}
