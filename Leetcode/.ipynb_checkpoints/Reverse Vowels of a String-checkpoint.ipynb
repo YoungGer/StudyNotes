{
 "cells": [
  {
   "cell_type": "markdown",
   "metadata": {},
   "source": [
    "# 73.95%"
   ]
  },
  {
   "cell_type": "code",
   "execution_count": 13,
   "metadata": {
    "collapsed": true
   },
   "outputs": [],
   "source": [
    "class Solution(object):\n",
    "    def reverseVowels(self, s):\n",
    "        \"\"\"\n",
    "        :type s: str\n",
    "        :rtype: str\n",
    "        \"\"\"\n",
    "        if not s: return \"\"\n",
    "        vowels = 'aeiouAEIOU'\n",
    "        s = list(s)\n",
    "        start, end = 0,len(s)-1\n",
    "        \n",
    "        while start<len(s) and s[start] not in vowels:\n",
    "            start += 1\n",
    "        while end>=0 and s[end] not in vowels:\n",
    "            end -= 1\n",
    "        while start<end:\n",
    "            s[start],s[end] = s[end],s[start]\n",
    "            # start, end移到元音的位置\n",
    "            start, end = start+1,end-1\n",
    "            while start<len(s) and s[start] not in vowels:\n",
    "                start += 1\n",
    "            while end>=0 and s[end] not in vowels:\n",
    "                end -= 1\n",
    "        \n",
    "        return ''.join(s)"
   ]
  },
  {
   "cell_type": "code",
   "execution_count": 12,
   "metadata": {
    "collapsed": false
   },
   "outputs": [
    {
     "data": {
      "text/plain": [
       "'leotcede'"
      ]
     },
     "execution_count": 12,
     "metadata": {},
     "output_type": "execute_result"
    }
   ],
   "source": [
    "a = Solution()\n",
    "a.reverseVowels(\"leetcode\")"
   ]
  },
  {
   "cell_type": "markdown",
   "metadata": {},
   "source": [
    "# 66.09%"
   ]
  },
  {
   "cell_type": "code",
   "execution_count": 16,
   "metadata": {
    "collapsed": true
   },
   "outputs": [],
   "source": [
    "class Solution(object):\n",
    "    def reverseVowels(self, s):\n",
    "        \"\"\"\n",
    "        :type s: str\n",
    "        :rtype: str\n",
    "        \"\"\"\n",
    "        if not s: return \"\"\n",
    "        \n",
    "        vowels = {'a', 'e', 'i', 'o', 'u', 'A', 'E', 'I', 'O', 'U'}\n",
    "        s = list(s)\n",
    "        start, end = 0,len(s)-1\n",
    "        \n",
    "        while start<end:\n",
    "            while start<end and s[start] not in vowels:\n",
    "                start += 1\n",
    "            while start<end and s[end] not in vowels:\n",
    "                end -= 1            \n",
    "            s[start],s[end] = s[end],s[start]\n",
    "            start, end = start+1,end-1\n",
    "        return ''.join(s)"
   ]
  }
 ],
 "metadata": {
  "kernelspec": {
   "display_name": "Python 2",
   "language": "python",
   "name": "python2"
  },
  "language_info": {
   "codemirror_mode": {
    "name": "ipython",
    "version": 2
   },
   "file_extension": ".py",
   "mimetype": "text/x-python",
   "name": "python",
   "nbconvert_exporter": "python",
   "pygments_lexer": "ipython2",
   "version": "2.7.12"
  }
 },
 "nbformat": 4,
 "nbformat_minor": 0
}
