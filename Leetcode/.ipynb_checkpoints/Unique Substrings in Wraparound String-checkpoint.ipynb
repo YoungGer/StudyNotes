{
 "cells": [
  {
   "cell_type": "markdown",
   "metadata": {},
   "source": [
    "Consider the string s to be the infinite wraparound string of \"abcdefghijklmnopqrstuvwxyz\", so s will look like this: \"...zabcdefghijklmnopqrstuvwxyzabcdefghijklmnopqrstuvwxyzabcd....\".\n",
    "\n",
    "Now we have another string p. Your job is to find out how many unique non-empty substrings of p are present in s. In particular, your input is the string p and you need to output the number of different non-empty substrings of p in the string s.\n",
    "\n",
    "Note: p consists of only lowercase English letters and the size of p might be over 10000.\n",
    "\n",
    "Example 1:  \n",
    "Input: \"a\"  \n",
    "Output: 1  \n",
    "Explanation: Only the substring \"a\" of string \"a\" is in the string \u0010s.  \n",
    "\n",
    "Example 2:  \n",
    "Input: \"cac\"  \n",
    "Output: 2\n",
    "Explanation: There are two substrings \"a\", \"c\" of string \"cac\" in the string s.  \n",
    "\n",
    "Example 3:  \n",
    "Input: \"zab\"  \n",
    "Output: 6\n",
    "Explanation: There are six substrings \"z\", \"a\", \"b\", \"za\", \"ab\", \"zab\" of string \"zab\" in the string s.\n",
    "\n",
    "这个题用DP去做，把原问题分解成以各个字母结尾的子问题。"
   ]
  },
  {
   "cell_type": "code",
   "execution_count": 244,
   "metadata": {
    "collapsed": true
   },
   "outputs": [],
   "source": [
    "string_dict = {i:j for i,j in zip(\"abcdefghijklmnopqrstuvwxyz\", \"bcdefghijklmnopqrstuvwxyza\")}\n",
    "elem2idx = {j:i for i,j in zip(range(26),'abcdefghijklmnopqrstuvwxyz')}\n",
    "def update_list(dict_list,elem,sub_len):\n",
    "    elem_idx = elem2idx[elem]\n",
    "    x = range(sub_len+1-26,sub_len+1)*2\n",
    "    x = x[25-elem_idx:25-elem_idx+26]\n",
    "    dict_list[:] = [max(dict_list[i],x[i]) for i in range(26)]\n",
    "class Solution(object):\n",
    "    def findSubstringInWraproundString(self, p):\n",
    "        \"\"\"\n",
    "        :type p: str\n",
    "        :rtype: int\n",
    "        \"\"\"\n",
    "        if p=='':\n",
    "            return 0\n",
    "        dict_list = [0]*26\n",
    "        sub_len,idx = 1,-1\n",
    "        for idx, i in enumerate(p[:-1]):\n",
    "            if string_dict[i]==p[idx+1]:\n",
    "                sub_len += 1\n",
    "            else:\n",
    "                key = p[idx]\n",
    "                update_list(dict_list,key,sub_len)\n",
    "                sub_len = 1\n",
    "        idx += 1\n",
    "        key = p[idx]\n",
    "        update_list(dict_list,key,sub_len)\n",
    "        return sum(dict_list)"
   ]
  },
  {
   "cell_type": "code",
   "execution_count": 240,
   "metadata": {
    "collapsed": true
   },
   "outputs": [],
   "source": [
    "string_dict = {i:j for i,j in zip(\"abcdefghijklmnopqrstuvwxyz\", \"bcdefghijklmnopqrstuvwxyza\")}\n",
    "elem2idx = {j:i for i,j in zip(range(26),'abcdefghijklmnopqrstuvwxyz')}\n",
    "def update_list(dict_list,elem,sub_len):\n",
    "    elem_idx = elem2idx[elem]\n",
    "    x = range(sub_len+1-26,sub_len+1)*2\n",
    "    x = x[25-elem_idx:25-elem_idx+26]\n",
    "    dict_list[:] = [max(dict_list[i],x[i]) for i in range(26)]\n",
    "def findSubstringInWraproundString(p):\n",
    "    \"\"\"\n",
    "    :type p: str\n",
    "    :rtype: int\n",
    "    \"\"\"\n",
    "    dict_list = [0]*26\n",
    "    sub_len,idx = 1,-1\n",
    "    for idx, i in enumerate(p[:-1]):\n",
    "        if string_dict[i]==p[idx+1]:\n",
    "            sub_len += 1\n",
    "        else:\n",
    "            key = p[idx]\n",
    "            update_list(dict_list,key,sub_len)\n",
    "            sub_len = 1\n",
    "    idx += 1\n",
    "    key = p[idx]\n",
    "    update_list(dict_list,key,sub_len)\n",
    "    return sum(dict_list)"
   ]
  }
 ],
 "metadata": {
  "kernelspec": {
   "display_name": "Python 2",
   "language": "python",
   "name": "python2"
  },
  "language_info": {
   "codemirror_mode": {
    "name": "ipython",
    "version": 2
   },
   "file_extension": ".py",
   "mimetype": "text/x-python",
   "name": "python",
   "nbconvert_exporter": "python",
   "pygments_lexer": "ipython2",
   "version": "2.7.12"
  }
 },
 "nbformat": 4,
 "nbformat_minor": 0
}
