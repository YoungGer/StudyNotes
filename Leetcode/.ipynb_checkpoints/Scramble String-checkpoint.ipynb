{
 "cells": [
  {
   "cell_type": "markdown",
   "metadata": {},
   "source": [
    "# Scramble String\n",
    "\n",
    "收获：\n",
    "\n",
    "- 首先要把大问题进行分解，变成很多小问题。具体来说，就是怎么将大数组的乱序判断分解成多个小数组的乱序判断。然后为了避免重复多次的计算，需要用到内存化的知识。"
   ]
  },
  {
   "cell_type": "code",
   "execution_count": 24,
   "metadata": {
    "collapsed": true
   },
   "outputs": [],
   "source": [
    "from collections import Counter\n",
    "def isScramble(s1, s2):\n",
    "    return isScramble2(s1, s2, {})\n",
    "def isScramble2(s1, s2, m):\n",
    "    \"\"\"\n",
    "    :type s1: str\n",
    "    :type s2: str\n",
    "    :rtype: bool\n",
    "    \"\"\"\n",
    "    # 基本情况\n",
    "    if s1==s2:\n",
    "        return True\n",
    "    if (Counter(s1)!=Counter(s2)):\n",
    "        return False\n",
    "    # memo\n",
    "    if (s1,s2) in m:\n",
    "        return m[s1,s2]\n",
    "    # DP规划分析\n",
    "    for i in range(1,len(s1)):\n",
    "        if isScramble2(s1[:i],s2[:i],m) and isScramble2(s1[i:],s2[i:],m):\n",
    "            m[s1,s2] = True\n",
    "            return True\n",
    "        if isScramble2(s1[:i],s2[-i:],m) and isScramble2(s1[i:],s2[:-i],m):\n",
    "            m[s1,s2] = True\n",
    "            return True\n",
    "    return False"
   ]
  },
  {
   "cell_type": "code",
   "execution_count": 25,
   "metadata": {
    "collapsed": false
   },
   "outputs": [
    {
     "data": {
      "text/plain": [
       "True"
      ]
     },
     "execution_count": 25,
     "metadata": {},
     "output_type": "execute_result"
    }
   ],
   "source": [
    "isScramble('rgtae','great')"
   ]
  }
 ],
 "metadata": {
  "kernelspec": {
   "display_name": "Python 2",
   "language": "python",
   "name": "python2"
  },
  "language_info": {
   "codemirror_mode": {
    "name": "ipython",
    "version": 2
   },
   "file_extension": ".py",
   "mimetype": "text/x-python",
   "name": "python",
   "nbconvert_exporter": "python",
   "pygments_lexer": "ipython2",
   "version": "2.7.12"
  }
 },
 "nbformat": 4,
 "nbformat_minor": 0
}
