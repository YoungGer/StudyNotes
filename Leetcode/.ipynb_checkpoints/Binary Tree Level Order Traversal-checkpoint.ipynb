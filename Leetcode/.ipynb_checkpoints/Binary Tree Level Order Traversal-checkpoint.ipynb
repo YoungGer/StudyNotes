{
 "cells": [
  {
   "cell_type": "markdown",
   "metadata": {},
   "source": [
    "# Binary Tree Level Order Traversal\n",
    "\n",
    "难度：简单  \n",
    "考点：Tree, BFS\n",
    "\n",
    "先计数再计算：\n",
    "\n",
    "- 这个问题按照每一个level生成一个数组，所以BFS最合适。\n",
    "- 首先先遍历一遍数组，计算层数。\n",
    "- BFS的话可以用一个节点数组，先进先出。\n",
    "- 当节点数组有值时，读取第一个节点，进行相应操作，然后把该节点的子节点放在数组后面。\n",
    "\n",
    "边计数边计算：\n",
    "\n",
    "- 每个节点自己的层数可以通过上一层计算得到。\n",
    "\n",
    "\n",
    "\n",
    "问题描述：\n",
    "\n",
    "Given a binary tree, return the level order traversal of its nodes' values. (ie, from left to right, level by level)."
   ]
  },
  {
   "cell_type": "markdown",
   "metadata": {},
   "source": [
    "# 先计数在计算"
   ]
  },
  {
   "cell_type": "code",
   "execution_count": 10,
   "metadata": {
    "collapsed": true
   },
   "outputs": [],
   "source": [
    "def label(root):\n",
    "    # 当前root节点已经有level值，推测出其子节点的level值。\n",
    "    root.level = 0\n",
    "    if root.left:\n",
    "        root.left.level = root.level + 1\n",
    "        labelRecur(root.left)\n",
    "    if root.right:\n",
    "        root.right.level = root.level + 1\n",
    "        labelRecur(root.right)\n",
    "    \n",
    "def labelRecur(root):\n",
    "    if root.left:\n",
    "        root.left.level = root.level + 1\n",
    "        labelRecur(root.left)\n",
    "    if root.right:\n",
    "        root.right.level = root.level + 1\n",
    "        labelRecur(root.right)\n",
    "\n",
    "\n",
    "class Solution(object):\n",
    "    def levelOrder(self, root):\n",
    "        \"\"\"\n",
    "        :type root: TreeNode\n",
    "        :rtype: List[List[int]]\n",
    "        \"\"\"\n",
    "        # 处理特殊情况\n",
    "        if root==None:\n",
    "            return []\n",
    "        # 首先对数组的每一层进行标号\n",
    "        label(root)\n",
    "        # 标记好后开始遍历数组\n",
    "        rst = []\n",
    "        node_list = [root]\n",
    "        last_level = 0\n",
    "        last_list = []\n",
    "        while (len(node_list))!=0 :\n",
    "            pop_node = node_list.pop(0)\n",
    "            \n",
    "            # 处理不同level的区分\n",
    "            if pop_node.level==last_level:\n",
    "                # 在同一个level上\n",
    "                last_list.append(pop_node.val)\n",
    "            else:\n",
    "                # 不在一个level上\n",
    "                rst.append(last_list) #将之前的放在数组中\n",
    "                last_list = [pop_node.val]\n",
    "                last_level = pop_node.level\n",
    "            \n",
    "            # 处理node_list的增加\n",
    "            if pop_node.left:\n",
    "                node_list.append(pop_node.left)\n",
    "            if pop_node.right:\n",
    "                node_list.append(pop_node.right)\n",
    "        # 遍历完成后，把最后的last_list放置进去\n",
    "        rst.append(last_list)\n",
    "        return rst"
   ]
  },
  {
   "cell_type": "markdown",
   "metadata": {},
   "source": [
    "#  边计数边计算"
   ]
  },
  {
   "cell_type": "code",
   "execution_count": 11,
   "metadata": {
    "collapsed": true
   },
   "outputs": [],
   "source": [
    "class Solution(object):\n",
    "    def levelOrder(self, root):\n",
    "        \"\"\"\n",
    "        :type root: TreeNode\n",
    "        :rtype: List[List[int]]\n",
    "        \"\"\"\n",
    "        # 处理特殊情况\n",
    "        if root==None:\n",
    "            return []\n",
    "        root.level = 0\n",
    "        # 标记好后开始遍历数组\n",
    "        rst = []\n",
    "        node_list = [root]\n",
    "        last_level = 0\n",
    "        last_list = []\n",
    "        while (len(node_list))!=0 :\n",
    "            pop_node = node_list.pop(0)\n",
    "            \n",
    "            # 处理不同level的区分\n",
    "            if pop_node.level==last_level:\n",
    "                # 在同一个level上\n",
    "                last_list.append(pop_node.val)\n",
    "            else:\n",
    "                # 不在一个level上\n",
    "                rst.append(last_list) #将之前的放在数组中\n",
    "                last_list = [pop_node.val]\n",
    "                last_level = pop_node.level\n",
    "            \n",
    "            # 处理node_list的增加\n",
    "            if pop_node.left:\n",
    "                pop_node.left.level = pop_node.level+1\n",
    "                node_list.append(pop_node.left)\n",
    "            if pop_node.right:\n",
    "                pop_node.right.level = pop_node.level+1\n",
    "                node_list.append(pop_node.right)\n",
    "        # 遍历完成后，把最后的last_list放置进去\n",
    "        rst.append(last_list)\n",
    "        return rst"
   ]
  }
 ],
 "metadata": {
  "kernelspec": {
   "display_name": "Python 2",
   "language": "python",
   "name": "python2"
  },
  "language_info": {
   "codemirror_mode": {
    "name": "ipython",
    "version": 2
   },
   "file_extension": ".py",
   "mimetype": "text/x-python",
   "name": "python",
   "nbconvert_exporter": "python",
   "pygments_lexer": "ipython2",
   "version": "2.7.12"
  }
 },
 "nbformat": 4,
 "nbformat_minor": 0
}
