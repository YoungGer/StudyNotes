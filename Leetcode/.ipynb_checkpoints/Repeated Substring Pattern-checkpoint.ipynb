{
 "cells": [
  {
   "cell_type": "markdown",
   "metadata": {},
   "source": [
    "# straghtforward"
   ]
  },
  {
   "cell_type": "code",
   "execution_count": 38,
   "metadata": {
    "collapsed": true
   },
   "outputs": [],
   "source": [
    "class Solution(object):\n",
    "    def repeatedSubstringPattern(self, str):\n",
    "        \"\"\"\n",
    "        :type str: str\n",
    "        :rtype: bool\n",
    "        \"\"\"\n",
    "        pattern,next_idx,back_string = str[0],1,''\n",
    "        flag = False\n",
    "        while next_idx<len(str):\n",
    "            try:\n",
    "                if str[next_idx:next_idx+len(pattern)] == pattern:\n",
    "                    flag = True\n",
    "                    back_string += str[next_idx:next_idx+len(pattern)]\n",
    "                    next_idx = next_idx+len(pattern)\n",
    "                else:\n",
    "                    flag = False\n",
    "                    if not back_string:\n",
    "                        pattern, next_idx = pattern+str[next_idx], next_idx+1\n",
    "                    else:\n",
    "                        pattern,back_string,next_idx = pattern+back_string[0],'',len(pattern)+1\n",
    "            except IndexError:\n",
    "                return False\n",
    "        return flag"
   ]
  },
  {
   "cell_type": "markdown",
   "metadata": {},
   "source": [
    "# first find divisor"
   ]
  },
  {
   "cell_type": "code",
   "execution_count": 43,
   "metadata": {
    "collapsed": true
   },
   "outputs": [],
   "source": [
    "class Solution(object):\n",
    "    def repeatedSubstringPattern(self, s):\n",
    "        n = len(s)\n",
    "        return any(n / d * s[:d] == s\n",
    "                   for d in range(1, n)\n",
    "                   if n % d == 0)"
   ]
  }
 ],
 "metadata": {
  "kernelspec": {
   "display_name": "Python 2",
   "language": "python",
   "name": "python2"
  },
  "language_info": {
   "codemirror_mode": {
    "name": "ipython",
    "version": 2
   },
   "file_extension": ".py",
   "mimetype": "text/x-python",
   "name": "python",
   "nbconvert_exporter": "python",
   "pygments_lexer": "ipython2",
   "version": "2.7.12"
  }
 },
 "nbformat": 4,
 "nbformat_minor": 0
}
