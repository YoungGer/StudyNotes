{
 "cells": [
  {
   "cell_type": "code",
   "execution_count": 12,
   "metadata": {
    "collapsed": true
   },
   "outputs": [],
   "source": [
    "def QuickSort(a,l,h):\n",
    "    # 特殊情况\n",
    "    if h-l<=0:\n",
    "        return\n",
    "    # 选择pivot，返回i\n",
    "    i = ChoosePivot(a,l,h)\n",
    "    # 递推调用\n",
    "    if i-1>=l:\n",
    "        QuickSort(a,l,i-1)\n",
    "    if i+1<=h:\n",
    "        QuickSort(a,i+1,h)"
   ]
  },
  {
   "cell_type": "code",
   "execution_count": 13,
   "metadata": {
    "collapsed": true
   },
   "outputs": [],
   "source": [
    "def ChoosePivot(a,l,h):\n",
    "    # 选择pivot\n",
    "    p = a[l]\n",
    "    i = l+1\n",
    "    #  遍历剩余部分，i始终指向临界点大的那个数\n",
    "    for j in range(l+1,h+1):\n",
    "        if a[j]<p:\n",
    "            a[j],a[i] = a[i],a[j]\n",
    "            i += 1\n",
    "    # 最后交换\n",
    "    a[i-1],a[l] = a[l],a[i-1]\n",
    "    return i-1"
   ]
  },
  {
   "cell_type": "code",
   "execution_count": 17,
   "metadata": {
    "collapsed": false
   },
   "outputs": [],
   "source": [
    "a = [2,4,6,1,0,6,3442,21,4]\n",
    "QuickSort(a,0,len(a)-1)"
   ]
  },
  {
   "cell_type": "code",
   "execution_count": 18,
   "metadata": {
    "collapsed": false
   },
   "outputs": [
    {
     "data": {
      "text/plain": [
       "[0, 1, 2, 4, 4, 6, 6, 21, 3442]"
      ]
     },
     "execution_count": 18,
     "metadata": {},
     "output_type": "execute_result"
    }
   ],
   "source": [
    "a"
   ]
  }
 ],
 "metadata": {
  "kernelspec": {
   "display_name": "Python 2",
   "language": "python",
   "name": "python2"
  },
  "language_info": {
   "codemirror_mode": {
    "name": "ipython",
    "version": 2
   },
   "file_extension": ".py",
   "mimetype": "text/x-python",
   "name": "python",
   "nbconvert_exporter": "python",
   "pygments_lexer": "ipython2",
   "version": "2.7.12"
  }
 },
 "nbformat": 4,
 "nbformat_minor": 0
}
