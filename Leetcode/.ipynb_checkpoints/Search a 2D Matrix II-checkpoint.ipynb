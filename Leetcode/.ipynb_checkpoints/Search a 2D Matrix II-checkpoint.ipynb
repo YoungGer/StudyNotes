{
 "cells": [
  {
   "cell_type": "markdown",
   "metadata": {},
   "source": [
    "Write an efficient algorithm that searches for a value in an m x n matrix. This matrix has the following properties:\n",
    "\n",
    "Integers in each row are sorted in ascending from left to right.\n",
    "Integers in each column are sorted in ascending from top to bottom.\n",
    "For example,\n",
    "\n",
    "Consider the following matrix:\n",
    "\n",
    "```\n",
    "[\n",
    "  [1,   4,  7, 11, 15],\n",
    "  [2,   5,  8, 12, 19],\n",
    "  [3,   6,  9, 16, 22],\n",
    "  [10, 13, 14, 17, 24],\n",
    "  [18, 21, 23, 26, 30]\n",
    "]```\n",
    "\n",
    "Given target = 5, return true.\n",
    "\n",
    "Given target = 20, return false."
   ]
  },
  {
   "cell_type": "code",
   "execution_count": 264,
   "metadata": {
    "collapsed": true
   },
   "outputs": [],
   "source": [
    "class Solution(object):\n",
    "    def searchMatrix(self, matrix, target):\n",
    "        \"\"\"\n",
    "        :type matrix: List[List[int]]\n",
    "        :type target: int\n",
    "        :rtype: bool\n",
    "        \"\"\"\n",
    "        m, n, r, c = len(matrix), len(matrix[0]), 0, len(matrix[0])-1\n",
    "        while r<m and c>=0:\n",
    "            if matrix[r][c]==target:\n",
    "                return True\n",
    "            elif matrix[r][c]<target:\n",
    "                # eliminate row\n",
    "                r += 1\n",
    "            else:\n",
    "                # eliminate column\n",
    "                c -= 1\n",
    "        return False"
   ]
  },
  {
   "cell_type": "markdown",
   "metadata": {},
   "source": [
    "# Iterate\n",
    "\n",
    "We roll from the upper-right to the bottom-left.\n",
    "\n",
    "In each itaretion, based on the matrix property, we can eliminate one row or one column.\n",
    "\n",
    "The complexity is $O(M+N)$"
   ]
  },
  {
   "cell_type": "code",
   "execution_count": 248,
   "metadata": {
    "collapsed": false
   },
   "outputs": [],
   "source": [
    "def searchMatrix(matrix, target):\n",
    "    \"\"\"\n",
    "    :type matrix: List[List[int]]\n",
    "    :type target: int\n",
    "    :rtype: bool\n",
    "    \"\"\"\n",
    "    # 特殊情况\n",
    "    if len(matrix[0])==0:\n",
    "        return False\n",
    "    if len(matrix)==1 or len(matrix[0])==1:\n",
    "        return target in [j for i in matrix for j in i]\n",
    "    # 基础情况\n",
    "    select = matrix[0][-1]\n",
    "    if target>select:\n",
    "        # eliminate row\n",
    "        return searchMatrix(matrix[1:], target)\n",
    "    elif target<select:\n",
    "        # eliminate column\n",
    "        return searchMatrix([row[:-1] for row in matrix], target)\n",
    "    else:\n",
    "        return True"
   ]
  },
  {
   "cell_type": "code",
   "execution_count": 261,
   "metadata": {
    "collapsed": true
   },
   "outputs": [],
   "source": [
    "def searchMatrix(matrix, target):\n",
    "    \"\"\"\n",
    "    :type matrix: List[List[int]]\n",
    "    :type target: int\n",
    "    :rtype: bool\n",
    "    \"\"\"\n",
    "    m, n, r, c = len(matrix), len(matrix[0]), 0, len(matrix[0])-1\n",
    "    while r<m and c>=0:\n",
    "        if matrix[r][c]==target:\n",
    "            return True\n",
    "        elif matrix[r][c]<target:\n",
    "            # eliminate row\n",
    "            r += 1\n",
    "        else:\n",
    "            # eliminate column\n",
    "            c -= 1\n",
    "    return False"
   ]
  },
  {
   "cell_type": "code",
   "execution_count": 262,
   "metadata": {
    "collapsed": true
   },
   "outputs": [],
   "source": [
    "testsets = []\n",
    "testsets.append([[]])\n",
    "testsets.append([[1]])\n",
    "testsets.append([[1,2]])\n",
    "testsets.append([[1,2],[3,4]])\n",
    "testsets.append([[1,2,3],[4,5,6]])\n",
    "testsets.append([[1],[2]])\n",
    "testsets.append([[1],[2],[3]])\n",
    "testsets.append([[1],[2],[3]])"
   ]
  },
  {
   "cell_type": "code",
   "execution_count": 263,
   "metadata": {
    "collapsed": false
   },
   "outputs": [
    {
     "name": "stdout",
     "output_type": "stream",
     "text": [
      "False\n",
      "True\n",
      "True\n",
      "True\n",
      "True\n",
      "True\n",
      "True\n",
      "True\n"
     ]
    }
   ],
   "source": [
    "for j in testsets:\n",
    "    print(searchMatrix(j,1))"
   ]
  },
  {
   "cell_type": "markdown",
   "metadata": {},
   "source": [
    "# Divide and Conquer \n",
    "\n",
    "We can divide the matrix into 4 parts basd on the meddle value. Then we can eliminate one part at each iteration.\n",
    "\n",
    "The complexity is $O({NM}^{\\log(3)})$ ."
   ]
  },
  {
   "cell_type": "code",
   "execution_count": 225,
   "metadata": {
    "collapsed": true
   },
   "outputs": [],
   "source": [
    "def searchMatrix(matrix, target):\n",
    "    \"\"\"\n",
    "    :type matrix: List[List[int]]\n",
    "    :type target: int\n",
    "    :rtype: bool\n",
    "    \"\"\"\n",
    "    # 临界情况\n",
    "    if len(matrix)==0:\n",
    "        return False\n",
    "    if len(matrix[0])==0:\n",
    "        return False\n",
    "    \n",
    "    if len(matrix)==1 or len(matrix[0])==1:\n",
    "        if target in [j for i in matrix for j in i]:\n",
    "            return True\n",
    "        else:\n",
    "            return False\n",
    "    \n",
    "    l_row = len(matrix)\n",
    "    l_col = len(matrix[0])\n",
    "\n",
    "    middle_row_index = (l_row-1)//2\n",
    "    middle_col_index = (l_col-1)//2\n",
    "    \n",
    "    middle_val = matrix[middle_row_index][middle_col_index]\n",
    "    \n",
    "    if l_row==2 and not l_col==2:\n",
    "        p1 = [matrix[0][:middle_col_index+1]]\n",
    "        p2 = [matrix[0][middle_col_index+1:] ]\n",
    "        p3 = [matrix[1][:middle_col_index] ]\n",
    "        p4 = [matrix[1][middle_col_index:] ]\n",
    "    elif not l_row==2 and l_col==2:\n",
    "        p1 = [[x[0] for x in matrix[:middle_row_index+1]]]\n",
    "        p2 = [[x[1] for x in matrix[:middle_row_index]]]\n",
    "        p3 = [[x[0] for x in matrix[middle_row_index+1:]]]\n",
    "        p4 = [[x[1] for x in matrix[middle_row_index:]]]\n",
    "    elif  l_row==2 and l_col==2:\n",
    "        p1 = [[matrix[0][0]]]\n",
    "        p2 = [[matrix[0][1]]]\n",
    "        p3 = [[matrix[1][0]]]\n",
    "        p4 = [[matrix[1][1]]]\n",
    "    else:\n",
    "        p1 = [x[:middle_col_index+1] for x in matrix[:middle_row_index+1]]\n",
    "        p2 = [x[middle_col_index+1:] for x in matrix[:middle_row_index]]\n",
    "        p3 = [x[:middle_col_index] for x in matrix[middle_row_index+1:]]\n",
    "        p4 = [x[middle_col_index:] for x in matrix[middle_row_index:]]\n",
    "    \n",
    "    if middle_val==target:\n",
    "        return True\n",
    "    if middle_val<target:\n",
    "        return searchMatrix(p2,target) or searchMatrix(p3,target) or searchMatrix(p4,target)\n",
    "    else:\n",
    "        return searchMatrix(p2,target) or searchMatrix(p3,target) or searchMatrix(p1,target)\n",
    "    \n",
    "    return False"
   ]
  },
  {
   "cell_type": "code",
   "execution_count": 229,
   "metadata": {
    "collapsed": true
   },
   "outputs": [],
   "source": [
    "matrix = [\n",
    "  [1,   4,  7, 11, 15],\n",
    "  [2,   5,  8, 12, 19],\n",
    "  [3,   6,  9, 16, 22],\n",
    "  [10, 13, 14, 17, 24],\n",
    "  [18, 21, 23, 26, 30]\n",
    "]"
   ]
  },
  {
   "cell_type": "code",
   "execution_count": 230,
   "metadata": {
    "collapsed": true
   },
   "outputs": [],
   "source": [
    "matrix = [[3,5,9,9,14],[7,8,11,15,15],[8,10,16,16,17]]"
   ]
  },
  {
   "cell_type": "code",
   "execution_count": 231,
   "metadata": {
    "collapsed": false
   },
   "outputs": [
    {
     "data": {
      "text/plain": [
       "False"
      ]
     },
     "execution_count": 231,
     "metadata": {},
     "output_type": "execute_result"
    }
   ],
   "source": [
    "searchMatrix(matrix,12)"
   ]
  }
 ],
 "metadata": {
  "kernelspec": {
   "display_name": "Python 2",
   "language": "python",
   "name": "python2"
  },
  "language_info": {
   "codemirror_mode": {
    "name": "ipython",
    "version": 2
   },
   "file_extension": ".py",
   "mimetype": "text/x-python",
   "name": "python",
   "nbconvert_exporter": "python",
   "pygments_lexer": "ipython2",
   "version": "2.7.12"
  }
 },
 "nbformat": 4,
 "nbformat_minor": 0
}
