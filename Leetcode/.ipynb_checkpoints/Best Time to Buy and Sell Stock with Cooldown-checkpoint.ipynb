{
 "cells": [
  {
   "cell_type": "code",
   "execution_count": 1,
   "metadata": {
    "collapsed": true
   },
   "outputs": [],
   "source": [
    "class Solution(object):\n",
    "    def maxProfit(self, prices):\n",
    "        \"\"\"\n",
    "        :type prices: List[int]\n",
    "        :rtype: int\n",
    "        \"\"\"\n",
    "        if not prices: return 0\n",
    "        \n",
    "        s_buy = -prices[0]\n",
    "        s_sell = -float(\"inf\")\n",
    "        s_rest = 0\n",
    "        \n",
    "        for p in prices[1:]:\n",
    "            s_buy,s_sell,s_rest = max(s_buy, s_rest-p),s_buy+p,max(s_rest,s_sell)\n",
    "        \n",
    "        return(max(s_sell,s_rest))"
   ]
  }
 ],
 "metadata": {
  "kernelspec": {
   "display_name": "Python 2",
   "language": "python",
   "name": "python2"
  },
  "language_info": {
   "codemirror_mode": {
    "name": "ipython",
    "version": 2
   },
   "file_extension": ".py",
   "mimetype": "text/x-python",
   "name": "python",
   "nbconvert_exporter": "python",
   "pygments_lexer": "ipython2",
   "version": "2.7.12"
  }
 },
 "nbformat": 4,
 "nbformat_minor": 1
}
