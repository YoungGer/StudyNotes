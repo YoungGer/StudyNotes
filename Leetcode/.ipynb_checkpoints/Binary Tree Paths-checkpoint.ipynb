{
 "cells": [
  {
   "cell_type": "markdown",
   "metadata": {},
   "source": [
    "# Binary Tree Paths\n",
    "\n",
    "难度：简单  \n",
    "考点：Tree, DFS\n",
    "\n",
    "收获：\n",
    "\n",
    "- None\n",
    "\n",
    "\n",
    "问题描述：\n",
    "\n",
    "Given a binary tree, return all root-to-leaf paths."
   ]
  },
  {
   "cell_type": "code",
   "execution_count": 4,
   "metadata": {
    "collapsed": true
   },
   "outputs": [],
   "source": [
    "def path(root,m_corr,m):\n",
    "    # 判断当前节点是否为空\n",
    "    if root==None:\n",
    "        return\n",
    "    else:\n",
    "        m_corr += '->'+str(root.val)\n",
    "    \n",
    "    # 判断左右节点\n",
    "    left_none = root.left==None\n",
    "    right_none = root.right==None\n",
    "    \n",
    "    if left_none and not right_none:\n",
    "        # 只有左节点空\n",
    "        path(root.right, m_corr, m)\n",
    "        return\n",
    "    if right_none and not left_none:\n",
    "        # 只有右节点空\n",
    "        path(root.left, m_corr, m)\n",
    "        return\n",
    "    if right_none and left_none:\n",
    "        # 左右都是空的，这时候到达叶节点了，可以终止了\n",
    "        m.append(m_corr)\n",
    "        return\n",
    "    \n",
    "    # 左右都有值\n",
    "    path(root.left,m_corr,m)\n",
    "    path(root.right,m_corr,m)\n",
    "    \n",
    "\n",
    "class Solution:\n",
    "    # @param {TreeNode} root\n",
    "    # @return {string[]}\n",
    "    def binaryTreePaths(self, root):\n",
    "        # 判断当前节点是否为空\n",
    "        if root == None:\n",
    "            return []\n",
    "        m_corr = str(root.val)\n",
    "        m = [m_corr]\n",
    "        path(root.left,m_corr,m)\n",
    "        path(root.right,m_corr,m)\n",
    "        return m"
   ]
  }
 ],
 "metadata": {
  "kernelspec": {
   "display_name": "Python 2",
   "language": "python",
   "name": "python2"
  },
  "language_info": {
   "codemirror_mode": {
    "name": "ipython",
    "version": 2
   },
   "file_extension": ".py",
   "mimetype": "text/x-python",
   "name": "python",
   "nbconvert_exporter": "python",
   "pygments_lexer": "ipython2",
   "version": "2.7.12"
  }
 },
 "nbformat": 4,
 "nbformat_minor": 0
}
