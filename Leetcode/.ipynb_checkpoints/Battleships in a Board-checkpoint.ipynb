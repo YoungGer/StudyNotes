{
 "cells": [
  {
   "cell_type": "markdown",
   "metadata": {},
   "source": [
    "# O(m*n) time O(1) space"
   ]
  },
  {
   "cell_type": "code",
   "execution_count": 38,
   "metadata": {
    "collapsed": true
   },
   "outputs": [],
   "source": [
    "class Solution(object):\n",
    "    def countBattleships(self, board):\n",
    "        \"\"\"\n",
    "        :type board: List[List[str]]\n",
    "        :rtype: int\n",
    "        \"\"\"\n",
    "        def countrow(board):\n",
    "            count = 0\n",
    "            count_single = 0\n",
    "            lastpoint = True\n",
    "            board = ['.'*len(board[0])] + board + ['.'*len(board[0])]\n",
    "            for ir,row in enumerate(board[1:-1]):\n",
    "                row = row + '.'\n",
    "                lastpoint = True       \n",
    "                for ic,col in enumerate(row[:-1]):\n",
    "                    if col=='X' and board[ir][ic]=='.' and board[ir+2][ic]=='.' and lastpoint:\n",
    "                        count += 1\n",
    "                        if row[ic+1]=='.':\n",
    "                            print (ir,ic)\n",
    "                            count_single += 1\n",
    "                    if col=='.':\n",
    "                        lastpoint = True\n",
    "                    else:\n",
    "                        lastpoint = False\n",
    "            return count,count_single\n",
    "        \n",
    "        # base case\n",
    "        if len(board)==0 or len(board[0])==0:\n",
    "            return 0\n",
    "        #\n",
    "        #board = [''.join(i) for i in board]\n",
    "        #\n",
    "        c_row, c_single1 = countrow(board)\n",
    "        c_col, c_single2 = countrow(map(lambda x: reduce(lambda a,b:a+b,x), zip(*board)))\n",
    "        print (c_row,c_single1)\n",
    "        print (c_col,c_single2)\n",
    "        assert c_single1==c_single2\n",
    "        return c_row+c_col-c_single1"
   ]
  },
  {
   "cell_type": "markdown",
   "metadata": {},
   "source": [
    "# Smarter"
   ]
  },
  {
   "cell_type": "code",
   "execution_count": 62,
   "metadata": {
    "collapsed": false
   },
   "outputs": [],
   "source": [
    "class Solution(object):\n",
    "    def countBattleships(self, board):\n",
    "        \"\"\"\n",
    "        :type board: List[List[str]]\n",
    "        :rtype: int\n",
    "        \"\"\"\n",
    "        count = 0\n",
    "        for ir,row in enumerate(board):\n",
    "            for ic,point in enumerate(row):\n",
    "                if point!='X':\n",
    "                    continue\n",
    "                if ir>0 and  board[ir-1][ic]!='.':\n",
    "                    continue\n",
    "                if ic>0 and board[ir][ic-1]!='.':\n",
    "                    continue\n",
    "                count += 1\n",
    "        return count"
   ]
  }
 ],
 "metadata": {
  "kernelspec": {
   "display_name": "Python 2",
   "language": "python",
   "name": "python2"
  },
  "language_info": {
   "codemirror_mode": {
    "name": "ipython",
    "version": 2
   },
   "file_extension": ".py",
   "mimetype": "text/x-python",
   "name": "python",
   "nbconvert_exporter": "python",
   "pygments_lexer": "ipython2",
   "version": "2.7.12"
  }
 },
 "nbformat": 4,
 "nbformat_minor": 1
}
