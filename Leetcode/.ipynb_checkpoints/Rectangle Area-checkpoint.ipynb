{
 "cells": [
  {
   "cell_type": "code",
   "execution_count": 5,
   "metadata": {
    "collapsed": true
   },
   "outputs": [],
   "source": [
    "class Solution(object):\n",
    "    def computeArea(self, A, B, C, D, E, F, G, H):\n",
    "        \"\"\"\n",
    "        :type A: int\n",
    "        :type B: int\n",
    "        :type C: int\n",
    "        :type D: int\n",
    "        :type E: int\n",
    "        :type F: int\n",
    "        :type G: int\n",
    "        :type H: int\n",
    "        :rtype: int\n",
    "        \"\"\"\n",
    "        def helper(a,b,c,d):\n",
    "            return abs(a-c)*abs(b-d)\n",
    "        x_axis,y_axis = [A,E,C,G],[B,F,D,H]\n",
    "        xm1,xm2 = sorted(x_axis)[1:3]\n",
    "        ym1,ym2 = sorted(y_axis)[1:3]\n",
    "        \n",
    "        if min(E,G)>=max(A,C) or max(E,G)<=min(A,C) or min(B,D)>=max(H,F) or max(B,D)<=min(H,F):\n",
    "            return helper(A,B,C,D)+helper(E,F,G,H)\n",
    "        else:\n",
    "            return helper(A,B,C,D)+helper(E,F,G,H)-helper(xm1,ym1,xm2,ym2)"
   ]
  },
  {
   "cell_type": "code",
   "execution_count": 6,
   "metadata": {
    "collapsed": true
   },
   "outputs": [],
   "source": [
    "class Solution(object):\n",
    "    def computeArea(self, A, B, C, D, E, F, G, H):\n",
    "        \"\"\"\n",
    "        :type A: int\n",
    "        :type B: int\n",
    "        :type C: int\n",
    "        :type D: int\n",
    "        :type E: int\n",
    "        :type F: int\n",
    "        :type G: int\n",
    "        :type H: int\n",
    "        :rtype: int\n",
    "        \"\"\"\n",
    "        left,bottom = max(A,E),max(B,F)\n",
    "        right,top = max(left,min(C,G)) ,max(bottom,min(D,H))\n",
    "        return (C-A)*(D-B)+(G-E)*(H-F)-(right-left)*(top-bottom)"
   ]
  }
 ],
 "metadata": {
  "kernelspec": {
   "display_name": "Python 2",
   "language": "python",
   "name": "python2"
  },
  "language_info": {
   "codemirror_mode": {
    "name": "ipython",
    "version": 2
   },
   "file_extension": ".py",
   "mimetype": "text/x-python",
   "name": "python",
   "nbconvert_exporter": "python",
   "pygments_lexer": "ipython2",
   "version": "2.7.12"
  }
 },
 "nbformat": 4,
 "nbformat_minor": 1
}
