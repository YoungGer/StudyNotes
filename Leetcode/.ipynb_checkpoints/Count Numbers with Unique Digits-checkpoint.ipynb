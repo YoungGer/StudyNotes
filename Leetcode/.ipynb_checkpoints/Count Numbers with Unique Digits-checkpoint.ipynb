{
 "cells": [
  {
   "cell_type": "code",
   "execution_count": 5,
   "metadata": {
    "collapsed": true
   },
   "outputs": [],
   "source": [
    "class Solution(object):\n",
    "    def countNumbersWithUniqueDigits(self, n):\n",
    "        \"\"\"\n",
    "        :type n: int\n",
    "        :rtype: int\n",
    "        \"\"\"\n",
    "        # create lookup table\n",
    "        d = {0:1,1:10,2:91}\n",
    "        cum_prod = 81\n",
    "        cum_sum = 91\n",
    "        for i in range(3,11):\n",
    "            cum_prod = cum_prod*(11-i)\n",
    "            cum_sum = cum_sum+cum_prod\n",
    "            d[i] = cum_sum\n",
    "        print d\n",
    "        # look up\n",
    "        if n>10:\n",
    "            return d[10]\n",
    "        else:\n",
    "            return d[n]"
   ]
  },
  {
   "cell_type": "code",
   "execution_count": 7,
   "metadata": {
    "collapsed": true
   },
   "outputs": [],
   "source": [
    "class Solution(object):\n",
    "    def countNumbersWithUniqueDigits(self, n):\n",
    "        \"\"\"\n",
    "        :type n: int\n",
    "        :rtype: int\n",
    "        \"\"\"\n",
    "        # create lookup table\n",
    "        d = {0: 1, 1: 10, 2: 91, 3: 739, 4: 5275, 5: 32491, 6: 168571, 7: 712891, 8: 2345851, 9: 5611771, 10: 8877691}\n",
    "        # look up\n",
    "        if n>10:\n",
    "            return d[10]\n",
    "        else:\n",
    "            return d[n]"
   ]
  },
  {
   "cell_type": "code",
   "execution_count": 6,
   "metadata": {
    "collapsed": false
   },
   "outputs": [
    {
     "name": "stdout",
     "output_type": "stream",
     "text": [
      "{0: 1, 1: 10, 2: 91, 3: 739, 4: 5275, 5: 32491, 6: 168571, 7: 712891, 8: 2345851, 9: 5611771, 10: 8877691}\n"
     ]
    },
    {
     "data": {
      "text/plain": [
       "32491"
      ]
     },
     "execution_count": 6,
     "metadata": {},
     "output_type": "execute_result"
    }
   ],
   "source": [
    "n = 5\n",
    "a = Solution()\n",
    "a.countNumbersWithUniqueDigits(n)"
   ]
  }
 ],
 "metadata": {
  "kernelspec": {
   "display_name": "Python 2",
   "language": "python",
   "name": "python2"
  },
  "language_info": {
   "codemirror_mode": {
    "name": "ipython",
    "version": 2
   },
   "file_extension": ".py",
   "mimetype": "text/x-python",
   "name": "python",
   "nbconvert_exporter": "python",
   "pygments_lexer": "ipython2",
   "version": "2.7.12"
  }
 },
 "nbformat": 4,
 "nbformat_minor": 0
}
