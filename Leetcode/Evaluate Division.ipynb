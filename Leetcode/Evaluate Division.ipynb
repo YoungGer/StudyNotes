{
 "cells": [
  {
   "cell_type": "markdown",
   "metadata": {},
   "source": [
    "the queries will result in no division by zero and there is no contradiction"
   ]
  },
  {
   "cell_type": "code",
   "execution_count": 9,
   "metadata": {
    "collapsed": true
   },
   "outputs": [],
   "source": [
    "from collections import defaultdict\n",
    "class Solution(object):\n",
    "    def calcEquation(self, equations, values, queries):\n",
    "        \"\"\"\n",
    "        :type equations: List[List[str]]\n",
    "        :type values: List[float]\n",
    "        :type queries: List[List[str]]\n",
    "        :rtype: List[float]\n",
    "        \"\"\"\n",
    "        quot = defaultdict(dict)\n",
    "        # init quot\n",
    "        for (num,den),val in zip(equations,values):\n",
    "            quot[num][den] = val\n",
    "            quot[den][num] = 1.0/val\n",
    "            quot[num][num] = 1\n",
    "            quot[den][den] = 1\n",
    "        for k in quot:\n",
    "            for i in quot[k]:\n",
    "                for j in quot[k]:\n",
    "                    quot[i][j] = quot[i][k] * quot[k][j]\n",
    "        return [quot[num].get(den, -1.0) for num, den in queries]"
   ]
  }
 ],
 "metadata": {
  "kernelspec": {
   "display_name": "Python 2",
   "language": "python",
   "name": "python2"
  },
  "language_info": {
   "codemirror_mode": {
    "name": "ipython",
    "version": 2
   },
   "file_extension": ".py",
   "mimetype": "text/x-python",
   "name": "python",
   "nbconvert_exporter": "python",
   "pygments_lexer": "ipython2",
   "version": "2.7.12"
  }
 },
 "nbformat": 4,
 "nbformat_minor": 1
}
