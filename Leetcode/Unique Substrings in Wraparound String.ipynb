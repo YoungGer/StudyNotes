{
 "cells": [
  {
   "cell_type": "markdown",
   "metadata": {},
   "source": [
    "Consider the string s to be the infinite wraparound string of \"abcdefghijklmnopqrstuvwxyz\", so s will look like this: \"...zabcdefghijklmnopqrstuvwxyzabcdefghijklmnopqrstuvwxyzabcd....\".\n",
    "\n",
    "Now we have another string p. Your job is to find out how many unique non-empty substrings of p are present in s. In particular, your input is the string p and you need to output the number of different non-empty substrings of p in the string s.\n",
    "\n",
    "Note: p consists of only lowercase English letters and the size of p might be over 10000.\n",
    "\n",
    "Example 1:  \n",
    "Input: \"a\"  \n",
    "Output: 1  \n",
    "Explanation: Only the substring \"a\" of string \"a\" is in the string \u0010s.  \n",
    "\n",
    "Example 2:  \n",
    "Input: \"cac\"  \n",
    "Output: 2\n",
    "Explanation: There are two substrings \"a\", \"c\" of string \"cac\" in the string s.  \n",
    "\n",
    "Example 3:  \n",
    "Input: \"zab\"  \n",
    "Output: 6\n",
    "Explanation: There are six substrings \"z\", \"a\", \"b\", \"za\", \"ab\", \"zab\" of string \"zab\" in the string s."
   ]
  },
  {
   "cell_type": "code",
   "execution_count": null,
   "metadata": {
    "collapsed": true
   },
   "outputs": [],
   "source": [
    "string_dict = {i:j for i,j in zip(\"abcdefghijklmnopqrstuvwxyz\", \"bcdefghijklmnopqrstuvwxyza\")}\n",
    "elem2idx = {j:i for i,j in zip(range(26),'abcdefghijklmnopqrstuvwxyz')}\n",
    "class Solution(object):\n",
    "    def findSubstringInWraproundString(self, p):\n",
    "        \"\"\"\n",
    "        :type p: str\n",
    "        :rtype: int\n",
    "        \"\"\"\n",
    "        dict_list = [0]*26\n",
    "        sub_len,idx = 1,-1\n",
    "        for idx, i in enumerate(p[:-1]):\n",
    "            if string_dict[i]==p[idx+1]:\n",
    "                sub_len += 1\n",
    "            else:\n",
    "                key = p[idx]\n",
    "                update_list(dict_list,key,sub_len)\n",
    "                sub_len = 1\n",
    "        idx += 1\n",
    "        key = p[idx]\n",
    "        update_list(dict_list,key,sub_len)\n",
    "        return sum(dict_list)"
   ]
  },
  {
   "cell_type": "code",
   "execution_count": 240,
   "metadata": {
    "collapsed": true
   },
   "outputs": [],
   "source": [
    "string_dict = {i:j for i,j in zip(\"abcdefghijklmnopqrstuvwxyz\", \"bcdefghijklmnopqrstuvwxyza\")}\n",
    "elem2idx = {j:i for i,j in zip(range(26),'abcdefghijklmnopqrstuvwxyz')}\n",
    "def findSubstringInWraproundString(p):\n",
    "    \"\"\"\n",
    "    :type p: str\n",
    "    :rtype: int\n",
    "    \"\"\"\n",
    "    dict_list = [0]*26\n",
    "    sub_len,idx = 1,-1\n",
    "    for idx, i in enumerate(p[:-1]):\n",
    "        if string_dict[i]==p[idx+1]:\n",
    "            sub_len += 1\n",
    "        else:\n",
    "            key = p[idx]\n",
    "            update_list(dict_list,key,sub_len)\n",
    "            sub_len = 1\n",
    "    idx += 1\n",
    "    key = p[idx]\n",
    "    update_list(dict_list,key,sub_len)\n",
    "    return sum(dict_list)"
   ]
  },
  {
   "cell_type": "code",
   "execution_count": 243,
   "metadata": {
    "collapsed": false
   },
   "outputs": [
    {
     "data": {
      "text/plain": [
       "6"
      ]
     },
     "execution_count": 243,
     "metadata": {},
     "output_type": "execute_result"
    }
   ],
   "source": [
    "findSubstringInWraproundString('zab')"
   ]
  },
  {
   "cell_type": "code",
   "execution_count": 236,
   "metadata": {
    "collapsed": false
   },
   "outputs": [],
   "source": [
    "dict_list = [0]*26\n",
    "elem2idx = {j:i for i,j in zip(range(26),'abcdefghijklmnopqrstuvwxyz')}\n"
   ]
  },
  {
   "cell_type": "code",
   "execution_count": null,
   "metadata": {
    "collapsed": true
   },
   "outputs": [],
   "source": [
    "\n",
    "def find_max_sub_len(p):\n",
    "    \"\"\"\n",
    "    :type p: str\n",
    "    :rtype: int\n",
    "    \"\"\"\n",
    "    max_sub_len = 0\n",
    "    sub_len,idx = 1,-1\n",
    "    for idx, i in enumerate(p[:-1]):\n",
    "        if string_dict[i]==p[idx+1]:\n",
    "            sub_len += 1\n",
    "        else:\n",
    "            if sub_len>max_sub_len:\n",
    "                max_string = p[idx-sub_len+1:idx+1]\n",
    "                max_sub_len=sub_len\n",
    "            sub_len = 1\n",
    "    idx += 1\n",
    "    if sub_len>max_sub_len:\n",
    "        max_sub_len=sub_len\n",
    "        max_string = p[idx-sub_len+1:idx+1]\n",
    "    return max_sub_len, max_string\n",
    "\n",
    "def elinamte_s(p,max_string):\n",
    "    if p in max_string:\n",
    "        return (0,0,0)\n",
    "    f1,f2 = True, True\n",
    "    part1, part2, part31, part32 = [],[],[],[]\n",
    "    for idx,i in enumerate(p):\n",
    "        if i==max_string[0]:\n",
    "            part1 = p[:idx]\n",
    "            f1 = False\n",
    "            break\n",
    "    if f1:\n",
    "        part31 = p\n",
    "    for idx,i in enumerate(p[::-1]):\n",
    "        if i==max_string[-1]:\n",
    "            part2 = p[::-1][:idx][::-1]\n",
    "            f2 = False\n",
    "            break\n",
    "    if f2:\n",
    "        part32 = p\n",
    "    return (len(part1),len(part2),max(len(part31),len(part32)))\n",
    "\n",
    "def find_backsets(p,max_sub_len,max_string):\n",
    "    \"\"\"\n",
    "    :type p: str\n",
    "    :rtype: int\n",
    "    \"\"\"\n",
    "    sub_len,idx = 1,-1\n",
    "    back_sets = []\n",
    "    for idx, i in enumerate(p[:-1]):\n",
    "        if string_dict[i]==p[idx+1]:\n",
    "            sub_len += 1\n",
    "        else:\n",
    "            if sub_len>=max_sub_len-26:\n",
    "                # 这时候是有用的备选组\n",
    "                back_string = p[idx-sub_len+1:idx+1]\n",
    "                #print back_string\n",
    "                back_sets.append(elinamte_s(back_string,max_string))\n",
    "            sub_len = 1\n",
    "    idx += 1\n",
    "    if sub_len>max_sub_len-26:\n",
    "        # 这时候是有用的备选组\n",
    "        back_string = p[idx-sub_len+1:idx+1]\n",
    "        #print back_string\n",
    "        back_sets.append(elinamte_s(back_string,max_string))\n",
    "    return back_sets\n",
    "\n",
    "def calc_nums(back_sets,max_sub_len):\n",
    "    part1 = max_sub_len*(max_sub_len+1)/2\n",
    "    part2 = max(i[0] for i in back_sets)+ max(i[1] for i in back_sets) + max(i[2] for i in back_sets) \n",
    "    return part1+part2\n",
    "\n",
    "\n",
    "class Solution(object):\n",
    "    def findSubstringInWraproundString(self, p):\n",
    "        \"\"\"\n",
    "        :type p: str\n",
    "        :rtype: int\n",
    "        \"\"\"\n",
    "        if p=='':\n",
    "            return 0\n",
    "        max_sub_len,max_string = find_max_sub_len(p)\n",
    "        back_sets = find_backsets(p,max_sub_len,max_string)\n",
    "        return calc_nums(back_sets,max_sub_len)"
   ]
  }
 ],
 "metadata": {
  "kernelspec": {
   "display_name": "Python 2",
   "language": "python",
   "name": "python2"
  },
  "language_info": {
   "codemirror_mode": {
    "name": "ipython",
    "version": 2
   },
   "file_extension": ".py",
   "mimetype": "text/x-python",
   "name": "python",
   "nbconvert_exporter": "python",
   "pygments_lexer": "ipython2",
   "version": "2.7.12"
  }
 },
 "nbformat": 4,
 "nbformat_minor": 0
}
