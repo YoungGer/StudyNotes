{
 "cells": [
  {
   "cell_type": "markdown",
   "metadata": {},
   "source": [
    "# 2.33"
   ]
  },
  {
   "cell_type": "code",
   "execution_count": 52,
   "metadata": {
    "collapsed": false
   },
   "outputs": [],
   "source": [
    "class Solution(object):\n",
    "    def twoSum(self, numbers, target):\n",
    "        \"\"\"\n",
    "        :type numbers: List[int]\n",
    "        :type target: int\n",
    "        :rtype: List[int]\n",
    "        \"\"\"\n",
    "        def bs(i,j,target):\n",
    "            # base case\n",
    "            if j-i==1:\n",
    "                if numbers[i]==target:\n",
    "                    return (True,i)\n",
    "                if numbers[j]==target:\n",
    "                    return (True,j)\n",
    "                return (False,None)\n",
    "            if j-i==0:\n",
    "                return (numbers[i]==target,i)\n",
    "                \n",
    "            m = i + (j-i)/2\n",
    "            if numbers[m]==target:\n",
    "                return (True,m)\n",
    "            if numbers[m]>target:\n",
    "                return bs(i,m,target)\n",
    "            if numbers[m]<target:\n",
    "                return bs(m,j,target)\n",
    "        \n",
    "        for ii,num in enumerate(numbers):\n",
    "            flag,idx = bs(ii+1,len(numbers)-1,target-num)\n",
    "            if flag:\n",
    "                return [ii+1,idx+1]"
   ]
  },
  {
   "cell_type": "code",
   "execution_count": 71,
   "metadata": {
    "collapsed": false
   },
   "outputs": [
    {
     "data": {
      "text/plain": [
       "[2, 3]"
      ]
     },
     "execution_count": 71,
     "metadata": {},
     "output_type": "execute_result"
    }
   ],
   "source": [
    "numbers = [1,4,4,9,10]\n",
    "target = 8\n",
    "a = Solution()\n",
    "a.twoSum(numbers, target)"
   ]
  },
  {
   "cell_type": "markdown",
   "metadata": {},
   "source": [
    "# 4.17 binary search"
   ]
  },
  {
   "cell_type": "code",
   "execution_count": 65,
   "metadata": {
    "collapsed": true
   },
   "outputs": [],
   "source": [
    "class Solution(object):\n",
    "    def twoSum(self, numbers, target):\n",
    "        \"\"\"\n",
    "        :type numbers: List[int]\n",
    "        :type target: int\n",
    "        :rtype: List[int]\n",
    "        \"\"\"\n",
    "        for ii,num in enumerate(numbers):\n",
    "            l, h = ii+1, len(numbers)-1\n",
    "            while l<=h:\n",
    "                m = l + (h-l)//2\n",
    "                if numbers[m] == target-num:\n",
    "                    return [ii+1,m+1]\n",
    "                elif numbers[m] > target-num:\n",
    "                    h = m-1\n",
    "                else:\n",
    "                    l = m+1"
   ]
  },
  {
   "cell_type": "markdown",
   "metadata": {},
   "source": [
    "# 70.78 dictionary"
   ]
  },
  {
   "cell_type": "code",
   "execution_count": 68,
   "metadata": {
    "collapsed": true
   },
   "outputs": [],
   "source": [
    "class Solution(object):\n",
    "    def twoSum(self, numbers, target):\n",
    "        \"\"\"\n",
    "        :type numbers: List[int]\n",
    "        :type target: int\n",
    "        :rtype: List[int]\n",
    "        \"\"\"\n",
    "        d = {}\n",
    "        for i,num in enumerate(numbers):\n",
    "            if target-num in d:\n",
    "                return [d[target-num]+1,i+1]\n",
    "            else:\n",
    "                d[num] = i"
   ]
  },
  {
   "cell_type": "markdown",
   "metadata": {},
   "source": [
    "# 70.78 two pointers"
   ]
  },
  {
   "cell_type": "code",
   "execution_count": 70,
   "metadata": {
    "collapsed": true
   },
   "outputs": [],
   "source": [
    "class Solution(object):\n",
    "    def twoSum(self, numbers, target):\n",
    "        \"\"\"\n",
    "        :type numbers: List[int]\n",
    "        :type target: int\n",
    "        :rtype: List[int]\n",
    "        \"\"\"\n",
    "        l, r = 0, len(numbers)-1\n",
    "        while l<r:\n",
    "            s = numbers[l]+numbers[r]\n",
    "            if s == target:\n",
    "                return [l+1,r+1]\n",
    "            elif s>target:\n",
    "                r -= 1\n",
    "            else:\n",
    "                l += 1"
   ]
  }
 ],
 "metadata": {
  "kernelspec": {
   "display_name": "Python 2",
   "language": "python",
   "name": "python2"
  },
  "language_info": {
   "codemirror_mode": {
    "name": "ipython",
    "version": 2
   },
   "file_extension": ".py",
   "mimetype": "text/x-python",
   "name": "python",
   "nbconvert_exporter": "python",
   "pygments_lexer": "ipython2",
   "version": "2.7.12"
  }
 },
 "nbformat": 4,
 "nbformat_minor": 0
}
