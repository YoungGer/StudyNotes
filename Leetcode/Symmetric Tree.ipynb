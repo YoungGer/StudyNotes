{
 "cells": [
  {
   "cell_type": "markdown",
   "metadata": {},
   "source": [
    "# Symmetric Tree\n",
    "\n",
    "难度：简单  \n",
    "考点：Tree, DFS, BFS\n",
    "\n",
    "收获：\n",
    "\n",
    "- 想要树对称的话，可以从左右两支，按照不同的方向向下做DFS，然后看看左右两边的结果是不是一样的。\n",
    "- 另一种迭代的思路，将每一行的节点放在数组中，只不过要根据一定的顺序，然后每回合以此检查最外面的两个是否相等。\n",
    "\n",
    "\n",
    "问题描述：\n",
    "\n",
    "Given a binary tree, check whether it is a mirror of itself (ie, symmetric around its center)."
   ]
  },
  {
   "cell_type": "code",
   "execution_count": 15,
   "metadata": {
    "collapsed": false
   },
   "outputs": [],
   "source": [
    "def dfs_left(root,m=[]):\n",
    "    if root==None:\n",
    "        m.append(-1)\n",
    "        return None\n",
    "    # 放入数组里面\n",
    "    m.append(root.val)\n",
    "    # 先左支再右支\n",
    "    dfs_left(root.left,m=m)\n",
    "    dfs_left(root.right,m=m)\n",
    "def dfs_right(root,m=[]):\n",
    "    if root==None:\n",
    "        m.append(-1)\n",
    "        return None\n",
    "    # 放入数组里面\n",
    "    m.append(root.val)\n",
    "    # 先右支再左支\n",
    "    dfs_right(root.right,m=m)\n",
    "    dfs_right(root.left,m=m)\n",
    "\n",
    "class Solution(object):\n",
    "    def isSymmetric(self, root):\n",
    "        \"\"\"\n",
    "        :type root: TreeNode\n",
    "        :rtype: bool\n",
    "        \"\"\"\n",
    "        # 特殊情况\n",
    "        if root==None:\n",
    "            return True\n",
    "        # 正常情况\n",
    "        left_list = []\n",
    "        right_list = []\n",
    "        dfs_left(root.left,left_list)\n",
    "        dfs_right(root.right,right_list)\n",
    "        if left_list==right_list:\n",
    "            return True\n",
    "        else:\n",
    "            return False"
   ]
  }
 ],
 "metadata": {
  "kernelspec": {
   "display_name": "Python 2",
   "language": "python",
   "name": "python2"
  },
  "language_info": {
   "codemirror_mode": {
    "name": "ipython",
    "version": 2
   },
   "file_extension": ".py",
   "mimetype": "text/x-python",
   "name": "python",
   "nbconvert_exporter": "python",
   "pygments_lexer": "ipython2",
   "version": "2.7.12"
  }
 },
 "nbformat": 4,
 "nbformat_minor": 0
}
