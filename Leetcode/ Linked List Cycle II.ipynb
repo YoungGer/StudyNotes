{
 "cells": [
  {
   "cell_type": "markdown",
   "metadata": {},
   "source": [
    "Given a linked list, return the node where the cycle begins. If there is no cycle, return null.\n",
    "\n",
    "Note: Do not modify the linked list.\n",
    "\n",
    "Follow up:\n",
    "Can you solve it without using extra space?\n",
    "\n",
    "Reference:  \n",
    "Tortoise and hare: https://en.wikipedia.org/wiki/Cycle_detection#Tortoise_and_hare"
   ]
  },
  {
   "cell_type": "code",
   "execution_count": 2,
   "metadata": {
    "collapsed": false
   },
   "outputs": [],
   "source": [
    "class Solution(object):\n",
    "    def detectCycle(self, head):\n",
    "        try:\n",
    "            slow,fast = head, head.next\n",
    "            while slow is not fast:\n",
    "                slow = slow.next\n",
    "                fast = fast.next.next\n",
    "            # cycle exists at this point\n",
    "            # slow points to the k*lambda (lambda means cycle length)\n",
    "            # Then, from the link-list head, each time plus 1 until\n",
    "            # list(i) = list(i+k*lambda) so that we find the cycle entrance\n",
    "            # since fast starts at head.next, we need to move slow one step forward\n",
    "            while head is not slow:\n",
    "                head = head.next\n",
    "                slow = slow.next\n",
    "            return head\n",
    "        except:\n",
    "            return None"
   ]
  }
 ],
 "metadata": {
  "kernelspec": {
   "display_name": "Python 2",
   "language": "python",
   "name": "python2"
  },
  "language_info": {
   "codemirror_mode": {
    "name": "ipython",
    "version": 2
   },
   "file_extension": ".py",
   "mimetype": "text/x-python",
   "name": "python",
   "nbconvert_exporter": "python",
   "pygments_lexer": "ipython2",
   "version": "2.7.12"
  }
 },
 "nbformat": 4,
 "nbformat_minor": 0
}
