{
 "cells": [
  {
   "cell_type": "code",
   "execution_count": 9,
   "metadata": {
    "collapsed": false
   },
   "outputs": [],
   "source": [
    "class Solution(object):\n",
    "    def findRadius(self, houses, heaters):\n",
    "        \"\"\"\n",
    "        :type houses: List[int]\n",
    "        :type heaters: List[int]\n",
    "        :rtype: int\n",
    "        \"\"\"\n",
    "        # 对于每个house都有个最近的heater\n",
    "        heaters.sort()\n",
    "        \n",
    "        def find_closest_heater(h,i,j):\n",
    "            # base case\n",
    "            if j-i<=2:\n",
    "                return min(abs(heaters[k]-h) for k in range(i,j+1))\n",
    "            \n",
    "            if heaters[(i+j)/2]==h:\n",
    "                return 0\n",
    "            elif heaters[(i+j)/2]>h:\n",
    "                return find_closest_heater(h,i,(i+j)/2)\n",
    "            else:\n",
    "                return find_closest_heater(h,(i+j)/2,j)\n",
    "                \n",
    "        rst = -1\n",
    "        for h in houses:\n",
    "            closest_heater = find_closest_heater(h,i,j)\n",
    "            if closest_heater>rst:\n",
    "                rst = closest_heater\n",
    "        return rst"
   ]
  }
 ],
 "metadata": {
  "kernelspec": {
   "display_name": "Python 2",
   "language": "python",
   "name": "python2"
  },
  "language_info": {
   "codemirror_mode": {
    "name": "ipython",
    "version": 2
   },
   "file_extension": ".py",
   "mimetype": "text/x-python",
   "name": "python",
   "nbconvert_exporter": "python",
   "pygments_lexer": "ipython2",
   "version": "2.7.12"
  }
 },
 "nbformat": 4,
 "nbformat_minor": 1
}
