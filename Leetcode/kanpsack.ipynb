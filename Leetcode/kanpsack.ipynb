{
 "cells": [
  {
   "cell_type": "markdown",
   "metadata": {},
   "source": [
    "# small data"
   ]
  },
  {
   "cell_type": "code",
   "execution_count": 58,
   "metadata": {
    "collapsed": true
   },
   "outputs": [],
   "source": [
    "d = np.loadtxt(\"./data/knapsack1.txt\")"
   ]
  },
  {
   "cell_type": "code",
   "execution_count": 59,
   "metadata": {
    "collapsed": false
   },
   "outputs": [
    {
     "name": "stdout",
     "output_type": "stream",
     "text": [
      "W:  10000.0\n",
      "N:  100.0\n",
      "100\n"
     ]
    }
   ],
   "source": [
    "W, N = d[0,:]\n",
    "d = d[1:,:]\n",
    "print 'W: ', W\n",
    "print 'N: ', N\n",
    "print len(d)"
   ]
  },
  {
   "cell_type": "code",
   "execution_count": 71,
   "metadata": {
    "collapsed": false
   },
   "outputs": [
    {
     "name": "stderr",
     "output_type": "stream",
     "text": [
      "C:\\Users\\younggy\\Anaconda\\lib\\site-packages\\ipykernel\\__main__.py:2: VisibleDeprecationWarning: using a non-integer number instead of an integer will result in an error in the future\n",
      "  from ipykernel import kernelapp as app\n",
      "C:\\Users\\younggy\\Anaconda\\lib\\site-packages\\ipykernel\\__main__.py:9: VisibleDeprecationWarning: using a non-integer number instead of an integer will result in an error in the future\n"
     ]
    }
   ],
   "source": [
    "# initial\n",
    "A = np.zeros((N+1,W+1))\n",
    "for x in range(int(W+1)):\n",
    "    A[0,x] = 0\n",
    "# iterate\n",
    "for i in range(1,int(N+1)):\n",
    "    for x in range(int(W+1)):\n",
    "        vi,wi = d[i-1,:]\n",
    "        A[i,x] = max(A[i-1,x], A[i-1,x-wi]+vi)"
   ]
  },
  {
   "cell_type": "code",
   "execution_count": 73,
   "metadata": {
    "collapsed": false
   },
   "outputs": [
    {
     "data": {
      "text/plain": [
       "4488056.0"
      ]
     },
     "execution_count": 73,
     "metadata": {},
     "output_type": "execute_result"
    }
   ],
   "source": [
    "A[-1,-1]"
   ]
  },
  {
   "cell_type": "markdown",
   "metadata": {},
   "source": [
    "# big data"
   ]
  },
  {
   "cell_type": "code",
   "execution_count": 74,
   "metadata": {
    "collapsed": false
   },
   "outputs": [
    {
     "name": "stdout",
     "output_type": "stream",
     "text": [
      "W:  2000000.0\n",
      "N:  2000.0\n",
      "2000\n"
     ]
    }
   ],
   "source": [
    "d = np.loadtxt(\"./data/knapsack_big.txt\")\n",
    "W, N = d[0,:]\n",
    "d = d[1:,:]\n",
    "print 'W: ', W\n",
    "print 'N: ', N\n",
    "print len(d)"
   ]
  },
  {
   "cell_type": "code",
   "execution_count": 75,
   "metadata": {
    "collapsed": false
   },
   "outputs": [
    {
     "name": "stdout",
     "output_type": "stream",
     "text": [
      "2493893\n",
      "4243395\n"
     ]
    }
   ],
   "source": [
    "from operator import itemgetter\n",
    "\n",
    "import sys\n",
    "\n",
    "\n",
    "class Knapsack:\n",
    "    def __init__(self, input_file):\n",
    "        self.value = 0\n",
    "        self._cache = {}\n",
    "        with open(input_file, \"r\") as file:\n",
    "            self._weight, item_count = (int(num) for num in file.readline().split())\n",
    "            self._items = [None] * item_count\n",
    "            for index in range(item_count):\n",
    "                value, weight = (int(num) for num in file.readline().split())\n",
    "                self._items[index] = Item(value, weight)\n",
    "        self.value = self._compute_value(self._weight, item_count - 1)\n",
    "\n",
    "    def _compute_value(self, weight, index):\n",
    "        if weight == 0 or index == -1:\n",
    "            return 0\n",
    "        item = self._items[index]\n",
    "        if item.weight > weight:\n",
    "            if (weight, index - 1) not in self._cache:\n",
    "                self._cache[(weight, index - 1)] = self._compute_value(weight, index - 1)\n",
    "            return self._cache[(weight, index - 1)]\n",
    "        else:\n",
    "            if (weight - item.weight, index - 1) not in self._cache:\n",
    "                self._cache[(weight - item.weight, index - 1)] = self._compute_value(weight - item.weight, index - 1)\n",
    "            solution_including_this_item = item.value + self._cache[(weight - item.weight, index - 1)]\n",
    "            if (weight, index - 1) not in self._cache:\n",
    "                self._cache[(weight, index - 1)] = self._compute_value(weight, index - 1)\n",
    "            solution_without_this_item = self._cache[(weight, index - 1)]\n",
    "            return max(solution_including_this_item, solution_without_this_item)\n",
    "\n",
    "\n",
    "class Item(tuple):\n",
    "    __slots__ = []\n",
    "\n",
    "    def __new__(cls, value, weight):\n",
    "        return tuple.__new__(cls, (value, weight))\n",
    "\n",
    "    value = property(itemgetter(0))\n",
    "    weight = property(itemgetter(1))\n",
    "\n",
    "if __name__ == \"__main__\":\n",
    "    sys.setrecursionlimit(3000)\n",
    "    knapsack = Knapsack(\"./data/knapsack1.txt\")\n",
    "    print(knapsack.value)\n",
    "\n",
    "    knapsack_big = Knapsack(\"./data/knapsack_big.txt\")\n",
    "    print(knapsack_big.value)"
   ]
  }
 ],
 "metadata": {
  "kernelspec": {
   "display_name": "Python 2",
   "language": "python",
   "name": "python2"
  },
  "language_info": {
   "codemirror_mode": {
    "name": "ipython",
    "version": 2
   },
   "file_extension": ".py",
   "mimetype": "text/x-python",
   "name": "python",
   "nbconvert_exporter": "python",
   "pygments_lexer": "ipython2",
   "version": "2.7.12"
  }
 },
 "nbformat": 4,
 "nbformat_minor": 0
}
