{
 "cells": [
  {
   "cell_type": "code",
   "execution_count": 29,
   "metadata": {
    "collapsed": true
   },
   "outputs": [],
   "source": [
    "class Solution(object):\n",
    "    def generateMatrix(self, n):\n",
    "        \"\"\"\n",
    "        :type n: int\n",
    "        :rtype: List[List[int]]\n",
    "        \"\"\"\n",
    "        if n<=0: return []\n",
    "        \n",
    "        def helper(mat):\n",
    "            n = len(mat)+2\n",
    "            mat = map(lambda l: map(lambda x: x+4*n-4,l), mat)\n",
    "            mat = [range(2,n)] + mat + [range(3*n-3,2*n-1,-1)]\n",
    "            for idx,row in enumerate(mat):\n",
    "                if idx==0: \n",
    "                    mat[idx] = [1]+row+[n]\n",
    "                    continue\n",
    "                mat[idx] = [4*n-3-idx]+row+[n+idx]\n",
    "            return mat\n",
    "        if n%2!=0:\n",
    "            # odd\n",
    "            mat = [[1]]\n",
    "        else:\n",
    "            # even\n",
    "            mat = [[1,2],[4,3]]\n",
    "        while len(mat)!=n:\n",
    "            mat = helper(mat)\n",
    "        return mat"
   ]
  }
 ],
 "metadata": {
  "kernelspec": {
   "display_name": "Python 2",
   "language": "python",
   "name": "python2"
  },
  "language_info": {
   "codemirror_mode": {
    "name": "ipython",
    "version": 2
   },
   "file_extension": ".py",
   "mimetype": "text/x-python",
   "name": "python",
   "nbconvert_exporter": "python",
   "pygments_lexer": "ipython2",
   "version": "2.7.12"
  }
 },
 "nbformat": 4,
 "nbformat_minor": 1
}
