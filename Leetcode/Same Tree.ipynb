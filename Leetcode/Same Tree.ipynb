{
 "cells": [
  {
   "cell_type": "markdown",
   "metadata": {},
   "source": [
    "# Same Tree\n",
    "\n",
    "难度：简单  \n",
    "考点：Tree, DFS\n",
    "\n",
    "收获：\n",
    "\n",
    "- 需要处理极限值。\n",
    "- 注意not None 和 not 0 和 not 1的区别。\n",
    "- 两个树相等的条件：左右两支都相等，节点值相等。\n",
    "- 判断两个树相等用递归的方法就可以，反正都要到叶节点。\n",
    "\n",
    "\n",
    "问题描述：\n",
    "\n",
    "Given a binary tree and a sum, determine if the tree has a root-to-leaf path such that adding up all the values along the path equals the given sum."
   ]
  },
  {
   "cell_type": "code",
   "execution_count": 21,
   "metadata": {
    "collapsed": true
   },
   "outputs": [],
   "source": [
    "class Solution(object):\n",
    "    def isSameTree(self, p, q):\n",
    "        \"\"\"\n",
    "        :type p: TreeNode\n",
    "        :type q: TreeNode\n",
    "        :rtype: bool\n",
    "        \"\"\"\n",
    "        # 特殊情况处理\n",
    "        # 两个都是空的\n",
    "        if (p==None) and (q==None):\n",
    "            return True\n",
    "        # 一个空一个不空\n",
    "        if (p==None and q != None) or  (q==None and p != None):\n",
    "            return False\n",
    "        # 边界情况，都到底了\n",
    "        if ((not p.right) and (not q.right) and (not p.left) and (not q.left)):\n",
    "            if p.val==q.val:\n",
    "                return True\n",
    "            else:\n",
    "                return False\n",
    "        return self.isSameTree(p.left,q.left) and self.isSameTree(p.right,q.right) and p.val==q.val"
   ]
  }
 ],
 "metadata": {
  "kernelspec": {
   "display_name": "Python 2",
   "language": "python",
   "name": "python2"
  },
  "language_info": {
   "codemirror_mode": {
    "name": "ipython",
    "version": 2
   },
   "file_extension": ".py",
   "mimetype": "text/x-python",
   "name": "python",
   "nbconvert_exporter": "python",
   "pygments_lexer": "ipython2",
   "version": "2.7.12"
  }
 },
 "nbformat": 4,
 "nbformat_minor": 0
}
