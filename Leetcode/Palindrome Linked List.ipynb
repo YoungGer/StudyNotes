{
 "cells": [
  {
   "cell_type": "markdown",
   "metadata": {},
   "source": [
    "# O(n) time and O(1) space"
   ]
  },
  {
   "cell_type": "code",
   "execution_count": 10,
   "metadata": {
    "collapsed": true
   },
   "outputs": [],
   "source": [
    "# Definition for singly-linked list.\n",
    "# class ListNode(object):\n",
    "#     def __init__(self, x):\n",
    "#         self.val = x\n",
    "#         self.next = None\n",
    "\n",
    "class Solution(object):\n",
    "    def isPalindrome(self, head):\n",
    "        \"\"\"\n",
    "        :type head: ListNode\n",
    "        :rtype: bool\n",
    "        \"\"\"\n",
    "        if not head:\n",
    "            return True\n",
    "        fast = slow = head\n",
    "        pre = None\n",
    "        # 找到中点，边找变将左边链表反序\n",
    "        while fast.next!=None and fast.next.next!=None:     \n",
    "            print fast.val\n",
    "            fast = fast.next.next\n",
    "            slow.next, slow, pre = pre, slow.next, slow\n",
    "        # 判断是否回文\n",
    "        if not fast.next:\n",
    "            #是奇数\n",
    "            s1,s2 = pre,slow.next\n",
    "        else:\n",
    "            #是偶数\n",
    "            s2,s1,slow.next = slow.next,slow,pre\n",
    "        while s1 or s2:\n",
    "            if s1.val!=s2.val:\n",
    "                return False\n",
    "            s1,s2 = s1.next,s2.next\n",
    "        return not s1 and not s2"
   ]
  }
 ],
 "metadata": {
  "kernelspec": {
   "display_name": "Python 2",
   "language": "python",
   "name": "python2"
  },
  "language_info": {
   "codemirror_mode": {
    "name": "ipython",
    "version": 2
   },
   "file_extension": ".py",
   "mimetype": "text/x-python",
   "name": "python",
   "nbconvert_exporter": "python",
   "pygments_lexer": "ipython2",
   "version": "2.7.12"
  }
 },
 "nbformat": 4,
 "nbformat_minor": 1
}
