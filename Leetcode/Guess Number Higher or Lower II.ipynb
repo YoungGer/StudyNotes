{
 "cells": [
  {
   "cell_type": "markdown",
   "metadata": {},
   "source": [
    "# Guess Number Higher or Lower II\n",
    "\n",
    "难度：中等\n",
    "考点：Dynamic Programming\n",
    "\n",
    "收获：\n",
    "\n",
    "- 动态规划的由来，首先可以遍历穷尽解决问题，然后针对遍历穷举中的重复计算使用内存化加快速度，最后深入分析问题，找到问题都需要计算些什么，然后提前计算出来。\n",
    "\n",
    "\n",
    "问题描述：\n",
    "\n",
    "We are playing the Guess Game. The game is as follows:\n",
    "\n",
    "I pick a number from 1 to n. You have to guess which number I picked.\n",
    "\n",
    "Every time you guess wrong, I'll tell you whether the number I picked is higher or lower.\n",
    "\n",
    "However, when you guess a particular number x, and you guess wrong, you pay $x. You win the game when you guess the number I picked.\n",
    "\n",
    "**Example**\n",
    ">n = 10, I pick 8.  \n",
    "First round:  You guess 5, I tell you that it's higher. You pay 5.  \n",
    "Second round: You guess 7, I tell you that it's higher. You pay 7.  \n",
    "Third round:  You guess 9, I tell you that it's lower. You pay 9.  \n",
    "Game over. 8 is the number I picked.  \n",
    "You end up paying 5 + 7 + 9 = 21.\n",
    "\n",
    "Given a particular n ≥ 1, find out how much money you need to have to guarantee a win."
   ]
  },
  {
   "cell_type": "markdown",
   "metadata": {},
   "source": [
    "# Memorizing"
   ]
  },
  {
   "cell_type": "code",
   "execution_count": 217,
   "metadata": {
    "collapsed": false
   },
   "outputs": [],
   "source": [
    "def getMoneyAmount(n):\n",
    "    \"\"\"\n",
    "    :type n: int\n",
    "    :rtype: int\n",
    "    \"\"\"\n",
    "    # 预设置矩阵\n",
    "    t = [[-1]*(n+1) for i in range(n+1)]\n",
    "    return(getMoneyAmount2(1,n,t))\n",
    "def getMoneyAmount2(l,u,t):\n",
    "    # 确定l和u在取值范围\n",
    "    if(l>=u+1 or u>=u+1):\n",
    "        return(float('inf'))\n",
    "    # 当t中不存在时需要赋值，所以需要包含基础情况和递归式\n",
    "    if(t[l][u]==-1):\n",
    "        # 基础情况\n",
    "        if(u-l<0):\n",
    "            return(float('inf'))\n",
    "        if(u-l==0):\n",
    "            t[l][u] = 0\n",
    "            return(0)\n",
    "        if(u-l==1):\n",
    "            t[l][u] = l\n",
    "            return(l)\n",
    "        if(u-l==2):\n",
    "            t[l][u] = l+1\n",
    "            return(l+1)\n",
    "        # 递归\n",
    "        t[l][u] = min([i + max(getMoneyAmount2(l,i-1,t),getMoneyAmount2(i+1,u,t)) for i in range(l,u+1)])\n",
    "        return(t[l][u])\n",
    "    else:\n",
    "        return(t[l][u])"
   ]
  },
  {
   "cell_type": "code",
   "execution_count": 219,
   "metadata": {
    "collapsed": false
   },
   "outputs": [
    {
     "data": {
      "text/plain": [
       "16"
      ]
     },
     "execution_count": 219,
     "metadata": {},
     "output_type": "execute_result"
    }
   ],
   "source": [
    "getMoneyAmount(10)"
   ]
  },
  {
   "cell_type": "markdown",
   "metadata": {},
   "source": [
    "# DP"
   ]
  },
  {
   "cell_type": "code",
   "execution_count": 245,
   "metadata": {
    "collapsed": true
   },
   "outputs": [],
   "source": [
    "def getMoneyAmount(n):\n",
    "    \"\"\"\n",
    "    :type n: int\n",
    "    :rtype: int\n",
    "    \"\"\"\n",
    "    # 预设置矩阵\n",
    "    t = [[0]*(n+1) for i in range(n+1)]\n",
    "    # DP核心，计算t的值\n",
    "    for j in range(2,n+1):\n",
    "        for i in range(j-1,0,-1):\n",
    "            t[i][j] = min([k+max(t[i][k-1],t[k+1][j]) for k in range(i,j)])\n",
    "    return(t[1][n])"
   ]
  },
  {
   "cell_type": "code",
   "execution_count": 246,
   "metadata": {
    "collapsed": false
   },
   "outputs": [
    {
     "data": {
      "text/plain": [
       "16"
      ]
     },
     "execution_count": 246,
     "metadata": {},
     "output_type": "execute_result"
    }
   ],
   "source": [
    "getMoneyAmount(10)"
   ]
  }
 ],
 "metadata": {
  "kernelspec": {
   "display_name": "Python 2",
   "language": "python",
   "name": "python2"
  },
  "language_info": {
   "codemirror_mode": {
    "name": "ipython",
    "version": 2
   },
   "file_extension": ".py",
   "mimetype": "text/x-python",
   "name": "python",
   "nbconvert_exporter": "python",
   "pygments_lexer": "ipython2",
   "version": "2.7.12"
  }
 },
 "nbformat": 4,
 "nbformat_minor": 0
}
