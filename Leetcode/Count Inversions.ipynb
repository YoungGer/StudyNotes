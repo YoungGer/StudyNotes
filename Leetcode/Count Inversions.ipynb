{
 "cells": [
  {
   "cell_type": "markdown",
   "metadata": {},
   "source": [
    "# Count Inversions\n",
    "\n",
    "可以用merge sort的思想，只不过在merge的过程中增加一个计算参数的步骤罢了。"
   ]
  },
  {
   "cell_type": "code",
   "execution_count": 34,
   "metadata": {
    "collapsed": true
   },
   "outputs": [],
   "source": [
    "def CountSplit(left,right):\n",
    "    left = sorted(left)\n",
    "    right = sorted(right)\n",
    "    \n",
    "    # 处理特殊情况\n",
    "    if len(left)==0 or len(right)==0:\n",
    "        return 0\n",
    "    i = 0\n",
    "    j = 0\n",
    "    count = 0\n",
    "    for k in range(len(left)+len(right)):\n",
    "        # 处理特殊情况\n",
    "        if i>=len(left) or j>=len(right):\n",
    "            break\n",
    "        # 正常处理\n",
    "        if left[i]<=right[j]:\n",
    "            i += 1\n",
    "        else:\n",
    "            # debug\n",
    "            # print (right[j],left[i:])\n",
    "            j += 1\n",
    "            count += len(left)-i\n",
    "    return count"
   ]
  },
  {
   "cell_type": "code",
   "execution_count": 35,
   "metadata": {
    "collapsed": true
   },
   "outputs": [],
   "source": [
    "def CountInvensions(x):\n",
    "    # 处理特殊情况\n",
    "    if len(x)<=1:\n",
    "        return 0\n",
    "    \n",
    "    n = len(x)\n",
    "    left = x[:n//2]\n",
    "    right = x[n//2:]\n",
    "\n",
    "    c1 = CountInvensions(left)\n",
    "    c2 = CountInvensions(right)\n",
    "    c3 = CountSplit(left,right)\n",
    "    \n",
    "    return(c1+c2+c3)"
   ]
  }
 ],
 "metadata": {
  "kernelspec": {
   "display_name": "Python 2",
   "language": "python",
   "name": "python2"
  },
  "language_info": {
   "codemirror_mode": {
    "name": "ipython",
    "version": 2
   },
   "file_extension": ".py",
   "mimetype": "text/x-python",
   "name": "python",
   "nbconvert_exporter": "python",
   "pygments_lexer": "ipython2",
   "version": "2.7.12"
  }
 },
 "nbformat": 4,
 "nbformat_minor": 0
}
